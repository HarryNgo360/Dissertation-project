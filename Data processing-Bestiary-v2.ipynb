{
 "cells": [
  {
   "cell_type": "code",
   "execution_count": null,
   "id": "367cb4be",
   "metadata": {},
   "outputs": [],
   "source": [
    "# https://github.com/fcampelo/EC-Bestiary/blob/master/analysis_files/data/00_bestiaryDF.csv\n",
    "# https://stackoverflow.com/questions/70438752/dynamic-node-sizes-in-pyvis\n",
    "\n",
    "# https://pyvis.readthedocs.io/en/latest/tutorial.html#node-properties"
   ]
  },
  {
   "cell_type": "markdown",
   "id": "8f0d98f5",
   "metadata": {},
   "source": [
    "## Data processing"
   ]
  },
  {
   "cell_type": "code",
   "execution_count": null,
   "id": "fca46833",
   "metadata": {
    "scrolled": true
   },
   "outputs": [],
   "source": [
    "import pandas as pd \n",
    "\n",
    "df = pd.read_excel('00_bestiaryDF.xlsx')\n",
    "df\n"
   ]
  },
  {
   "cell_type": "code",
   "execution_count": null,
   "id": "70c39836",
   "metadata": {},
   "outputs": [],
   "source": [
    "def shortname(name_str):\n",
    "    name_str = name_str.lower().strip()\n",
    "#     first_letter = name_str[0]\n",
    "#     first_letter = '.'+first_letter\n",
    "    temp = name_str.split(' ')\n",
    "    firstname = temp[0].replace('.','')\n",
    "    surname = temp[-1]\n",
    "    shortname_string = surname + ' ' + firstname\n",
    "    return shortname_string"
   ]
  },
  {
   "cell_type": "code",
   "execution_count": null,
   "id": "147daa94",
   "metadata": {},
   "outputs": [],
   "source": [
    "df['Short names'] = ''\n",
    "for index, row in df.iterrows():\n",
    "    tmp = row['Author']\n",
    "    tmp = tmp.split(';')\n",
    "    shortname_list = [shortname(author) for author in tmp]\n",
    "    df.loc[index, 'Short names'] = '; '.join(author for author in shortname_list)"
   ]
  },
  {
   "cell_type": "code",
   "execution_count": null,
   "id": "7a5dce56",
   "metadata": {
    "scrolled": true
   },
   "outputs": [],
   "source": [
    "df.head()"
   ]
  },
  {
   "cell_type": "markdown",
   "id": "345abe58",
   "metadata": {},
   "source": [
    "## Adjacency matrix construction"
   ]
  },
  {
   "cell_type": "code",
   "execution_count": null,
   "id": "60fa0b00",
   "metadata": {},
   "outputs": [],
   "source": [
    "list_author_short = []\n",
    "for index, row in df.iterrows():\n",
    "    tmp = row['Short names']\n",
    "    tmp = tmp.split(';')\n",
    "    [list_author_short.append(author.strip()) for author in tmp]"
   ]
  },
  {
   "cell_type": "code",
   "execution_count": null,
   "id": "82f19f0a",
   "metadata": {},
   "outputs": [],
   "source": [
    "print(list_author_short)"
   ]
  },
  {
   "cell_type": "code",
   "execution_count": null,
   "id": "da9f5c4d",
   "metadata": {},
   "outputs": [],
   "source": [
    "len(list_author_short)"
   ]
  },
  {
   "cell_type": "code",
   "execution_count": null,
   "id": "3604fdf8",
   "metadata": {},
   "outputs": [],
   "source": [
    "main_author_abbre = []\n",
    "co_author_abbre = []\n",
    "remaining_author_list = []\n",
    "author_count = 0\n",
    "for index, row in df.iterrows():\n",
    "    tmp1 = row['Short names']\n",
    "    tmp1 = tmp1.split(';')\n",
    "    main_author_abbre.append(tmp1[0])\n",
    "#     co_author_abbre.app\n",
    "    tmp2 = tmp1[1:len(tmp1)]\n",
    "    author_count += len(tmp2)\n",
    "    remaining_author_list.append(tmp2)\n",
    "#     [remaining_author_list.append(tmp3) for tmp3 in tmp2]\n",
    "#     tmp1 = tmp1[0]\n",
    "#     [main_author_abbre.append(author.strip())]\n",
    "tmp1"
   ]
  },
  {
   "cell_type": "code",
   "execution_count": null,
   "id": "ef785d60",
   "metadata": {},
   "outputs": [],
   "source": [
    "tmp1"
   ]
  },
  {
   "cell_type": "code",
   "execution_count": null,
   "id": "993619fe",
   "metadata": {},
   "outputs": [],
   "source": [
    "author_count"
   ]
  },
  {
   "cell_type": "code",
   "execution_count": null,
   "id": "417f1a5c",
   "metadata": {},
   "outputs": [],
   "source": [
    "remaining_author_list"
   ]
  },
  {
   "cell_type": "code",
   "execution_count": null,
   "id": "68f3df12",
   "metadata": {},
   "outputs": [],
   "source": [
    "#remaining_author_list.flat"
   ]
  },
  {
   "cell_type": "code",
   "execution_count": null,
   "id": "27666b84",
   "metadata": {},
   "outputs": [],
   "source": [
    "main_author_abbre"
   ]
  },
  {
   "cell_type": "code",
   "execution_count": null,
   "id": "1ee0159d",
   "metadata": {},
   "outputs": [],
   "source": [
    "len(main_author_abbre)"
   ]
  },
  {
   "cell_type": "code",
   "execution_count": null,
   "id": "a331ff4d",
   "metadata": {},
   "outputs": [],
   "source": [
    "len(remaining_author_list)"
   ]
  },
  {
   "cell_type": "code",
   "execution_count": null,
   "id": "f8928619",
   "metadata": {},
   "outputs": [],
   "source": [
    "list_author_uniq2 = list(dict.fromkeys(list_author_short)) # remove the duplicates from the list of authors' abbreviation"
   ]
  },
  {
   "cell_type": "code",
   "execution_count": null,
   "id": "575bbc97",
   "metadata": {},
   "outputs": [],
   "source": [
    "list_author_uniq2"
   ]
  },
  {
   "cell_type": "code",
   "execution_count": null,
   "id": "7c8596af",
   "metadata": {},
   "outputs": [],
   "source": [
    "len(list_author_uniq2)"
   ]
  },
  {
   "cell_type": "code",
   "execution_count": null,
   "id": "2be185ea",
   "metadata": {},
   "outputs": [],
   "source": [
    "list_author = []\n",
    "for index, row in df.iterrows():\n",
    "    tmp = row['Author']\n",
    "    tmp = tmp.split(';')\n",
    "    [list_author.append(author.strip()) for author in tmp]"
   ]
  },
  {
   "cell_type": "code",
   "execution_count": null,
   "id": "66920565",
   "metadata": {},
   "outputs": [],
   "source": [
    "list_author"
   ]
  },
  {
   "cell_type": "code",
   "execution_count": null,
   "id": "9994846f",
   "metadata": {},
   "outputs": [],
   "source": [
    "len(list_author)"
   ]
  },
  {
   "cell_type": "code",
   "execution_count": null,
   "id": "a2e408fc",
   "metadata": {},
   "outputs": [],
   "source": [
    "list_author_uniq1 = list(dict.fromkeys(list_author))\n",
    "list_author_uniq1"
   ]
  },
  {
   "cell_type": "code",
   "execution_count": null,
   "id": "4a7f780d",
   "metadata": {},
   "outputs": [],
   "source": [
    "len(list_author_uniq1)"
   ]
  },
  {
   "cell_type": "code",
   "execution_count": null,
   "id": "a5c749fd",
   "metadata": {},
   "outputs": [],
   "source": [
    "tmp = df.loc[9,'Short names']"
   ]
  },
  {
   "cell_type": "code",
   "execution_count": null,
   "id": "16ece67a",
   "metadata": {},
   "outputs": [],
   "source": [
    "tmp = tmp.split(';')\n",
    "tmp = [author.strip() for author in tmp]\n",
    "tmp"
   ]
  },
  {
   "cell_type": "code",
   "execution_count": null,
   "id": "6a95d23c",
   "metadata": {},
   "outputs": [],
   "source": [
    "list_author_uniq2.index(tmp[0])"
   ]
  },
  {
   "cell_type": "code",
   "execution_count": null,
   "id": "bc2b05d1",
   "metadata": {},
   "outputs": [],
   "source": [
    "list_author_uniq2.index(tmp[1])"
   ]
  },
  {
   "cell_type": "code",
   "execution_count": null,
   "id": "dd69092d",
   "metadata": {},
   "outputs": [],
   "source": [
    "list_author_uniq2.index(tmp[2])"
   ]
  },
  {
   "cell_type": "code",
   "execution_count": null,
   "id": "5bc8b487",
   "metadata": {},
   "outputs": [],
   "source": [
    "import numpy as np"
   ]
  },
  {
   "cell_type": "code",
   "execution_count": null,
   "id": "47c1065e",
   "metadata": {},
   "outputs": [],
   "source": [
    "n = len(list_author_uniq2)\n",
    "V = np.zeros(shape=(n,n))\n",
    "V"
   ]
  },
  {
   "cell_type": "code",
   "execution_count": null,
   "id": "4f9637aa",
   "metadata": {},
   "outputs": [],
   "source": [
    "def update_adj_mat(V, list_author_uniq2, author1, author2):\n",
    "    V[list_author_uniq2.index(author1),list_author_uniq2.index(author2)] = V[list_author_uniq2.index(author1),list_author_uniq2.index(author2)] + 1\n",
    "    V[list_author_uniq2.index(author2),list_author_uniq2.index(author1)] = V[list_author_uniq2.index(author1),list_author_uniq2.index(author2)]\n",
    "    return V"
   ]
  },
  {
   "cell_type": "code",
   "execution_count": null,
   "id": "063cd1c5",
   "metadata": {},
   "outputs": [],
   "source": [
    "n = len(list_author_uniq2)\n",
    "V = np.zeros(shape=(n,n))\n",
    "\n",
    "for index, row in df.iterrows():\n",
    "    tmp = row['Short names']\n",
    "    tmp = tmp.split(';')\n",
    "    tmp = [author.strip() for author in tmp]\n",
    "    if len(tmp) > 1: # if the paper has only 1 author then we don't need to update the matrix\n",
    "        for author1 in tmp:\n",
    "            for author2 in tmp:\n",
    "                if author1 != author2:\n",
    "                    V = update_adj_mat(V, list_author_uniq2, author1, author2)\n",
    "#V[V > 1] = 1 # Replace the numbers bigger than 1 to 1\n",
    "V = V/2"
   ]
  },
  {
   "cell_type": "code",
   "execution_count": null,
   "id": "0d194a48",
   "metadata": {},
   "outputs": [],
   "source": [
    "V"
   ]
  },
  {
   "cell_type": "code",
   "execution_count": null,
   "id": "6e757ea8",
   "metadata": {},
   "outputs": [],
   "source": [
    "dataframe=pd.DataFrame(V, columns = list_author_uniq2, index = list_author_uniq2) "
   ]
  },
  {
   "cell_type": "code",
   "execution_count": null,
   "id": "9943d80c",
   "metadata": {},
   "outputs": [],
   "source": [
    "dataframe"
   ]
  },
  {
   "cell_type": "markdown",
   "id": "77cc9a7e",
   "metadata": {},
   "source": [
    "## Data Visualisation"
   ]
  },
  {
   "cell_type": "code",
   "execution_count": null,
   "id": "4f69b16f",
   "metadata": {},
   "outputs": [],
   "source": [
    "dataframe.head()"
   ]
  },
  {
   "cell_type": "code",
   "execution_count": null,
   "id": "1f83212b",
   "metadata": {},
   "outputs": [],
   "source": [
    "dataframe.to_csv('Bestiary adj matrix_v2.csv')"
   ]
  },
  {
   "cell_type": "code",
   "execution_count": null,
   "id": "8b01b472",
   "metadata": {},
   "outputs": [],
   "source": [
    "display(dataframe)"
   ]
  },
  {
   "cell_type": "code",
   "execution_count": null,
   "id": "de5830e0",
   "metadata": {},
   "outputs": [],
   "source": [
    "nodes = list_author_uniq2\n",
    "print(nodes)"
   ]
  },
  {
   "cell_type": "code",
   "execution_count": null,
   "id": "73803506",
   "metadata": {},
   "outputs": [],
   "source": [
    "from pyvis.network import Network"
   ]
  },
  {
   "cell_type": "code",
   "execution_count": null,
   "id": "b79fe41b",
   "metadata": {},
   "outputs": [],
   "source": [
    "def get_edges(node: str, weights: list, all_nodes: list, minimum_weight: int):\n",
    "    \n",
    "    nodes = all_nodes.copy()\n",
    "    \n",
    "    # Remove target node\n",
    "    nodes.remove(node)\n",
    "    \n",
    "    # Create a list of edges with weights\n",
    "    edges = [(node, connection, weight) for connection, weight in zip(nodes, weights)]\n",
    "    \n",
    "    # Get only edges with weights greater than the minimum weight\n",
    "    edges = [edge for edge in edges if edge[2] >= minimum_weight]\n",
    "    \n",
    "    return edges"
   ]
  },
  {
   "cell_type": "code",
   "execution_count": null,
   "id": "73a90405",
   "metadata": {},
   "outputs": [],
   "source": [
    "# Count the Frequency of each node from the the author list\n",
    "\n",
    "def countFreq(arr, n):\n",
    " \n",
    "    mp = dict()\n",
    " \n",
    "    # Traverse through array elements and count frequencies\n",
    "    for i in range(n):\n",
    "        if arr[i] in mp.keys():\n",
    "            mp[arr[i]] += 1\n",
    "        else:\n",
    "            mp[arr[i]] = 1\n",
    "             \n",
    "    # Traverse through map and print frequencies\n",
    "    for x in mp:\n",
    "        print(x, \" \", mp[x])\n",
    "    return mp\n",
    " \n",
    "\n",
    "# Driver code\n",
    "arr = list_author_short\n",
    "n = len(arr)\n",
    "mp = countFreq(arr, n)"
   ]
  },
  {
   "cell_type": "code",
   "execution_count": null,
   "id": "27f85b12",
   "metadata": {},
   "outputs": [],
   "source": [
    "values = [mp[nodes[i]]*300 for i in range(0,len(nodes))] "
   ]
  },
  {
   "cell_type": "code",
   "execution_count": null,
   "id": "34fa3c5f",
   "metadata": {},
   "outputs": [],
   "source": [
    "# from pyvis.network import Network\n",
    "# def draw_network(\n",
    "#     nodes: list,\n",
    "#     dataframe: pd.DataFrame,\n",
    "#     minimum_weight: int = 0,\n",
    "#     repulsion: int = 100,\n",
    "#     spring_length=200,\n",
    "# ):\n",
    "    \n",
    "#     net = Network(\"800px\", \"800px\", notebook=True, select_menu=True,  filter_menu=True)\n",
    "# #     net.add_nodes(nodes) \n",
    "#     net.add_nodes(nodes, value=values) \n",
    "\n",
    "#     # add edges\n",
    "#     for node, weights in dataframe.iterrows():\n",
    "#         edges = get_edges(node, weights, nodes, minimum_weight)\n",
    "#         net.add_edges(edges)\n",
    "\n",
    "#     # change node distance and spring length\n",
    "#     net.repulsion(repulsion, spring_length=spring_length)\n",
    "#     return net"
   ]
  },
  {
   "cell_type": "code",
   "execution_count": null,
   "id": "7ffc6ed1",
   "metadata": {},
   "outputs": [],
   "source": [
    "def draw_network(\n",
    "    nodes: list,\n",
    "    dataframe: pd.DataFrame,\n",
    "    minimum_weight: int = 0,\n",
    "    repulsion: int = 100,\n",
    "    spring_length=200,\n",
    "):\n",
    "    \n",
    "    net = Network(\"800px\", \"800px\", notebook=True)\n",
    "#     net.add_nodes(nodes) \n",
    "    net.add_nodes(nodes, value=values) \n",
    "\n",
    "    # add edges\n",
    "    for node, weights in dataframe.iterrows():\n",
    "        edges = get_edges(node, weights, nodes, minimum_weight)\n",
    "        net.add_edges(edges)\n",
    "\n",
    "    # change node distance and spring length\n",
    "    net.repulsion(repulsion, spring_length=spring_length)\n",
    "    return net"
   ]
  },
  {
   "cell_type": "code",
   "execution_count": null,
   "id": "3972d21e",
   "metadata": {},
   "outputs": [],
   "source": [
    "values"
   ]
  },
  {
   "cell_type": "code",
   "execution_count": null,
   "id": "1f5a5c6b",
   "metadata": {
    "scrolled": true
   },
   "outputs": [],
   "source": [
    "net = draw_network(nodes, dataframe, minimum_weight=1, repulsion=80, spring_length=100)\n",
    "net.show_buttons(filter_=[\"physics\"])\n",
    "net.toggle_physics(True)\n",
    "net.show(\"Bestiary_v2.1.html\")"
   ]
  },
  {
   "cell_type": "code",
   "execution_count": null,
   "id": "e10d6a99",
   "metadata": {
    "scrolled": true
   },
   "outputs": [],
   "source": [
    "# With minimum weight = 2\n",
    "net2 = draw_network(nodes, dataframe, minimum_weight=2, repulsion=80, spring_length=120)\n",
    "net2.show_buttons(filter_=[\"physics\",\"edges_smooth\",\"interaction\"])\n",
    "net2.show(\"Bestiary2.html\")"
   ]
  },
  {
   "cell_type": "code",
   "execution_count": null,
   "id": "3fe1a45a",
   "metadata": {},
   "outputs": [],
   "source": [
    "# # Count the Frequency of each node from the the author list\n",
    "\n",
    "# def countFreq(arr, n):\n",
    " \n",
    "#     mp = dict()\n",
    " \n",
    "#     # Traverse through array elements and count frequencies\n",
    "#     for i in range(n):\n",
    "#         if arr[i] in mp.keys():\n",
    "#             mp[arr[i]] += 1\n",
    "#         else:\n",
    "#             mp[arr[i]] = 1\n",
    "             \n",
    "#     # Traverse through map and print frequencies\n",
    "#     for x in mp:\n",
    "#         print(x, \" \", mp[x])\n",
    "#     return mp\n",
    " \n",
    "\n",
    "# # Driver code\n",
    "# arr = list_author_abbre\n",
    "# n = len(arr)\n",
    "# mp = countFreq(arr, n)"
   ]
  },
  {
   "cell_type": "code",
   "execution_count": null,
   "id": "5ed5109c",
   "metadata": {},
   "outputs": [],
   "source": []
  },
  {
   "cell_type": "code",
   "execution_count": null,
   "id": "5131a944",
   "metadata": {},
   "outputs": [],
   "source": []
  },
  {
   "cell_type": "code",
   "execution_count": null,
   "id": "c215f35b",
   "metadata": {},
   "outputs": [],
   "source": []
  }
 ],
 "metadata": {
  "kernelspec": {
   "display_name": "Python 3 (ipykernel)",
   "language": "python",
   "name": "python3"
  },
  "language_info": {
   "codemirror_mode": {
    "name": "ipython",
    "version": 3
   },
   "file_extension": ".py",
   "mimetype": "text/x-python",
   "name": "python",
   "nbconvert_exporter": "python",
   "pygments_lexer": "ipython3",
   "version": "3.9.12"
  }
 },
 "nbformat": 4,
 "nbformat_minor": 5
}
