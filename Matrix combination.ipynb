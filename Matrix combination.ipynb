{
 "cells": [
  {
   "cell_type": "code",
   "execution_count": 2,
   "id": "cf845a3b",
   "metadata": {},
   "outputs": [
    {
     "data": {
      "text/html": [
       "<div>\n",
       "<style scoped>\n",
       "    .dataframe tbody tr th:only-of-type {\n",
       "        vertical-align: middle;\n",
       "    }\n",
       "\n",
       "    .dataframe tbody tr th {\n",
       "        vertical-align: top;\n",
       "    }\n",
       "\n",
       "    .dataframe thead th {\n",
       "        text-align: right;\n",
       "    }\n",
       "</style>\n",
       "<table border=\"1\" class=\"dataframe\">\n",
       "  <thead>\n",
       "    <tr style=\"text-align: right;\">\n",
       "      <th></th>\n",
       "      <th>Paper</th>\n",
       "      <th>Author</th>\n",
       "    </tr>\n",
       "  </thead>\n",
       "  <tbody>\n",
       "    <tr>\n",
       "      <th>0</th>\n",
       "      <td>P01</td>\n",
       "      <td>{v1, v2}</td>\n",
       "    </tr>\n",
       "    <tr>\n",
       "      <th>1</th>\n",
       "      <td>P02</td>\n",
       "      <td>{v1}</td>\n",
       "    </tr>\n",
       "    <tr>\n",
       "      <th>2</th>\n",
       "      <td>P03</td>\n",
       "      <td>{v1, v2, v3}</td>\n",
       "    </tr>\n",
       "    <tr>\n",
       "      <th>3</th>\n",
       "      <td>P04</td>\n",
       "      <td>{v3, v4}</td>\n",
       "    </tr>\n",
       "    <tr>\n",
       "      <th>4</th>\n",
       "      <td>P05</td>\n",
       "      <td>{v3, v2}</td>\n",
       "    </tr>\n",
       "    <tr>\n",
       "      <th>5</th>\n",
       "      <td>P06</td>\n",
       "      <td>{v1, v2, v3}</td>\n",
       "    </tr>\n",
       "    <tr>\n",
       "      <th>6</th>\n",
       "      <td>P07</td>\n",
       "      <td>{v1, v2, v3}</td>\n",
       "    </tr>\n",
       "    <tr>\n",
       "      <th>7</th>\n",
       "      <td>P08</td>\n",
       "      <td>{v4, v5}</td>\n",
       "    </tr>\n",
       "    <tr>\n",
       "      <th>8</th>\n",
       "      <td>P09</td>\n",
       "      <td>{v5, v4}</td>\n",
       "    </tr>\n",
       "    <tr>\n",
       "      <th>9</th>\n",
       "      <td>P10</td>\n",
       "      <td>{v3, v2, v4}</td>\n",
       "    </tr>\n",
       "  </tbody>\n",
       "</table>\n",
       "</div>"
      ],
      "text/plain": [
       "  Paper        Author\n",
       "0   P01      {v1, v2}\n",
       "1   P02          {v1}\n",
       "2   P03  {v1, v2, v3}\n",
       "3   P04      {v3, v4}\n",
       "4   P05      {v3, v2}\n",
       "5   P06  {v1, v2, v3}\n",
       "6   P07  {v1, v2, v3}\n",
       "7   P08      {v4, v5}\n",
       "8   P09      {v5, v4}\n",
       "9   P10  {v3, v2, v4}"
      ]
     },
     "execution_count": 2,
     "metadata": {},
     "output_type": "execute_result"
    }
   ],
   "source": [
    "import pandas as pd \n",
    "\n",
    "df = pd.read_excel('AuthorxArticles.xlsx')\n",
    "df\n"
   ]
  },
  {
   "cell_type": "code",
   "execution_count": 103,
   "id": "3021dc34",
   "metadata": {},
   "outputs": [],
   "source": [
    "list_author = []\n",
    "for index, row in df.iterrows():\n",
    "    tmp = row['Author']\n",
    "    tmp = tmp.replace('{','')\n",
    "    tmp = tmp.replace('}','')\n",
    "    tmp = tmp.split(',')\n",
    "    [list_author.append(author.strip()) for author in tmp if author not in list_author] # list comprehension"
   ]
  },
  {
   "cell_type": "code",
   "execution_count": 104,
   "id": "d4f01c2d",
   "metadata": {},
   "outputs": [
    {
     "data": {
      "text/plain": [
       "['v1',\n",
       " 'v2',\n",
       " 'v2',\n",
       " 'v3',\n",
       " 'v4',\n",
       " 'v2',\n",
       " 'v2',\n",
       " 'v3',\n",
       " 'v2',\n",
       " 'v3',\n",
       " 'v5',\n",
       " 'v4',\n",
       " 'v2',\n",
       " 'v4']"
      ]
     },
     "execution_count": 104,
     "metadata": {},
     "output_type": "execute_result"
    }
   ],
   "source": [
    "list_author"
   ]
  },
  {
   "cell_type": "code",
   "execution_count": 49,
   "id": "431c15fa",
   "metadata": {},
   "outputs": [],
   "source": [
    "# dict.fromkeys(list_author)"
   ]
  },
  {
   "cell_type": "code",
   "execution_count": 105,
   "id": "4706da9a",
   "metadata": {},
   "outputs": [],
   "source": [
    "list_author = list(dict.fromkeys(list_author)) # remove the duplicates from the list of authors"
   ]
  },
  {
   "cell_type": "code",
   "execution_count": 106,
   "id": "1dbf92d2",
   "metadata": {},
   "outputs": [
    {
     "data": {
      "text/plain": [
       "['v1', 'v2', 'v3', 'v4', 'v5']"
      ]
     },
     "execution_count": 106,
     "metadata": {},
     "output_type": "execute_result"
    }
   ],
   "source": [
    "list_author"
   ]
  },
  {
   "cell_type": "code",
   "execution_count": 86,
   "id": "558e7e53",
   "metadata": {},
   "outputs": [
    {
     "name": "stdout",
     "output_type": "stream",
     "text": [
      "v1\n",
      "v2\n",
      "v3\n",
      "v4\n",
      "v5\n"
     ]
    }
   ],
   "source": [
    "for author in list_author:\n",
    "    print(author)"
   ]
  },
  {
   "cell_type": "code",
   "execution_count": 88,
   "id": "85d124a2",
   "metadata": {},
   "outputs": [],
   "source": [
    "list_tmp = list_author.copy()"
   ]
  },
  {
   "cell_type": "code",
   "execution_count": 78,
   "id": "d83c8e55",
   "metadata": {},
   "outputs": [
    {
     "data": {
      "text/plain": [
       "['v1', 'v2', 'v3', 'v4', 'v5']"
      ]
     },
     "execution_count": 78,
     "metadata": {},
     "output_type": "execute_result"
    }
   ],
   "source": [
    "list_tmp"
   ]
  },
  {
   "cell_type": "code",
   "execution_count": 126,
   "id": "e27d1de0",
   "metadata": {},
   "outputs": [],
   "source": [
    "list_tmp.remove('v3')"
   ]
  },
  {
   "cell_type": "code",
   "execution_count": 175,
   "id": "5ecb64f1",
   "metadata": {},
   "outputs": [
    {
     "data": {
      "text/plain": [
       "['v1', 'v2', 'v4', 'v5']"
      ]
     },
     "execution_count": 175,
     "metadata": {},
     "output_type": "execute_result"
    }
   ],
   "source": [
    "list_tmp"
   ]
  },
  {
   "cell_type": "code",
   "execution_count": 176,
   "id": "dc35f580",
   "metadata": {},
   "outputs": [
    {
     "data": {
      "text/plain": [
       "5"
      ]
     },
     "execution_count": 176,
     "metadata": {},
     "output_type": "execute_result"
    }
   ],
   "source": [
    "len(list_author)"
   ]
  },
  {
   "cell_type": "code",
   "execution_count": 177,
   "id": "53cb2e28",
   "metadata": {},
   "outputs": [
    {
     "data": {
      "text/plain": [
       "['v1', 'v2', 'v3', 'v4', 'v5']"
      ]
     },
     "execution_count": 177,
     "metadata": {},
     "output_type": "execute_result"
    }
   ],
   "source": [
    "list_author"
   ]
  },
  {
   "cell_type": "code",
   "execution_count": 192,
   "id": "2a04b9fd",
   "metadata": {},
   "outputs": [],
   "source": [
    "tmp = df.loc[9,'Author']"
   ]
  },
  {
   "cell_type": "code",
   "execution_count": 193,
   "id": "f791015f",
   "metadata": {},
   "outputs": [
    {
     "data": {
      "text/plain": [
       "['v3', 'v2', 'v4']"
      ]
     },
     "execution_count": 193,
     "metadata": {},
     "output_type": "execute_result"
    }
   ],
   "source": [
    "tmp = tmp.replace('{','')\n",
    "tmp = tmp.replace('}','')\n",
    "tmp = tmp.split(',')\n",
    "tmp = [author.strip() for author in tmp]\n",
    "tmp"
   ]
  },
  {
   "cell_type": "code",
   "execution_count": 194,
   "id": "72304fd4",
   "metadata": {},
   "outputs": [
    {
     "data": {
      "text/plain": [
       "['v3', 'v2', 'v4']"
      ]
     },
     "execution_count": 194,
     "metadata": {},
     "output_type": "execute_result"
    }
   ],
   "source": [
    "tmp"
   ]
  },
  {
   "cell_type": "code",
   "execution_count": 198,
   "id": "029abfed",
   "metadata": {},
   "outputs": [
    {
     "data": {
      "text/plain": [
       "2"
      ]
     },
     "execution_count": 198,
     "metadata": {},
     "output_type": "execute_result"
    }
   ],
   "source": [
    "list_author.index(tmp[0])"
   ]
  },
  {
   "cell_type": "code",
   "execution_count": 199,
   "id": "a952202d",
   "metadata": {},
   "outputs": [
    {
     "data": {
      "text/plain": [
       "1"
      ]
     },
     "execution_count": 199,
     "metadata": {},
     "output_type": "execute_result"
    }
   ],
   "source": [
    "list_author.index(tmp[1])"
   ]
  },
  {
   "cell_type": "code",
   "execution_count": 200,
   "id": "2460826e",
   "metadata": {},
   "outputs": [
    {
     "data": {
      "text/plain": [
       "3"
      ]
     },
     "execution_count": 200,
     "metadata": {},
     "output_type": "execute_result"
    }
   ],
   "source": [
    "list_author.index(tmp[2])"
   ]
  },
  {
   "cell_type": "code",
   "execution_count": 190,
   "id": "5f0f29c5",
   "metadata": {},
   "outputs": [
    {
     "name": "stdout",
     "output_type": "stream",
     "text": [
      "['v1', 'v2']\n",
      "v1\n",
      "v2\n",
      "['v1']\n",
      "v1\n",
      "['v1', 'v2', 'v3']\n",
      "v1\n",
      "v2\n",
      "v3\n",
      "['v3', 'v4']\n",
      "v3\n",
      "v4\n",
      "['v3', 'v2']\n",
      "v3\n",
      "v2\n",
      "['v1', 'v2', 'v3']\n",
      "v1\n",
      "v2\n",
      "v3\n",
      "['v1', 'v2', 'v3']\n",
      "v1\n",
      "v2\n",
      "v3\n",
      "['v4', 'v5']\n",
      "v4\n",
      "v5\n",
      "['v5', 'v4']\n",
      "v5\n",
      "v4\n",
      "['v3', 'v2', 'v4']\n",
      "v3\n",
      "v2\n",
      "v4\n"
     ]
    }
   ],
   "source": [
    "tmp = []\n",
    "for index, row in df.iterrows():\n",
    "    tmp = row['Author']\n",
    "    tmp = tmp.replace('{','')\n",
    "    tmp = tmp.replace('}','')\n",
    "    tmp = tmp.split(',')\n",
    "    tmp = [author.strip() for author in tmp]\n",
    "    print (tmp)\n",
    "\n",
    "    for author in tmp:\n",
    "        print(author)\n"
   ]
  },
  {
   "cell_type": "code",
   "execution_count": 205,
   "id": "cb052f6b",
   "metadata": {},
   "outputs": [
    {
     "name": "stdout",
     "output_type": "stream",
     "text": [
      "['v1', 'v2']\n",
      "v1\n",
      "0\n",
      "0\n",
      "v2\n",
      "1\n",
      "1\n",
      "['v1']\n",
      "v1\n",
      "0\n",
      "0\n",
      "['v1', 'v2', 'v3']\n",
      "v1\n",
      "0\n",
      "0\n",
      "v2\n",
      "1\n",
      "1\n",
      "v3\n",
      "2\n",
      "2\n",
      "['v3', 'v4']\n",
      "v3\n",
      "0\n",
      "2\n",
      "v4\n",
      "1\n",
      "3\n",
      "['v3', 'v2']\n",
      "v3\n",
      "0\n",
      "2\n",
      "v2\n",
      "1\n",
      "1\n",
      "['v1', 'v2', 'v3']\n",
      "v1\n",
      "0\n",
      "0\n",
      "v2\n",
      "1\n",
      "1\n",
      "v3\n",
      "2\n",
      "2\n",
      "['v1', 'v2', 'v3']\n",
      "v1\n",
      "0\n",
      "0\n",
      "v2\n",
      "1\n",
      "1\n",
      "v3\n",
      "2\n",
      "2\n",
      "['v4', 'v5']\n",
      "v4\n",
      "0\n",
      "3\n",
      "v5\n",
      "1\n",
      "4\n",
      "['v5', 'v4']\n",
      "v5\n",
      "0\n",
      "4\n",
      "v4\n",
      "1\n",
      "3\n",
      "['v3', 'v2', 'v4']\n",
      "v3\n",
      "0\n",
      "2\n",
      "v2\n",
      "1\n",
      "1\n",
      "v4\n",
      "2\n",
      "3\n"
     ]
    }
   ],
   "source": [
    "tmp = []\n",
    "for index, row in df.iterrows():\n",
    "    tmp = row['Author']\n",
    "    tmp = tmp.replace('{','')\n",
    "    tmp = tmp.replace('}','')\n",
    "    tmp = tmp.split(',')\n",
    "    tmp = [author.strip() for author in tmp]\n",
    "    print (tmp)\n",
    "\n",
    "    for author in tmp:\n",
    "        print(author)\n",
    "        index_author_tmp = tmp.index(author)\n",
    "        print(index_author_tmp)\n",
    "        index_author_matrix = list_author.index(author)\n",
    "        print(index_author_matrix)"
   ]
  },
  {
   "cell_type": "code",
   "execution_count": 4,
   "id": "175692f3",
   "metadata": {},
   "outputs": [],
   "source": [
    "import numpy as np"
   ]
  },
  {
   "cell_type": "code",
   "execution_count": 212,
   "id": "ba1fa0e9",
   "metadata": {},
   "outputs": [],
   "source": [
    "n = len(list_author)\n",
    "V = np.zeros(shape=(n,n))"
   ]
  },
  {
   "cell_type": "code",
   "execution_count": 213,
   "id": "a25eaede",
   "metadata": {},
   "outputs": [
    {
     "data": {
      "text/plain": [
       "array([[0., 0., 0., 0., 0.],\n",
       "       [0., 0., 0., 0., 0.],\n",
       "       [0., 0., 0., 0., 0.],\n",
       "       [0., 0., 0., 0., 0.],\n",
       "       [0., 0., 0., 0., 0.]])"
      ]
     },
     "execution_count": 213,
     "metadata": {},
     "output_type": "execute_result"
    }
   ],
   "source": [
    "V"
   ]
  },
  {
   "cell_type": "code",
   "execution_count": 232,
   "id": "e5772306",
   "metadata": {
    "scrolled": true
   },
   "outputs": [
    {
     "name": "stdout",
     "output_type": "stream",
     "text": [
      "['v1', 'v2']\n",
      "None\n",
      "['v1']\n",
      "None\n",
      "['v1', 'v2', 'v3']\n",
      "None\n",
      "None\n",
      "['v3', 'v4']\n",
      "None\n",
      "['v3', 'v2']\n",
      "None\n",
      "['v1', 'v2', 'v3']\n",
      "None\n",
      "None\n",
      "['v1', 'v2', 'v3']\n",
      "None\n",
      "None\n",
      "['v4', 'v5']\n",
      "None\n",
      "['v5', 'v4']\n",
      "None\n",
      "['v3', 'v2', 'v4']\n",
      "None\n",
      "None\n"
     ]
    }
   ],
   "source": [
    "tmp = []\n",
    "for index, row in df.iterrows():\n",
    "    tmp = row['Author']\n",
    "    tmp = tmp.replace('{','')\n",
    "    tmp = tmp.replace('}','')\n",
    "    tmp = tmp.split(',')\n",
    "    tmp = [author.strip() for author in tmp]\n",
    "    print (tmp)\n",
    "    for author in tmp:\n",
    "        tmp2 = tmp.remove(author)\n",
    "        print(tmp2)\n",
    "\n",
    "        "
   ]
  },
  {
   "cell_type": "code",
   "execution_count": 244,
   "id": "f646938b",
   "metadata": {},
   "outputs": [
    {
     "name": "stdout",
     "output_type": "stream",
     "text": [
      "['v1', 'v2']\n",
      "v\n",
      "v\n",
      "['v1']\n",
      "v\n",
      "['v1', 'v2', 'v3']\n",
      "v\n",
      "v\n",
      "v\n",
      "['v3', 'v4']\n",
      "v\n",
      "v\n",
      "['v3', 'v2']\n",
      "v\n",
      "v\n",
      "['v1', 'v2', 'v3']\n",
      "v\n",
      "v\n",
      "v\n",
      "['v1', 'v2', 'v3']\n",
      "v\n",
      "v\n",
      "v\n",
      "['v4', 'v5']\n",
      "v\n",
      "v\n",
      "['v5', 'v4']\n",
      "v\n",
      "v\n",
      "['v3', 'v2', 'v4']\n",
      "v\n",
      "v\n",
      "v\n"
     ]
    }
   ],
   "source": [
    "tmp = []\n",
    "for index, row in df.iterrows():\n",
    "    tmp = row['Author']\n",
    "    tmp = tmp.replace('{','')\n",
    "    tmp = tmp.replace('}','')\n",
    "    tmp = tmp.split(',')\n",
    "    tmp = [author.strip() for author in tmp]\n",
    "    print (tmp)\n",
    "    for author, author2 in tmp:\n",
    "        if \"author\" == \"author 2\":\n",
    "            print (author2)\n",
    "        else:\n",
    "            print (author)\n",
    "            \n",
    "\n",
    "        "
   ]
  },
  {
   "cell_type": "code",
   "execution_count": 248,
   "id": "19cd673a",
   "metadata": {},
   "outputs": [
    {
     "name": "stdout",
     "output_type": "stream",
     "text": [
      "['v1', 'v2']\n",
      "v1\n",
      "v1\n",
      "v2\n",
      "v2\n",
      "['v1']\n",
      "v1\n",
      "['v1', 'v2', 'v3']\n",
      "v1\n",
      "v1\n",
      "v1\n",
      "v2\n",
      "v2\n",
      "v2\n",
      "v3\n",
      "v3\n",
      "v3\n",
      "['v3', 'v4']\n",
      "v3\n",
      "v3\n",
      "v4\n",
      "v4\n",
      "['v3', 'v2']\n",
      "v3\n",
      "v3\n",
      "v2\n",
      "v2\n",
      "['v1', 'v2', 'v3']\n",
      "v1\n",
      "v1\n",
      "v1\n",
      "v2\n",
      "v2\n",
      "v2\n",
      "v3\n",
      "v3\n",
      "v3\n",
      "['v1', 'v2', 'v3']\n",
      "v1\n",
      "v1\n",
      "v1\n",
      "v2\n",
      "v2\n",
      "v2\n",
      "v3\n",
      "v3\n",
      "v3\n",
      "['v4', 'v5']\n",
      "v4\n",
      "v4\n",
      "v5\n",
      "v5\n",
      "['v5', 'v4']\n",
      "v5\n",
      "v5\n",
      "v4\n",
      "v4\n",
      "['v3', 'v2', 'v4']\n",
      "v3\n",
      "v3\n",
      "v3\n",
      "v2\n",
      "v2\n",
      "v2\n",
      "v4\n",
      "v4\n",
      "v4\n"
     ]
    }
   ],
   "source": [
    "tmp = []\n",
    "for index, row in df.iterrows():\n",
    "    tmp = row['Author']\n",
    "    tmp = tmp.replace('{','')\n",
    "    tmp = tmp.replace('}','')\n",
    "    tmp = tmp.split(',')\n",
    "    tmp = [author.strip() for author in tmp]\n",
    "    print (tmp)\n",
    "    for author in tmp:\n",
    "        for author2 in tmp:\n",
    "            if author == author2:\n",
    "                print (author2)\n",
    "            else:\n",
    "                print (author)\n",
    "            \n",
    "\n",
    "        "
   ]
  },
  {
   "cell_type": "code",
   "execution_count": 230,
   "id": "24bd1f67",
   "metadata": {},
   "outputs": [
    {
     "name": "stdout",
     "output_type": "stream",
     "text": [
      "['v1', 'v2']\n"
     ]
    },
    {
     "ename": "TypeError",
     "evalue": "'NoneType' object is not iterable",
     "output_type": "error",
     "traceback": [
      "\u001b[1;31m---------------------------------------------------------------------------\u001b[0m",
      "\u001b[1;31mTypeError\u001b[0m                                 Traceback (most recent call last)",
      "Input \u001b[1;32mIn [230]\u001b[0m, in \u001b[0;36m<cell line: 7>\u001b[1;34m()\u001b[0m\n\u001b[0;32m     17\u001b[0m \u001b[38;5;28;01mfor\u001b[39;00m author \u001b[38;5;129;01min\u001b[39;00m tmp:\n\u001b[0;32m     18\u001b[0m     tmp \u001b[38;5;241m=\u001b[39m tmp\u001b[38;5;241m.\u001b[39mremove(author)\n\u001b[1;32m---> 19\u001b[0m     \u001b[38;5;28;01mfor\u001b[39;00m author2 \u001b[38;5;129;01min\u001b[39;00m tmp:\n\u001b[0;32m     20\u001b[0m         V[list_author\u001b[38;5;241m.\u001b[39mindex(author),list_author\u001b[38;5;241m.\u001b[39mindex(author2)] \u001b[38;5;241m=\u001b[39m V[list_author\u001b[38;5;241m.\u001b[39mindex(author),list_author\u001b[38;5;241m.\u001b[39mindex(author2)] \u001b[38;5;241m+\u001b[39m \u001b[38;5;241m1\u001b[39m\n\u001b[0;32m     21\u001b[0m         V[list_author\u001b[38;5;241m.\u001b[39mindex(author2),list_author\u001b[38;5;241m.\u001b[39mindex(author)] \u001b[38;5;241m=\u001b[39m V[list_author\u001b[38;5;241m.\u001b[39mindex(author),list_author\u001b[38;5;241m.\u001b[39mindex(author2)]\n",
      "\u001b[1;31mTypeError\u001b[0m: 'NoneType' object is not iterable"
     ]
    }
   ],
   "source": [
    "tmp = []\n",
    "\n",
    "n = len(list_author)\n",
    "V = np.zeros(shape=(n,n))\n",
    "V\n",
    "\n",
    "for index, row in df.iterrows():\n",
    "    tmp = row['Author']\n",
    "    tmp = tmp.replace('{','')\n",
    "    tmp = tmp.replace('}','')\n",
    "    tmp = tmp.split(',')\n",
    "    tmp = [author.strip() for author in tmp]\n",
    "    print (tmp)\n",
    "    \n",
    "\n",
    "\n",
    "    for author in tmp:\n",
    "        tmp = tmp.remove(author)\n",
    "        for author2 in tmp:\n",
    "            V[list_author.index(author),list_author.index(author2)] = V[list_author.index(author),list_author.index(author2)] + 1\n",
    "            V[list_author.index(author2),list_author.index(author)] = V[list_author.index(author),list_author.index(author2)]\n",
    "            V"
   ]
  },
  {
   "cell_type": "code",
   "execution_count": 209,
   "id": "502cee6b",
   "metadata": {},
   "outputs": [],
   "source": [
    "V[list_author.index(tmp[0].strip()),list_author.index(tmp[1].strip())] = V[list_author.index(tmp[0].strip()),list_author.index(tmp[1].strip())] + 1\n",
    "V[list_author.index(tmp[1].strip()),list_author.index(tmp[0].strip())] = V[list_author.index(tmp[0].strip()),list_author.index(tmp[1].strip())]"
   ]
  },
  {
   "cell_type": "code",
   "execution_count": 210,
   "id": "834ecee8",
   "metadata": {},
   "outputs": [
    {
     "data": {
      "text/plain": [
       "array([[0., 0., 0., 0., 0.],\n",
       "       [0., 0., 1., 0., 0.],\n",
       "       [0., 1., 0., 0., 0.],\n",
       "       [0., 0., 0., 0., 0.],\n",
       "       [0., 0., 0., 0., 0.]])"
      ]
     },
     "execution_count": 210,
     "metadata": {},
     "output_type": "execute_result"
    }
   ],
   "source": [
    "V"
   ]
  },
  {
   "cell_type": "code",
   "execution_count": null,
   "id": "7d005584",
   "metadata": {},
   "outputs": [],
   "source": []
  }
 ],
 "metadata": {
  "kernelspec": {
   "display_name": "Python 3 (ipykernel)",
   "language": "python",
   "name": "python3"
  },
  "language_info": {
   "codemirror_mode": {
    "name": "ipython",
    "version": 3
   },
   "file_extension": ".py",
   "mimetype": "text/x-python",
   "name": "python",
   "nbconvert_exporter": "python",
   "pygments_lexer": "ipython3",
   "version": "3.9.12"
  }
 },
 "nbformat": 4,
 "nbformat_minor": 5
}
