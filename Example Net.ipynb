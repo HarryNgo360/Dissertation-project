{
 "cells": [
  {
   "cell_type": "code",
   "execution_count": 1,
   "id": "62856ab4",
   "metadata": {},
   "outputs": [
    {
     "data": {
      "text/plain": [
       "['v1', 'v2', 'v3', 'v4', 'v5']"
      ]
     },
     "execution_count": 1,
     "metadata": {},
     "output_type": "execute_result"
    }
   ],
   "source": [
    "import pandas as pd \n",
    "\n",
    "df = pd.read_excel('Example matrix.xlsx', index_col=0)\n",
    "nodes = df.columns.to_list()\n",
    "nodes = [node.strip() for node in nodes]\n",
    "nodes"
   ]
  },
  {
   "cell_type": "code",
   "execution_count": 2,
   "id": "191124da",
   "metadata": {},
   "outputs": [],
   "source": [
    "from pyvis.network import Network"
   ]
  },
  {
   "cell_type": "code",
   "execution_count": 3,
   "id": "e8646016",
   "metadata": {},
   "outputs": [],
   "source": [
    "def get_edges(node: str, weights: list, all_nodes: list, minium_weight: int):\n",
    "    \n",
    "    nodes = all_nodes.copy()\n",
    "    \n",
    "    # Remove target node and related edges\n",
    "    nodes.remove(node)\n",
    "    \n",
    "    # Create a list of edges with weights\n",
    "    edges = [(node, connection, weight) for connection, weight in zip(nodes, weights)]\n",
    "    \n",
    "    # Get only edges with weights greater than the minimum weight\n",
    "    edges = [edge for edge in edges if edge[2] >= minium_weight]\n",
    "    \n",
    "    return edges"
   ]
  },
  {
   "cell_type": "code",
   "execution_count": 4,
   "id": "e74a915f",
   "metadata": {},
   "outputs": [],
   "source": [
    "def draw_network(\n",
    "    nodes: list,\n",
    "    df: pd.DataFrame,\n",
    "    minium_weight: int = 0,\n",
    "    repulsion: int = 100,\n",
    "    spring_length=200,\n",
    "):\n",
    "    \n",
    "    net = Network(\"500px\", \"500px\", notebook=True)\n",
    "    net.add_nodes(nodes) \n",
    "\n",
    "    # add edges\n",
    "    for node, weights in df.iterrows():\n",
    "        edges = get_edges(node, weights, nodes, minium_weight)\n",
    "        net.add_edges(edges)\n",
    "\n",
    "    # change node distance and spring length\n",
    "    net.repulsion(repulsion, spring_length=spring_length)\n",
    "    return net"
   ]
  },
  {
   "cell_type": "code",
   "execution_count": 5,
   "id": "50056039",
   "metadata": {},
   "outputs": [
    {
     "data": {
      "text/html": [
       "\n",
       "        <iframe\n",
       "            width=\"500px\"\n",
       "            height=\"500px\"\n",
       "            src=\"match.html\"\n",
       "            frameborder=\"0\"\n",
       "            allowfullscreen\n",
       "            \n",
       "        ></iframe>\n",
       "        "
      ],
      "text/plain": [
       "<IPython.lib.display.IFrame at 0x2a2cc4b7d60>"
      ]
     },
     "execution_count": 5,
     "metadata": {},
     "output_type": "execute_result"
    }
   ],
   "source": [
    "net = draw_network(nodes, df, minium_weight=2, repulsion=300, spring_length=100)\n",
    "net.show_buttons(filter_=True)\n",
    "net.show(\"match.html\")"
   ]
  },
  {
   "cell_type": "code",
   "execution_count": null,
   "id": "79d95fc8",
   "metadata": {},
   "outputs": [],
   "source": []
  }
 ],
 "metadata": {
  "kernelspec": {
   "display_name": "Python 3 (ipykernel)",
   "language": "python",
   "name": "python3"
  },
  "language_info": {
   "codemirror_mode": {
    "name": "ipython",
    "version": 3
   },
   "file_extension": ".py",
   "mimetype": "text/x-python",
   "name": "python",
   "nbconvert_exporter": "python",
   "pygments_lexer": "ipython3",
   "version": "3.9.12"
  }
 },
 "nbformat": 4,
 "nbformat_minor": 5
}
