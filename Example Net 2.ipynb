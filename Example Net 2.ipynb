{
 "cells": [
  {
   "cell_type": "code",
   "execution_count": 4,
   "id": "6f5969ea",
   "metadata": {},
   "outputs": [
    {
     "data": {
      "text/plain": [
       "['v1', 'v2', 'v3', 'v4', 'v5']"
      ]
     },
     "execution_count": 4,
     "metadata": {},
     "output_type": "execute_result"
    }
   ],
   "source": [
    "import pandas as pd \n",
    "\n",
    "df = pd.read_excel('Example matrix.xlsx', index_col=0)\n",
    "nodes = df.columns.to_list()\n",
    "nodes = [node.strip() for node in nodes]\n",
    "nodes"
   ]
  },
  {
   "cell_type": "code",
   "execution_count": null,
   "id": "56c6be28",
   "metadata": {},
   "outputs": [],
   "source": []
  },
  {
   "cell_type": "code",
   "execution_count": 5,
   "id": "48c6060f",
   "metadata": {},
   "outputs": [
    {
     "data": {
      "text/plain": [
       "['v1', 'v2', 'v3', 'v4', 'v5']"
      ]
     },
     "execution_count": 5,
     "metadata": {},
     "output_type": "execute_result"
    }
   ],
   "source": [
    "df.columns.to_list()"
   ]
  },
  {
   "cell_type": "code",
   "execution_count": null,
   "id": "27d420f4",
   "metadata": {},
   "outputs": [],
   "source": []
  },
  {
   "cell_type": "code",
   "execution_count": 9,
   "id": "98d40d7b",
   "metadata": {},
   "outputs": [],
   "source": [
    "from pyvis.network import Network"
   ]
  },
  {
   "cell_type": "code",
   "execution_count": 15,
   "id": "b520460a",
   "metadata": {},
   "outputs": [],
   "source": [
    "def get_edges(node: str, weights: list, all_nodes: list, minimum_weight: int):\n",
    "    \n",
    "    nodes = all_nodes.copy()\n",
    "    \n",
    "    # Remove target node\n",
    "    nodes.remove(node)\n",
    "    \n",
    "    # Create a list of edges with weights\n",
    "    edges = [(node, connection, weight) for connection, weight in zip(nodes, weights)]\n",
    "    \n",
    "    # Get only edges with weights greater than the minimum weight\n",
    "    edges = [edge for edge in edges if edge[2] >= minimum_weight]\n",
    "    \n",
    "    return edges"
   ]
  },
  {
   "cell_type": "code",
   "execution_count": 16,
   "id": "32c17f52",
   "metadata": {},
   "outputs": [],
   "source": [
    "def draw_network(\n",
    "    nodes: list,\n",
    "    df: pd.DataFrame,\n",
    "    minimum_weight: int = 0,\n",
    "    repulsion: int = 100,\n",
    "    spring_length=200,\n",
    "):\n",
    "    \n",
    "    net = Network(\"800px\", \"800px\", notebook=True)\n",
    "    net.add_nodes(nodes) \n",
    "\n",
    "    # add edges\n",
    "    for node, weights in df.iterrows():\n",
    "        edges = get_edges(node, weights, nodes, minimum_weight)\n",
    "        net.add_edges(edges)\n",
    "\n",
    "    # change node distance and spring length\n",
    "    net.repulsion(repulsion, spring_length=spring_length)\n",
    "    return net"
   ]
  },
  {
   "cell_type": "code",
   "execution_count": 17,
   "id": "97d76456",
   "metadata": {
    "scrolled": false
   },
   "outputs": [
    {
     "data": {
      "text/html": [
       "\n",
       "        <iframe\n",
       "            width=\"800px\"\n",
       "            height=\"800px\"\n",
       "            src=\"match.html\"\n",
       "            frameborder=\"0\"\n",
       "            allowfullscreen\n",
       "            \n",
       "        ></iframe>\n",
       "        "
      ],
      "text/plain": [
       "<IPython.lib.display.IFrame at 0x2b8704d8f40>"
      ]
     },
     "execution_count": 17,
     "metadata": {},
     "output_type": "execute_result"
    }
   ],
   "source": [
    "net = draw_network(nodes, df, minimum_weight=1, repulsion=300, spring_length=100)\n",
    "net.show(\"match.html\")"
   ]
  },
  {
   "cell_type": "code",
   "execution_count": 2,
   "id": "aa8309e5",
   "metadata": {},
   "outputs": [],
   "source": [
    ">>> from pyvis.network import Network\n",
    ">>> net = Network()"
   ]
  },
  {
   "cell_type": "code",
   "execution_count": null,
   "id": "2a45c779",
   "metadata": {},
   "outputs": [],
   "source": []
  },
  {
   "cell_type": "code",
   "execution_count": null,
   "id": "e24346b3",
   "metadata": {},
   "outputs": [],
   "source": []
  },
  {
   "cell_type": "code",
   "execution_count": 6,
   "id": "d46e1857",
   "metadata": {},
   "outputs": [],
   "source": [
    "from pyvis.network import Network\n",
    "g = Network()\n",
    "g.add_nodes([1,2,3], value=[10, 100, 400],\n",
    "                         title=['I am node 1', 'node 2 here', 'and im node 3'],\n",
    "                         x=[21.4, 54.2, 11.2],\n",
    "                         y=[100.2, 23.54, 32.1],\n",
    "                         label=['NODE 1', 'NODE 2', 'NODE 3'],\n",
    "                         color=['#00ff1e', '#162347', '#dd4b39'])\n",
    "g.show(\"test.html\")"
   ]
  }
 ],
 "metadata": {
  "kernelspec": {
   "display_name": "Python 3 (ipykernel)",
   "language": "python",
   "name": "python3"
  },
  "language_info": {
   "codemirror_mode": {
    "name": "ipython",
    "version": 3
   },
   "file_extension": ".py",
   "mimetype": "text/x-python",
   "name": "python",
   "nbconvert_exporter": "python",
   "pygments_lexer": "ipython3",
   "version": "3.9.12"
  }
 },
 "nbformat": 4,
 "nbformat_minor": 5
}
