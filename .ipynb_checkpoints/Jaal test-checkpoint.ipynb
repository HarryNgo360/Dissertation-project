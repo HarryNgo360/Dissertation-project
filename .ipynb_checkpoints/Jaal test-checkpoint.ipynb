{
 "cells": [
  {
   "cell_type": "code",
   "execution_count": 1,
   "id": "7ff36e09",
   "metadata": {},
   "outputs": [
    {
     "name": "stdout",
     "output_type": "stream",
     "text": [
      "Requirement already satisfied: jaal in c:\\users\\lenovo t440\\anaconda3\\lib\\site-packages (0.1.3)\n",
      "Requirement already satisfied: dash-core-components>=1.15.0 in c:\\users\\lenovo t440\\anaconda3\\lib\\site-packages (from jaal) (2.0.0)\n",
      "Requirement already satisfied: pandas>=1.2.1 in c:\\users\\lenovo t440\\anaconda3\\lib\\site-packages (from jaal) (1.4.2)\n",
      "Requirement already satisfied: dash>=1.19.0 in c:\\users\\lenovo t440\\anaconda3\\lib\\site-packages (from jaal) (2.7.0)\n",
      "Requirement already satisfied: dash-html-components>=1.1.2 in c:\\users\\lenovo t440\\anaconda3\\lib\\site-packages (from jaal) (2.0.0)\n",
      "Requirement already satisfied: dash-bootstrap-components<1 in c:\\users\\lenovo t440\\anaconda3\\lib\\site-packages (from jaal) (0.13.1)\n",
      "Requirement already satisfied: visdcc>=0.0.40 in c:\\users\\lenovo t440\\anaconda3\\lib\\site-packages (from jaal) (0.0.50)\n",
      "Requirement already satisfied: dash-table==5.0.0 in c:\\users\\lenovo t440\\anaconda3\\lib\\site-packages (from dash>=1.19.0->jaal) (5.0.0)\n",
      "Requirement already satisfied: Flask>=1.0.4 in c:\\users\\lenovo t440\\anaconda3\\lib\\site-packages (from dash>=1.19.0->jaal) (1.1.2)\n",
      "Requirement already satisfied: plotly>=5.0.0 in c:\\users\\lenovo t440\\anaconda3\\lib\\site-packages (from dash>=1.19.0->jaal) (5.6.0)\n",
      "Requirement already satisfied: Werkzeug>=0.15 in c:\\users\\lenovo t440\\anaconda3\\lib\\site-packages (from Flask>=1.0.4->dash>=1.19.0->jaal) (2.0.3)\n",
      "Requirement already satisfied: Jinja2>=2.10.1 in c:\\users\\lenovo t440\\anaconda3\\lib\\site-packages (from Flask>=1.0.4->dash>=1.19.0->jaal) (2.11.3)\n",
      "Requirement already satisfied: itsdangerous>=0.24 in c:\\users\\lenovo t440\\anaconda3\\lib\\site-packages (from Flask>=1.0.4->dash>=1.19.0->jaal) (2.0.1)\n",
      "Requirement already satisfied: click>=5.1 in c:\\users\\lenovo t440\\anaconda3\\lib\\site-packages (from Flask>=1.0.4->dash>=1.19.0->jaal) (8.0.4)\n",
      "Requirement already satisfied: colorama in c:\\users\\lenovo t440\\anaconda3\\lib\\site-packages (from click>=5.1->Flask>=1.0.4->dash>=1.19.0->jaal) (0.4.4)\n",
      "Requirement already satisfied: MarkupSafe>=0.23 in c:\\users\\lenovo t440\\anaconda3\\lib\\site-packages (from Jinja2>=2.10.1->Flask>=1.0.4->dash>=1.19.0->jaal) (2.0.1)\n",
      "Requirement already satisfied: python-dateutil>=2.8.1 in c:\\users\\lenovo t440\\anaconda3\\lib\\site-packages (from pandas>=1.2.1->jaal) (2.8.2)\n",
      "Requirement already satisfied: numpy>=1.18.5 in c:\\users\\lenovo t440\\anaconda3\\lib\\site-packages (from pandas>=1.2.1->jaal) (1.21.5)\n",
      "Requirement already satisfied: pytz>=2020.1 in c:\\users\\lenovo t440\\anaconda3\\lib\\site-packages (from pandas>=1.2.1->jaal) (2021.3)\n",
      "Requirement already satisfied: six in c:\\users\\lenovo t440\\anaconda3\\lib\\site-packages (from plotly>=5.0.0->dash>=1.19.0->jaal) (1.16.0)\n",
      "Requirement already satisfied: tenacity>=6.2.0 in c:\\users\\lenovo t440\\anaconda3\\lib\\site-packages (from plotly>=5.0.0->dash>=1.19.0->jaal) (8.0.1)\n",
      "Note: you may need to restart the kernel to use updated packages.\n"
     ]
    }
   ],
   "source": [
    "pip install jaal"
   ]
  },
  {
   "cell_type": "code",
   "execution_count": null,
   "id": "94d509a5",
   "metadata": {},
   "outputs": [],
   "source": [
    "-m venv myenv"
   ]
  },
  {
   "cell_type": "code",
   "execution_count": null,
   "id": "f478a12f",
   "metadata": {},
   "outputs": [],
   "source": [
    ".\\\\myvenv\\\\Scripts\\\\activate.bat"
   ]
  },
  {
   "cell_type": "code",
   "execution_count": 2,
   "id": "b083b4db",
   "metadata": {},
   "outputs": [
    {
     "name": "stdout",
     "output_type": "stream",
     "text": [
      "Collecting jupyter-dashNote: you may need to restart the kernel to use updated packages.\n",
      "  Downloading jupyter_dash-0.4.2-py3-none-any.whl (23 kB)\n",
      "Collecting ansi2html\n",
      "  Downloading ansi2html-1.8.0-py3-none-any.whl (16 kB)\n",
      "Requirement already satisfied: flask in c:\\users\\lenovo t440\\anaconda3\\lib\\site-packages (from jupyter-dash) (1.1.2)\n",
      "Requirement already satisfied: ipython in c:\\users\\lenovo t440\\anaconda3\\lib\\site-packages (from jupyter-dash) (8.2.0)\n",
      "Requirement already satisfied: ipykernel in c:\\users\\lenovo t440\\anaconda3\\lib\\site-packages (from jupyter-dash) (6.9.1)\n",
      "Requirement already satisfied: dash in c:\\users\\lenovo t440\\anaconda3\\lib\\site-packages (from jupyter-dash) (2.7.0)\n",
      "Requirement already satisfied: requests in c:\\users\\lenovo t440\\anaconda3\\lib\\site-packages (from jupyter-dash) (2.27.1)\n",
      "Requirement already satisfied: nest-asyncio in c:\\users\\lenovo t440\\anaconda3\\lib\\site-packages (from jupyter-dash) (1.5.5)\n",
      "Collecting retrying\n",
      "  Downloading retrying-1.3.3.tar.gz (10 kB)\n",
      "Requirement already satisfied: plotly>=5.0.0 in c:\\users\\lenovo t440\\anaconda3\\lib\\site-packages (from dash->jupyter-dash) (5.6.0)\n",
      "Requirement already satisfied: dash-table==5.0.0 in c:\\users\\lenovo t440\\anaconda3\\lib\\site-packages (from dash->jupyter-dash) (5.0.0)\n",
      "Requirement already satisfied: dash-core-components==2.0.0 in c:\\users\\lenovo t440\\anaconda3\\lib\\site-packages (from dash->jupyter-dash) (2.0.0)\n",
      "Requirement already satisfied: dash-html-components==2.0.0 in c:\\users\\lenovo t440\\anaconda3\\lib\\site-packages (from dash->jupyter-dash) (2.0.0)\n",
      "Requirement already satisfied: Werkzeug>=0.15 in c:\\users\\lenovo t440\\anaconda3\\lib\\site-packages (from flask->jupyter-dash) (2.0.3)\n",
      "Requirement already satisfied: itsdangerous>=0.24 in c:\\users\\lenovo t440\\anaconda3\\lib\\site-packages (from flask->jupyter-dash) (2.0.1)\n",
      "Requirement already satisfied: Jinja2>=2.10.1 in c:\\users\\lenovo t440\\anaconda3\\lib\\site-packages (from flask->jupyter-dash) (2.11.3)\n",
      "Requirement already satisfied: click>=5.1 in c:\\users\\lenovo t440\\anaconda3\\lib\\site-packages (from flask->jupyter-dash) (8.0.4)\n",
      "Requirement already satisfied: colorama in c:\\users\\lenovo t440\\anaconda3\\lib\\site-packages (from click>=5.1->flask->jupyter-dash) (0.4.4)\n",
      "Requirement already satisfied: MarkupSafe>=0.23 in c:\\users\\lenovo t440\\anaconda3\\lib\\site-packages (from Jinja2>=2.10.1->flask->jupyter-dash) (2.0.1)\n",
      "Requirement already satisfied: six in c:\\users\\lenovo t440\\anaconda3\\lib\\site-packages (from plotly>=5.0.0->dash->jupyter-dash) (1.16.0)\n",
      "Requirement already satisfied: tenacity>=6.2.0 in c:\\users\\lenovo t440\\anaconda3\\lib\\site-packages (from plotly>=5.0.0->dash->jupyter-dash) (8.0.1)\n",
      "Requirement already satisfied: debugpy<2.0,>=1.0.0 in c:\\users\\lenovo t440\\anaconda3\\lib\\site-packages (from ipykernel->jupyter-dash) (1.5.1)\n",
      "Requirement already satisfied: jupyter-client<8.0 in c:\\users\\lenovo t440\\anaconda3\\lib\\site-packages (from ipykernel->jupyter-dash) (6.1.12)\n",
      "Requirement already satisfied: traitlets<6.0,>=5.1.0 in c:\\users\\lenovo t440\\anaconda3\\lib\\site-packages (from ipykernel->jupyter-dash) (5.1.1)\n",
      "Requirement already satisfied: tornado<7.0,>=4.2 in c:\\users\\lenovo t440\\anaconda3\\lib\\site-packages (from ipykernel->jupyter-dash) (6.1)\n",
      "Requirement already satisfied: matplotlib-inline<0.2.0,>=0.1.0 in c:\\users\\lenovo t440\\anaconda3\\lib\\site-packages (from ipykernel->jupyter-dash) (0.1.2)\n",
      "Requirement already satisfied: pygments>=2.4.0 in c:\\users\\lenovo t440\\anaconda3\\lib\\site-packages (from ipython->jupyter-dash) (2.11.2)\n",
      "Requirement already satisfied: stack-data in c:\\users\\lenovo t440\\anaconda3\\lib\\site-packages (from ipython->jupyter-dash) (0.2.0)\n",
      "Requirement already satisfied: prompt-toolkit!=3.0.0,!=3.0.1,<3.1.0,>=2.0.0 in c:\\users\\lenovo t440\\anaconda3\\lib\\site-packages (from ipython->jupyter-dash) (3.0.20)\n",
      "Requirement already satisfied: backcall in c:\\users\\lenovo t440\\anaconda3\\lib\\site-packages (from ipython->jupyter-dash) (0.2.0)\n",
      "Requirement already satisfied: jedi>=0.16 in c:\\users\\lenovo t440\\anaconda3\\lib\\site-packages (from ipython->jupyter-dash) (0.18.1)\n",
      "Requirement already satisfied: pickleshare in c:\\users\\lenovo t440\\anaconda3\\lib\\site-packages (from ipython->jupyter-dash) (0.7.5)\n",
      "Requirement already satisfied: decorator in c:\\users\\lenovo t440\\anaconda3\\lib\\site-packages (from ipython->jupyter-dash) (5.1.1)\n",
      "Requirement already satisfied: setuptools>=18.5 in c:\\users\\lenovo t440\\anaconda3\\lib\\site-packages (from ipython->jupyter-dash) (61.2.0)\n",
      "Requirement already satisfied: parso<0.9.0,>=0.8.0 in c:\\users\\lenovo t440\\anaconda3\\lib\\site-packages (from jedi>=0.16->ipython->jupyter-dash) (0.8.3)\n",
      "Requirement already satisfied: python-dateutil>=2.1 in c:\\users\\lenovo t440\\anaconda3\\lib\\site-packages (from jupyter-client<8.0->ipykernel->jupyter-dash) (2.8.2)\n",
      "Requirement already satisfied: jupyter-core>=4.6.0 in c:\\users\\lenovo t440\\anaconda3\\lib\\site-packages (from jupyter-client<8.0->ipykernel->jupyter-dash) (4.9.2)\n",
      "Requirement already satisfied: pyzmq>=13 in c:\\users\\lenovo t440\\anaconda3\\lib\\site-packages (from jupyter-client<8.0->ipykernel->jupyter-dash) (22.3.0)\n",
      "Requirement already satisfied: pywin32>=1.0 in c:\\users\\lenovo t440\\anaconda3\\lib\\site-packages (from jupyter-core>=4.6.0->jupyter-client<8.0->ipykernel->jupyter-dash) (302)\n",
      "Requirement already satisfied: wcwidth in c:\\users\\lenovo t440\\anaconda3\\lib\\site-packages (from prompt-toolkit!=3.0.0,!=3.0.1,<3.1.0,>=2.0.0->ipython->jupyter-dash) (0.2.5)\n",
      "Requirement already satisfied: urllib3<1.27,>=1.21.1 in c:\\users\\lenovo t440\\anaconda3\\lib\\site-packages (from requests->jupyter-dash) (1.26.9)\n",
      "Requirement already satisfied: certifi>=2017.4.17 in c:\\users\\lenovo t440\\anaconda3\\lib\\site-packages (from requests->jupyter-dash) (2021.10.8)\n",
      "Requirement already satisfied: charset-normalizer~=2.0.0 in c:\\users\\lenovo t440\\anaconda3\\lib\\site-packages (from requests->jupyter-dash) (2.0.4)\n",
      "Requirement already satisfied: idna<4,>=2.5 in c:\\users\\lenovo t440\\anaconda3\\lib\\site-packages (from requests->jupyter-dash) (3.3)\n",
      "Requirement already satisfied: asttokens in c:\\users\\lenovo t440\\anaconda3\\lib\\site-packages (from stack-data->ipython->jupyter-dash) (2.0.5)\n",
      "Requirement already satisfied: executing in c:\\users\\lenovo t440\\anaconda3\\lib\\site-packages (from stack-data->ipython->jupyter-dash) (0.8.3)\n",
      "Requirement already satisfied: pure-eval in c:\\users\\lenovo t440\\anaconda3\\lib\\site-packages (from stack-data->ipython->jupyter-dash) (0.2.2)\n",
      "Building wheels for collected packages: retrying\n",
      "  Building wheel for retrying (setup.py): started\n",
      "  Building wheel for retrying (setup.py): finished with status 'done'\n",
      "  Created wheel for retrying: filename=retrying-1.3.3-py3-none-any.whl size=11447 sha256=a36ab961ba8ad0510fe04ada2ba2df33676ae47321c921579d4c110e040037aa\n",
      "  Stored in directory: c:\\users\\lenovo t440\\appdata\\local\\pip\\cache\\wheels\\ce\\18\\7f\\e9527e3e66db1456194ac7f61eb3211068c409edceecff2d31\n",
      "Successfully built retrying\n",
      "Installing collected packages: retrying, ansi2html, jupyter-dash\n",
      "Successfully installed ansi2html-1.8.0 jupyter-dash-0.4.2 retrying-1.3.3\n",
      "\n"
     ]
    }
   ],
   "source": [
    "pip install jupyter-dash"
   ]
  },
  {
   "cell_type": "code",
   "execution_count": 3,
   "id": "8804680a",
   "metadata": {},
   "outputs": [
    {
     "ename": "SyntaxError",
     "evalue": "invalid syntax (493702921.py, line 1)",
     "output_type": "error",
     "traceback": [
      "\u001b[1;36m  Input \u001b[1;32mIn [3]\u001b[1;36m\u001b[0m\n\u001b[1;33m    from jupyter-dash import Dash, html, dcc\u001b[0m\n\u001b[1;37m                ^\u001b[0m\n\u001b[1;31mSyntaxError\u001b[0m\u001b[1;31m:\u001b[0m invalid syntax\n"
     ]
    }
   ],
   "source": [
    "from jupyter-dash import Dash, html, dcc"
   ]
  },
  {
   "cell_type": "code",
   "execution_count": 5,
   "id": "d7ad36d4",
   "metadata": {},
   "outputs": [],
   "source": [
    "from jupyter_dash import JupyterDash\n",
    "from dash import dcc\n",
    "from dash import html\n",
    "import dash_core_components as dcc\n",
    "import dash_html_components as html"
   ]
  },
  {
   "cell_type": "code",
   "execution_count": null,
   "id": "a53fe877",
   "metadata": {},
   "outputs": [
    {
     "name": "stdout",
     "output_type": "stream",
     "text": [
      "Parsing the data...Done\n",
      "Dash is running on http://127.0.0.1:8050/\n",
      "\n",
      " * Serving Flask app \"__main__\" (lazy loading)\n",
      " * Environment: production\n",
      "\u001b[31m   WARNING: This is a development server. Do not use it in a production deployment.\u001b[0m\n",
      "\u001b[2m   Use a production WSGI server instead.\u001b[0m\n",
      " * Debug mode: off\n"
     ]
    },
    {
     "name": "stderr",
     "output_type": "stream",
     "text": [
      " * Running on http://127.0.0.1:8050/ (Press CTRL+C to quit)\n",
      "127.0.0.1 - - [22/Nov/2022 20:41:53] \"GET / HTTP/1.1\" 200 -\n",
      "127.0.0.1 - - [22/Nov/2022 20:41:53] \"GET /_dash-component-suites/dash/deps/polyfill@7.v2_7_0m1668632912.12.1.min.js HTTP/1.1\" 200 -\n",
      "127.0.0.1 - - [22/Nov/2022 20:41:53] \"GET /_dash-component-suites/dash/deps/prop-types@15.v2_7_0m1668632912.8.1.min.js HTTP/1.1\" 200 -\n",
      "127.0.0.1 - - [22/Nov/2022 20:41:53] \"GET /_dash-component-suites/dash/deps/react-dom@16.v2_7_0m1668632912.14.0.min.js HTTP/1.1\" 200 -\n",
      "127.0.0.1 - - [22/Nov/2022 20:41:53] \"GET /_dash-component-suites/dash/deps/react@16.v2_7_0m1668632912.14.0.min.js HTTP/1.1\" 200 -\n",
      "127.0.0.1 - - [22/Nov/2022 20:41:53] \"GET /_dash-component-suites/dash_bootstrap_components/_components/dash_bootstrap_components.v0_13_1m1668632914.min.js HTTP/1.1\" 200 -\n",
      "127.0.0.1 - - [22/Nov/2022 20:41:53] \"GET /_dash-component-suites/visdcc/bundle.v0_0_50m1668632914.js HTTP/1.1\" 200 -\n",
      "127.0.0.1 - - [22/Nov/2022 20:41:53] \"GET /_dash-component-suites/dash/dash-renderer/build/dash_renderer.v2_7_0m1668632911.min.js HTTP/1.1\" 200 -\n",
      "127.0.0.1 - - [22/Nov/2022 20:41:53] \"GET /_dash-component-suites/dash/dcc/dash_core_components.v2_7_0m1668632912.js HTTP/1.1\" 200 -\n",
      "127.0.0.1 - - [22/Nov/2022 20:41:53] \"GET /_dash-component-suites/dash/dcc/dash_core_components-shared.v2_7_0m1668632912.js HTTP/1.1\" 200 -\n",
      "127.0.0.1 - - [22/Nov/2022 20:41:53] \"GET /_dash-component-suites/dash/html/dash_html_components.v2_0_6m1668632912.min.js HTTP/1.1\" 200 -\n",
      "127.0.0.1 - - [22/Nov/2022 20:41:53] \"GET /_dash-component-suites/dash/dash_table/bundle.v5_2_0m1668632911.js HTTP/1.1\" 200 -\n",
      "127.0.0.1 - - [22/Nov/2022 20:41:54] \"GET /_dash-layout HTTP/1.1\" 200 -\n",
      "127.0.0.1 - - [22/Nov/2022 20:41:54] \"GET /_dash-dependencies HTTP/1.1\" 200 -\n",
      "127.0.0.1 - - [22/Nov/2022 20:41:54] \"GET /_favicon.ico?v=2.7.0 HTTP/1.1\" 200 -\n",
      "127.0.0.1 - - [22/Nov/2022 20:41:54] \"POST /_dash-update-component HTTP/1.1\" 200 -\n",
      "127.0.0.1 - - [22/Nov/2022 20:41:54] \"POST /_dash-update-component HTTP/1.1\" 200 -\n",
      "127.0.0.1 - - [22/Nov/2022 20:41:54] \"POST /_dash-update-component HTTP/1.1\" 200 -\n",
      "127.0.0.1 - - [22/Nov/2022 20:41:54] \"POST /_dash-update-component HTTP/1.1\" 200 -\n",
      "127.0.0.1 - - [22/Nov/2022 20:41:54] \"POST /_dash-update-component HTTP/1.1\" 200 -\n"
     ]
    },
    {
     "name": "stdout",
     "output_type": "stream",
     "text": [
      "No trigger\n"
     ]
    },
    {
     "name": "stderr",
     "output_type": "stream",
     "text": [
      "127.0.0.1 - - [22/Nov/2022 20:46:57] \"POST /_dash-update-component HTTP/1.1\" 200 -\n"
     ]
    },
    {
     "name": "stdout",
     "output_type": "stream",
     "text": [
      "inside color edge strength\n"
     ]
    },
    {
     "name": "stderr",
     "output_type": "stream",
     "text": [
      "127.0.0.1 - - [22/Nov/2022 20:47:00] \"POST /_dash-update-component HTTP/1.1\" 200 -\n",
      "127.0.0.1 - - [22/Nov/2022 20:47:02] \"POST /_dash-update-component HTTP/1.1\" 200 -\n",
      "127.0.0.1 - - [22/Nov/2022 20:47:03] \"POST /_dash-update-component HTTP/1.1\" 200 -\n",
      "127.0.0.1 - - [22/Nov/2022 20:47:09] \"POST /_dash-update-component HTTP/1.1\" 200 -\n"
     ]
    },
    {
     "name": "stdout",
     "output_type": "stream",
     "text": [
      "inside color node gender\n"
     ]
    },
    {
     "name": "stderr",
     "output_type": "stream",
     "text": [
      "127.0.0.1 - - [22/Nov/2022 20:47:15] \"POST /_dash-update-component HTTP/1.1\" 200 -\n"
     ]
    },
    {
     "name": "stdout",
     "output_type": "stream",
     "text": [
      "Modifying node size using  screentime\n"
     ]
    },
    {
     "name": "stderr",
     "output_type": "stream",
     "text": [
      "127.0.0.1 - - [22/Nov/2022 20:47:19] \"POST /_dash-update-component HTTP/1.1\" 200 -\n"
     ]
    },
    {
     "name": "stdout",
     "output_type": "stream",
     "text": [
      "Modifying edge size using  weight\n"
     ]
    },
    {
     "name": "stderr",
     "output_type": "stream",
     "text": [
      "127.0.0.1 - - [24/Nov/2022 23:56:00] \"GET / HTTP/1.1\" 200 -\n",
      "127.0.0.1 - - [24/Nov/2022 23:56:00] \"GET /_dash-component-suites/dash/deps/polyfill@7.v2_7_0m1668632912.12.1.min.js HTTP/1.1\" 200 -\n",
      "127.0.0.1 - - [24/Nov/2022 23:56:00] \"GET /_dash-component-suites/dash/deps/react@16.v2_7_0m1668632912.14.0.min.js HTTP/1.1\" 200 -\n",
      "127.0.0.1 - - [24/Nov/2022 23:56:00] \"GET /_dash-component-suites/visdcc/bundle.v0_0_50m1668632914.js HTTP/1.1\" 200 -\n",
      "127.0.0.1 - - [24/Nov/2022 23:56:00] \"GET /_dash-component-suites/dash/deps/prop-types@15.v2_7_0m1668632912.8.1.min.js HTTP/1.1\" 200 -\n",
      "127.0.0.1 - - [24/Nov/2022 23:56:00] \"GET /_dash-component-suites/dash/deps/react-dom@16.v2_7_0m1668632912.14.0.min.js HTTP/1.1\" 200 -\n",
      "127.0.0.1 - - [24/Nov/2022 23:56:00] \"GET /_dash-component-suites/dash_bootstrap_components/_components/dash_bootstrap_components.v0_13_1m1668632914.min.js HTTP/1.1\" 200 -\n",
      "127.0.0.1 - - [24/Nov/2022 23:56:00] \"GET /_dash-component-suites/dash/dash-renderer/build/dash_renderer.v2_7_0m1668632911.min.js HTTP/1.1\" 200 -\n",
      "127.0.0.1 - - [24/Nov/2022 23:56:00] \"GET /_dash-component-suites/dash/dcc/dash_core_components.v2_7_0m1668632912.js HTTP/1.1\" 200 -\n",
      "127.0.0.1 - - [24/Nov/2022 23:56:00] \"GET /_dash-component-suites/dash/dcc/dash_core_components-shared.v2_7_0m1668632912.js HTTP/1.1\" 200 -\n",
      "127.0.0.1 - - [24/Nov/2022 23:56:00] \"GET /_dash-component-suites/dash/html/dash_html_components.v2_0_6m1668632912.min.js HTTP/1.1\" 200 -\n",
      "127.0.0.1 - - [24/Nov/2022 23:56:00] \"GET /_dash-component-suites/dash/dash_table/bundle.v5_2_0m1668632911.js HTTP/1.1\" 200 -\n",
      "127.0.0.1 - - [24/Nov/2022 23:56:01] \"GET /_dash-dependencies HTTP/1.1\" 200 -\n",
      "127.0.0.1 - - [24/Nov/2022 23:56:01] \"GET /_dash-layout HTTP/1.1\" 200 -\n",
      "127.0.0.1 - - [24/Nov/2022 23:56:01] \"POST /_dash-update-component HTTP/1.1\" 200 -\n",
      "127.0.0.1 - - [24/Nov/2022 23:56:01] \"POST /_dash-update-component HTTP/1.1\" 200 -\n",
      "127.0.0.1 - - [24/Nov/2022 23:56:01] \"POST /_dash-update-component HTTP/1.1\" 200 -\n",
      "127.0.0.1 - - [24/Nov/2022 23:56:01] \"POST /_dash-update-component HTTP/1.1\" 200 -\n",
      "127.0.0.1 - - [24/Nov/2022 23:56:01] \"POST /_dash-update-component HTTP/1.1\" 200 -\n"
     ]
    },
    {
     "name": "stdout",
     "output_type": "stream",
     "text": [
      "No trigger\n"
     ]
    }
   ],
   "source": [
    "# import\n",
    "from jaal import Jaal\n",
    "from jaal.datasets import load_got\n",
    "# load the data\n",
    "edge_df, node_df = load_got()\n",
    "# init Jaal and run server\n",
    "Jaal(edge_df, node_df).plot()"
   ]
  }
 ],
 "metadata": {
  "kernelspec": {
   "display_name": "Python 3 (ipykernel)",
   "language": "python",
   "name": "python3"
  },
  "language_info": {
   "codemirror_mode": {
    "name": "ipython",
    "version": 3
   },
   "file_extension": ".py",
   "mimetype": "text/x-python",
   "name": "python",
   "nbconvert_exporter": "python",
   "pygments_lexer": "ipython3",
   "version": "3.9.12"
  }
 },
 "nbformat": 4,
 "nbformat_minor": 5
}
