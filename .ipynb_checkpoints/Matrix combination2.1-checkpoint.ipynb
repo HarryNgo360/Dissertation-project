{
 "cells": [
  {
   "cell_type": "code",
   "execution_count": 1,
   "id": "6cb759d4",
   "metadata": {},
   "outputs": [
    {
     "data": {
      "text/html": [
       "<div>\n",
       "<style scoped>\n",
       "    .dataframe tbody tr th:only-of-type {\n",
       "        vertical-align: middle;\n",
       "    }\n",
       "\n",
       "    .dataframe tbody tr th {\n",
       "        vertical-align: top;\n",
       "    }\n",
       "\n",
       "    .dataframe thead th {\n",
       "        text-align: right;\n",
       "    }\n",
       "</style>\n",
       "<table border=\"1\" class=\"dataframe\">\n",
       "  <thead>\n",
       "    <tr style=\"text-align: right;\">\n",
       "      <th></th>\n",
       "      <th>Paper</th>\n",
       "      <th>Author</th>\n",
       "    </tr>\n",
       "  </thead>\n",
       "  <tbody>\n",
       "    <tr>\n",
       "      <th>0</th>\n",
       "      <td>P01</td>\n",
       "      <td>{v1, v2}</td>\n",
       "    </tr>\n",
       "    <tr>\n",
       "      <th>1</th>\n",
       "      <td>P02</td>\n",
       "      <td>{v1}</td>\n",
       "    </tr>\n",
       "    <tr>\n",
       "      <th>2</th>\n",
       "      <td>P03</td>\n",
       "      <td>{v1, v2, v3}</td>\n",
       "    </tr>\n",
       "    <tr>\n",
       "      <th>3</th>\n",
       "      <td>P04</td>\n",
       "      <td>{v3, v4}</td>\n",
       "    </tr>\n",
       "    <tr>\n",
       "      <th>4</th>\n",
       "      <td>P05</td>\n",
       "      <td>{v3, v2}</td>\n",
       "    </tr>\n",
       "    <tr>\n",
       "      <th>5</th>\n",
       "      <td>P06</td>\n",
       "      <td>{v1, v2, v3}</td>\n",
       "    </tr>\n",
       "    <tr>\n",
       "      <th>6</th>\n",
       "      <td>P07</td>\n",
       "      <td>{v1, v2, v3}</td>\n",
       "    </tr>\n",
       "    <tr>\n",
       "      <th>7</th>\n",
       "      <td>P08</td>\n",
       "      <td>{v4, v5}</td>\n",
       "    </tr>\n",
       "    <tr>\n",
       "      <th>8</th>\n",
       "      <td>P09</td>\n",
       "      <td>{v5, v4}</td>\n",
       "    </tr>\n",
       "    <tr>\n",
       "      <th>9</th>\n",
       "      <td>P10</td>\n",
       "      <td>{v3, v2, v4}</td>\n",
       "    </tr>\n",
       "  </tbody>\n",
       "</table>\n",
       "</div>"
      ],
      "text/plain": [
       "  Paper        Author\n",
       "0   P01      {v1, v2}\n",
       "1   P02          {v1}\n",
       "2   P03  {v1, v2, v3}\n",
       "3   P04      {v3, v4}\n",
       "4   P05      {v3, v2}\n",
       "5   P06  {v1, v2, v3}\n",
       "6   P07  {v1, v2, v3}\n",
       "7   P08      {v4, v5}\n",
       "8   P09      {v5, v4}\n",
       "9   P10  {v3, v2, v4}"
      ]
     },
     "execution_count": 1,
     "metadata": {},
     "output_type": "execute_result"
    }
   ],
   "source": [
    "import pandas as pd \n",
    "\n",
    "df = pd.read_excel('AuthorxArticles.xlsx')\n",
    "df\n"
   ]
  },
  {
   "cell_type": "code",
   "execution_count": 2,
   "id": "bcae1ad0",
   "metadata": {},
   "outputs": [],
   "source": [
    "list_author = []\n",
    "for index, row in df.iterrows():\n",
    "    tmp = row['Author']\n",
    "    tmp = tmp.replace('{','')\n",
    "    tmp = tmp.replace('}','')\n",
    "    tmp = tmp.split(',')\n",
    "    [list_author.append(author.strip()) for author in tmp if author not in list_author] # list comprehension"
   ]
  },
  {
   "cell_type": "code",
   "execution_count": 3,
   "id": "aabbb42c",
   "metadata": {},
   "outputs": [
    {
     "data": {
      "text/plain": [
       "['v1',\n",
       " 'v2',\n",
       " 'v2',\n",
       " 'v3',\n",
       " 'v4',\n",
       " 'v2',\n",
       " 'v2',\n",
       " 'v3',\n",
       " 'v2',\n",
       " 'v3',\n",
       " 'v5',\n",
       " 'v4',\n",
       " 'v2',\n",
       " 'v4']"
      ]
     },
     "execution_count": 3,
     "metadata": {},
     "output_type": "execute_result"
    }
   ],
   "source": [
    "list_author"
   ]
  },
  {
   "cell_type": "code",
   "execution_count": 4,
   "id": "4cf1bd6a",
   "metadata": {},
   "outputs": [],
   "source": [
    "# dict.fromkeys(list_author)"
   ]
  },
  {
   "cell_type": "code",
   "execution_count": 5,
   "id": "ef38be49",
   "metadata": {},
   "outputs": [],
   "source": [
    "list_author = list(dict.fromkeys(list_author)) # remove the duplicates from the list of authors"
   ]
  },
  {
   "cell_type": "code",
   "execution_count": 6,
   "id": "953a474a",
   "metadata": {},
   "outputs": [
    {
     "data": {
      "text/plain": [
       "['v1', 'v2', 'v3', 'v4', 'v5']"
      ]
     },
     "execution_count": 6,
     "metadata": {},
     "output_type": "execute_result"
    }
   ],
   "source": [
    "list_author"
   ]
  },
  {
   "cell_type": "code",
   "execution_count": 7,
   "id": "cc2510ea",
   "metadata": {},
   "outputs": [
    {
     "name": "stdout",
     "output_type": "stream",
     "text": [
      "v1\n",
      "v2\n",
      "v3\n",
      "v4\n",
      "v5\n"
     ]
    }
   ],
   "source": [
    "for author in list_author:\n",
    "    print(author)"
   ]
  },
  {
   "cell_type": "code",
   "execution_count": 8,
   "id": "0098ecc1",
   "metadata": {},
   "outputs": [],
   "source": [
    "list_tmp = list_author.copy()"
   ]
  },
  {
   "cell_type": "code",
   "execution_count": 9,
   "id": "57268f18",
   "metadata": {},
   "outputs": [
    {
     "data": {
      "text/plain": [
       "['v1', 'v2', 'v3', 'v4', 'v5']"
      ]
     },
     "execution_count": 9,
     "metadata": {},
     "output_type": "execute_result"
    }
   ],
   "source": [
    "list_tmp"
   ]
  },
  {
   "cell_type": "code",
   "execution_count": 10,
   "id": "b285c24d",
   "metadata": {},
   "outputs": [],
   "source": [
    "list_tmp.remove('v3')"
   ]
  },
  {
   "cell_type": "code",
   "execution_count": 11,
   "id": "37b2ae9b",
   "metadata": {},
   "outputs": [
    {
     "data": {
      "text/plain": [
       "['v1', 'v2', 'v4', 'v5']"
      ]
     },
     "execution_count": 11,
     "metadata": {},
     "output_type": "execute_result"
    }
   ],
   "source": [
    "list_tmp"
   ]
  },
  {
   "cell_type": "code",
   "execution_count": 12,
   "id": "cd4d58a1",
   "metadata": {},
   "outputs": [
    {
     "data": {
      "text/plain": [
       "5"
      ]
     },
     "execution_count": 12,
     "metadata": {},
     "output_type": "execute_result"
    }
   ],
   "source": [
    "len(list_author)"
   ]
  },
  {
   "cell_type": "code",
   "execution_count": 13,
   "id": "9edb20bd",
   "metadata": {},
   "outputs": [
    {
     "data": {
      "text/plain": [
       "['v1', 'v2', 'v3', 'v4', 'v5']"
      ]
     },
     "execution_count": 13,
     "metadata": {},
     "output_type": "execute_result"
    }
   ],
   "source": [
    "list_author"
   ]
  },
  {
   "cell_type": "code",
   "execution_count": 14,
   "id": "0c248fea",
   "metadata": {},
   "outputs": [],
   "source": [
    "tmp = df.loc[9,'Author']"
   ]
  },
  {
   "cell_type": "code",
   "execution_count": 15,
   "id": "35b24a65",
   "metadata": {},
   "outputs": [
    {
     "data": {
      "text/plain": [
       "['v3', 'v2', 'v4']"
      ]
     },
     "execution_count": 15,
     "metadata": {},
     "output_type": "execute_result"
    }
   ],
   "source": [
    "tmp = tmp.replace('{','')\n",
    "tmp = tmp.replace('}','')\n",
    "tmp = tmp.split(',')\n",
    "tmp = [author.strip() for author in tmp]\n",
    "tmp"
   ]
  },
  {
   "cell_type": "code",
   "execution_count": 16,
   "id": "57431e1b",
   "metadata": {},
   "outputs": [
    {
     "data": {
      "text/plain": [
       "['v3', 'v2', 'v4']"
      ]
     },
     "execution_count": 16,
     "metadata": {},
     "output_type": "execute_result"
    }
   ],
   "source": [
    "tmp"
   ]
  },
  {
   "cell_type": "code",
   "execution_count": 17,
   "id": "ca7ce653",
   "metadata": {},
   "outputs": [
    {
     "data": {
      "text/plain": [
       "2"
      ]
     },
     "execution_count": 17,
     "metadata": {},
     "output_type": "execute_result"
    }
   ],
   "source": [
    "list_author.index(tmp[0])"
   ]
  },
  {
   "cell_type": "code",
   "execution_count": 18,
   "id": "bb23d674",
   "metadata": {},
   "outputs": [
    {
     "data": {
      "text/plain": [
       "1"
      ]
     },
     "execution_count": 18,
     "metadata": {},
     "output_type": "execute_result"
    }
   ],
   "source": [
    "list_author.index(tmp[1])"
   ]
  },
  {
   "cell_type": "code",
   "execution_count": 19,
   "id": "c12966c2",
   "metadata": {},
   "outputs": [
    {
     "data": {
      "text/plain": [
       "3"
      ]
     },
     "execution_count": 19,
     "metadata": {},
     "output_type": "execute_result"
    }
   ],
   "source": [
    "list_author.index(tmp[2])"
   ]
  },
  {
   "cell_type": "code",
   "execution_count": 20,
   "id": "68deea4d",
   "metadata": {},
   "outputs": [
    {
     "name": "stdout",
     "output_type": "stream",
     "text": [
      "['v1', 'v2']\n",
      "['v1']\n",
      "['v1', 'v2', 'v3']\n",
      "['v3', 'v4']\n",
      "['v3', 'v2']\n",
      "['v1', 'v2', 'v3']\n",
      "['v1', 'v2', 'v3']\n",
      "['v4', 'v5']\n",
      "['v5', 'v4']\n",
      "['v3', 'v2', 'v4']\n"
     ]
    }
   ],
   "source": [
    "tmp = []\n",
    "for index, row in df.iterrows():\n",
    "    tmp = row['Author']\n",
    "    tmp = tmp.replace('{','')\n",
    "    tmp = tmp.replace('}','')\n",
    "    tmp = tmp.split(',')\n",
    "    tmp = [author.strip() for author in tmp]\n",
    "    print (tmp)\n",
    "#     for author in tmp:\n",
    "#         print(author)"
   ]
  },
  {
   "cell_type": "code",
   "execution_count": 21,
   "id": "1082ae57",
   "metadata": {},
   "outputs": [
    {
     "name": "stdout",
     "output_type": "stream",
     "text": [
      "['v1', 'v2']\n",
      "v1\n",
      "0\n",
      "0\n",
      "v2\n",
      "1\n",
      "1\n",
      "['v1']\n",
      "v1\n",
      "0\n",
      "0\n",
      "['v1', 'v2', 'v3']\n",
      "v1\n",
      "0\n",
      "0\n",
      "v2\n",
      "1\n",
      "1\n",
      "v3\n",
      "2\n",
      "2\n",
      "['v3', 'v4']\n",
      "v3\n",
      "0\n",
      "2\n",
      "v4\n",
      "1\n",
      "3\n",
      "['v3', 'v2']\n",
      "v3\n",
      "0\n",
      "2\n",
      "v2\n",
      "1\n",
      "1\n",
      "['v1', 'v2', 'v3']\n",
      "v1\n",
      "0\n",
      "0\n",
      "v2\n",
      "1\n",
      "1\n",
      "v3\n",
      "2\n",
      "2\n",
      "['v1', 'v2', 'v3']\n",
      "v1\n",
      "0\n",
      "0\n",
      "v2\n",
      "1\n",
      "1\n",
      "v3\n",
      "2\n",
      "2\n",
      "['v4', 'v5']\n",
      "v4\n",
      "0\n",
      "3\n",
      "v5\n",
      "1\n",
      "4\n",
      "['v5', 'v4']\n",
      "v5\n",
      "0\n",
      "4\n",
      "v4\n",
      "1\n",
      "3\n",
      "['v3', 'v2', 'v4']\n",
      "v3\n",
      "0\n",
      "2\n",
      "v2\n",
      "1\n",
      "1\n",
      "v4\n",
      "2\n",
      "3\n"
     ]
    }
   ],
   "source": [
    "tmp = []\n",
    "for index, row in df.iterrows():\n",
    "    tmp = row['Author']\n",
    "    tmp = tmp.replace('{','')\n",
    "    tmp = tmp.replace('}','')\n",
    "    tmp = tmp.split(',')\n",
    "    tmp = [author.strip() for author in tmp]\n",
    "    print (tmp)\n",
    "\n",
    "    for author in tmp:\n",
    "        print(author)\n",
    "        index_author_tmp = tmp.index(author)\n",
    "        print(index_author_tmp)\n",
    "        index_author_matrix = list_author.index(author)\n",
    "        print(index_author_matrix)"
   ]
  },
  {
   "cell_type": "code",
   "execution_count": 22,
   "id": "a7ace5ef",
   "metadata": {},
   "outputs": [],
   "source": [
    "import numpy as np"
   ]
  },
  {
   "cell_type": "code",
   "execution_count": 23,
   "id": "5b0ae680",
   "metadata": {},
   "outputs": [],
   "source": [
    "n = len(list_author)\n",
    "V = np.zeros(shape=(n,n))"
   ]
  },
  {
   "cell_type": "code",
   "execution_count": 24,
   "id": "068efd04",
   "metadata": {},
   "outputs": [
    {
     "data": {
      "text/plain": [
       "array([[0., 0., 0., 0., 0.],\n",
       "       [0., 0., 0., 0., 0.],\n",
       "       [0., 0., 0., 0., 0.],\n",
       "       [0., 0., 0., 0., 0.],\n",
       "       [0., 0., 0., 0., 0.]])"
      ]
     },
     "execution_count": 24,
     "metadata": {},
     "output_type": "execute_result"
    }
   ],
   "source": [
    "V"
   ]
  },
  {
   "cell_type": "code",
   "execution_count": 25,
   "id": "7e395e61",
   "metadata": {
    "scrolled": true
   },
   "outputs": [
    {
     "name": "stdout",
     "output_type": "stream",
     "text": [
      "['v1', 'v2']\n",
      "None\n",
      "['v1']\n",
      "None\n",
      "['v1', 'v2', 'v3']\n",
      "None\n",
      "None\n",
      "['v3', 'v4']\n",
      "None\n",
      "['v3', 'v2']\n",
      "None\n",
      "['v1', 'v2', 'v3']\n",
      "None\n",
      "None\n",
      "['v1', 'v2', 'v3']\n",
      "None\n",
      "None\n",
      "['v4', 'v5']\n",
      "None\n",
      "['v5', 'v4']\n",
      "None\n",
      "['v3', 'v2', 'v4']\n",
      "None\n",
      "None\n"
     ]
    }
   ],
   "source": [
    "tmp = []\n",
    "for index, row in df.iterrows():\n",
    "    tmp = row['Author']\n",
    "    tmp = tmp.replace('{','')\n",
    "    tmp = tmp.replace('}','')\n",
    "    tmp = tmp.split(',')\n",
    "    tmp = [author.strip() for author in tmp]\n",
    "    print (tmp)\n",
    "    for author in tmp:\n",
    "        tmp2 = tmp.remove(author)\n",
    "        print(tmp2)\n",
    "\n",
    "        "
   ]
  },
  {
   "cell_type": "code",
   "execution_count": 26,
   "id": "1738a11c",
   "metadata": {},
   "outputs": [
    {
     "name": "stdout",
     "output_type": "stream",
     "text": [
      "['v1', 'v2']\n",
      "['v1']\n",
      "['v1', 'v2', 'v3']\n",
      "['v3', 'v4']\n",
      "['v3', 'v2']\n",
      "['v1', 'v2', 'v3']\n",
      "['v1', 'v2', 'v3']\n",
      "['v4', 'v5']\n",
      "['v5', 'v4']\n",
      "['v3', 'v2', 'v4']\n"
     ]
    }
   ],
   "source": [
    "tmp = []\n",
    "for index, row in df.iterrows():\n",
    "    tmp = row['Author']\n",
    "    tmp = tmp.replace('{','')\n",
    "    tmp = tmp.replace('}','')\n",
    "    tmp = tmp.split(',')\n",
    "    tmp = [author.strip() for author in tmp]\n",
    "    print (tmp)\n",
    "#     for author in tmp:\n",
    "#         tmp2 = tmp.remove(tmp[0])\n",
    "#         print(tmp2)\n",
    "\n",
    "        "
   ]
  },
  {
   "cell_type": "code",
   "execution_count": 27,
   "id": "29c7f488",
   "metadata": {},
   "outputs": [],
   "source": [
    "# tmp = []\n",
    "\n",
    "# n = len(list_author)\n",
    "# V = np.zeros(shape=(n,n))\n",
    "# V\n",
    "\n",
    "# for index, row in df.iterrows():\n",
    "#     tmp = row['Author']\n",
    "#     tmp = tmp.replace('{','')\n",
    "#     tmp = tmp.replace('}','')\n",
    "#     tmp = tmp.split(',')\n",
    "#     tmp = [author.strip() for author in tmp]\n",
    "#     print (tmp)\n",
    "    \n",
    "\n",
    "\n",
    "#     for author in tmp:\n",
    "#         tmp = tmp.remove(author)\n",
    "#         for author2 in tmp:\n",
    "#             V[list_author.index(author),list_author.index(author2)] = V[list_author.index(author),list_author.index(author2)] + 1\n",
    "#             V[list_author.index(author2),list_author.index(author)] = V[list_author.index(author),list_author.index(author2)]\n",
    "#             V"
   ]
  },
  {
   "cell_type": "code",
   "execution_count": 28,
   "id": "fda7a398",
   "metadata": {},
   "outputs": [],
   "source": [
    "# V[list_author.index(tmp[0].strip()),list_author.index(tmp[1].strip())] = V[list_author.index(tmp[0].strip()),list_author.index(tmp[1].strip())] + 1\n",
    "# V[list_author.index(tmp[1].strip()),list_author.index(tmp[0].strip())] = V[list_author.index(tmp[0].strip()),list_author.index(tmp[1].strip())]"
   ]
  },
  {
   "cell_type": "code",
   "execution_count": 29,
   "id": "f0d50dd0",
   "metadata": {},
   "outputs": [
    {
     "data": {
      "text/plain": [
       "array([[0., 0., 0., 0., 0.],\n",
       "       [0., 0., 0., 0., 0.],\n",
       "       [0., 0., 0., 0., 0.],\n",
       "       [0., 0., 0., 0., 0.],\n",
       "       [0., 0., 0., 0., 0.]])"
      ]
     },
     "execution_count": 29,
     "metadata": {},
     "output_type": "execute_result"
    }
   ],
   "source": [
    "V"
   ]
  },
  {
   "cell_type": "code",
   "execution_count": 30,
   "id": "7a044132",
   "metadata": {},
   "outputs": [
    {
     "data": {
      "text/plain": [
       "['v1', 'v2', 'v3', 'v4', 'v5']"
      ]
     },
     "execution_count": 30,
     "metadata": {},
     "output_type": "execute_result"
    }
   ],
   "source": [
    "list_author"
   ]
  },
  {
   "cell_type": "code",
   "execution_count": 31,
   "id": "09cfacf9",
   "metadata": {},
   "outputs": [],
   "source": [
    "def update_adj_mat(V, list_author, author1, author2):\n",
    "    V[list_author.index(author1),list_author.index(author2)] = V[list_author.index(author1),list_author.index(author2)] + 1\n",
    "    V[list_author.index(author2),list_author.index(author1)] = V[list_author.index(author1),list_author.index(author2)]\n",
    "    return V"
   ]
  },
  {
   "cell_type": "code",
   "execution_count": 32,
   "id": "39e3e2e4",
   "metadata": {},
   "outputs": [],
   "source": [
    "n = len(list_author)\n",
    "V = np.zeros(shape=(n,n))\n",
    "\n",
    "for index, row in df.iterrows():\n",
    "    tmp = row['Author']\n",
    "    tmp = tmp.replace('{','')\n",
    "    tmp = tmp.replace('}','')\n",
    "    tmp = tmp.split(',')\n",
    "    tmp = [author.strip() for author in tmp]\n",
    "    if len(tmp) > 1: # if the paper has only 1 author then we don't need to update the matrix\n",
    "        for author1 in tmp:\n",
    "            for author2 in tmp:\n",
    "                if author1 != author2:\n",
    "                    V = update_adj_mat(V, list_author, author1, author2)\n",
    "#V[V > 1] = 1 # Replace the numbers bigger than 1 to 1\n",
    "V = V/2"
   ]
  },
  {
   "cell_type": "code",
   "execution_count": 33,
   "id": "65fbb1cc",
   "metadata": {},
   "outputs": [
    {
     "data": {
      "text/plain": [
       "array([[0., 4., 3., 0., 0.],\n",
       "       [4., 0., 5., 1., 0.],\n",
       "       [3., 5., 0., 2., 0.],\n",
       "       [0., 1., 2., 0., 2.],\n",
       "       [0., 0., 0., 2., 0.]])"
      ]
     },
     "execution_count": 33,
     "metadata": {},
     "output_type": "execute_result"
    }
   ],
   "source": [
    "V"
   ]
  },
  {
   "cell_type": "code",
   "execution_count": 44,
   "id": "89dad167",
   "metadata": {},
   "outputs": [
    {
     "data": {
      "text/plain": [
       "OutEdgeView([(0, 1), (0, 2), (1, 0), (1, 2), (1, 3), (2, 0), (2, 1), (2, 3), (3, 1), (3, 2), (3, 4), (4, 3)])"
      ]
     },
     "execution_count": 44,
     "metadata": {},
     "output_type": "execute_result"
    }
   ],
   "source": [
    "import networkx as nx\n",
    "G = nx.DiGraph(V, nodetype=int)\n",
    "G.edges()"
   ]
  },
  {
   "cell_type": "code",
   "execution_count": 34,
   "id": "59a3b3d0",
   "metadata": {},
   "outputs": [
    {
     "data": {
      "text/plain": [
       "['v1', 'v2', 'v3', 'v4', 'v5']"
      ]
     },
     "execution_count": 34,
     "metadata": {},
     "output_type": "execute_result"
    }
   ],
   "source": [
    "nodes = list_author\n",
    "nodes"
   ]
  },
  {
   "cell_type": "code",
   "execution_count": 35,
   "id": "b3277070",
   "metadata": {},
   "outputs": [
    {
     "ename": "NameError",
     "evalue": "name 'get_labels' is not defined",
     "output_type": "error",
     "traceback": [
      "\u001b[1;31m---------------------------------------------------------------------------\u001b[0m",
      "\u001b[1;31mNameError\u001b[0m                                 Traceback (most recent call last)",
      "Input \u001b[1;32mIn [35]\u001b[0m, in \u001b[0;36m<cell line: 1>\u001b[1;34m()\u001b[0m\n\u001b[1;32m----> 1\u001b[0m \u001b[43mget_labels\u001b[49m(\u001b[38;5;124m'\u001b[39m\u001b[38;5;124mExample matrix.xlxs\u001b[39m\u001b[38;5;124m'\u001b[39m)\n",
      "\u001b[1;31mNameError\u001b[0m: name 'get_labels' is not defined"
     ]
    }
   ],
   "source": [
    "# get_labels('Example matrix.xlxs')"
   ]
  },
  {
   "cell_type": "code",
   "execution_count": 36,
   "id": "9f0445dd",
   "metadata": {},
   "outputs": [],
   "source": [
    "import matplotlib.pyplot as plt\n",
    "import networkx as nx\n",
    "\n",
    "def show_graph_with_labels(adjacency_matrix, mylabels):\n",
    "    rows, cols = np.where(adjacency_matrix == 1)\n",
    "    edges = zip(rows.tolist(), cols.tolist())\n",
    "    gr = nx.Graph()\n",
    "    all_rows = range(0, adjacency_matrix.shape[0])\n",
    "    for n in all_rows:\n",
    "        gr.add_node(n)\n",
    "    gr.add_edges_from(edges)\n",
    "    nx.draw(gr, node_size=900, labels=mylabels, with_labels=True)\n",
    "    plt.show()\n",
    "    \n"
   ]
  },
  {
   "cell_type": "code",
   "execution_count": 37,
   "id": "16799a7c",
   "metadata": {},
   "outputs": [
    {
     "ename": "AttributeError",
     "evalue": "'list' object has no attribute 'items'",
     "output_type": "error",
     "traceback": [
      "\u001b[1;31m---------------------------------------------------------------------------\u001b[0m",
      "\u001b[1;31mAttributeError\u001b[0m                            Traceback (most recent call last)",
      "Input \u001b[1;32mIn [37]\u001b[0m, in \u001b[0;36m<cell line: 1>\u001b[1;34m()\u001b[0m\n\u001b[1;32m----> 1\u001b[0m \u001b[43mshow_graph_with_labels\u001b[49m\u001b[43m(\u001b[49m\u001b[43mV\u001b[49m\u001b[43m,\u001b[49m\u001b[43m \u001b[49m\u001b[43mnodes\u001b[49m\u001b[43m)\u001b[49m\n",
      "Input \u001b[1;32mIn [36]\u001b[0m, in \u001b[0;36mshow_graph_with_labels\u001b[1;34m(adjacency_matrix, mylabels)\u001b[0m\n\u001b[0;32m     10\u001b[0m     gr\u001b[38;5;241m.\u001b[39madd_node(n)\n\u001b[0;32m     11\u001b[0m gr\u001b[38;5;241m.\u001b[39madd_edges_from(edges)\n\u001b[1;32m---> 12\u001b[0m \u001b[43mnx\u001b[49m\u001b[38;5;241;43m.\u001b[39;49m\u001b[43mdraw\u001b[49m\u001b[43m(\u001b[49m\u001b[43mgr\u001b[49m\u001b[43m,\u001b[49m\u001b[43m \u001b[49m\u001b[43mnode_size\u001b[49m\u001b[38;5;241;43m=\u001b[39;49m\u001b[38;5;241;43m900\u001b[39;49m\u001b[43m,\u001b[49m\u001b[43m \u001b[49m\u001b[43mlabels\u001b[49m\u001b[38;5;241;43m=\u001b[39;49m\u001b[43mmylabels\u001b[49m\u001b[43m,\u001b[49m\u001b[43m \u001b[49m\u001b[43mwith_labels\u001b[49m\u001b[38;5;241;43m=\u001b[39;49m\u001b[38;5;28;43;01mTrue\u001b[39;49;00m\u001b[43m)\u001b[49m\n\u001b[0;32m     13\u001b[0m plt\u001b[38;5;241m.\u001b[39mshow()\n",
      "File \u001b[1;32m~\\anaconda3\\lib\\site-packages\\networkx\\drawing\\nx_pylab.py:120\u001b[0m, in \u001b[0;36mdraw\u001b[1;34m(G, pos, ax, **kwds)\u001b[0m\n\u001b[0;32m    117\u001b[0m \u001b[38;5;28;01mif\u001b[39;00m \u001b[38;5;124m\"\u001b[39m\u001b[38;5;124mwith_labels\u001b[39m\u001b[38;5;124m\"\u001b[39m \u001b[38;5;129;01mnot\u001b[39;00m \u001b[38;5;129;01min\u001b[39;00m kwds:\n\u001b[0;32m    118\u001b[0m     kwds[\u001b[38;5;124m\"\u001b[39m\u001b[38;5;124mwith_labels\u001b[39m\u001b[38;5;124m\"\u001b[39m] \u001b[38;5;241m=\u001b[39m \u001b[38;5;124m\"\u001b[39m\u001b[38;5;124mlabels\u001b[39m\u001b[38;5;124m\"\u001b[39m \u001b[38;5;129;01min\u001b[39;00m kwds\n\u001b[1;32m--> 120\u001b[0m draw_networkx(G, pos\u001b[38;5;241m=\u001b[39mpos, ax\u001b[38;5;241m=\u001b[39max, \u001b[38;5;241m*\u001b[39m\u001b[38;5;241m*\u001b[39mkwds)\n\u001b[0;32m    121\u001b[0m ax\u001b[38;5;241m.\u001b[39mset_axis_off()\n\u001b[0;32m    122\u001b[0m plt\u001b[38;5;241m.\u001b[39mdraw_if_interactive()\n",
      "File \u001b[1;32m~\\anaconda3\\lib\\site-packages\\networkx\\drawing\\nx_pylab.py:336\u001b[0m, in \u001b[0;36mdraw_networkx\u001b[1;34m(G, pos, arrows, with_labels, **kwds)\u001b[0m\n\u001b[0;32m    334\u001b[0m draw_networkx_edges(G, pos, arrows\u001b[38;5;241m=\u001b[39marrows, \u001b[38;5;241m*\u001b[39m\u001b[38;5;241m*\u001b[39medge_kwds)\n\u001b[0;32m    335\u001b[0m \u001b[38;5;28;01mif\u001b[39;00m with_labels:\n\u001b[1;32m--> 336\u001b[0m     draw_networkx_labels(G, pos, \u001b[38;5;241m*\u001b[39m\u001b[38;5;241m*\u001b[39mlabel_kwds)\n\u001b[0;32m    337\u001b[0m plt\u001b[38;5;241m.\u001b[39mdraw_if_interactive()\n",
      "File \u001b[1;32m~\\anaconda3\\lib\\site-packages\\networkx\\drawing\\nx_pylab.py:1000\u001b[0m, in \u001b[0;36mdraw_networkx_labels\u001b[1;34m(G, pos, labels, font_size, font_color, font_family, font_weight, alpha, bbox, horizontalalignment, verticalalignment, ax, clip_on)\u001b[0m\n\u001b[0;32m    997\u001b[0m     labels \u001b[38;5;241m=\u001b[39m {n: n \u001b[38;5;28;01mfor\u001b[39;00m n \u001b[38;5;129;01min\u001b[39;00m G\u001b[38;5;241m.\u001b[39mnodes()}\n\u001b[0;32m    999\u001b[0m text_items \u001b[38;5;241m=\u001b[39m {}  \u001b[38;5;66;03m# there is no text collection so we'll fake one\u001b[39;00m\n\u001b[1;32m-> 1000\u001b[0m \u001b[38;5;28;01mfor\u001b[39;00m n, label \u001b[38;5;129;01min\u001b[39;00m \u001b[43mlabels\u001b[49m\u001b[38;5;241;43m.\u001b[39;49m\u001b[43mitems\u001b[49m():\n\u001b[0;32m   1001\u001b[0m     (x, y) \u001b[38;5;241m=\u001b[39m pos[n]\n\u001b[0;32m   1002\u001b[0m     \u001b[38;5;28;01mif\u001b[39;00m \u001b[38;5;129;01mnot\u001b[39;00m \u001b[38;5;28misinstance\u001b[39m(label, \u001b[38;5;28mstr\u001b[39m):\n",
      "\u001b[1;31mAttributeError\u001b[0m: 'list' object has no attribute 'items'"
     ]
    },
    {
     "data": {
      "image/png": "[encoded data removed]",
      "text/plain": [
       "<Figure size 432x288 with 1 Axes>"
      ]
     },
     "metadata": {},
     "output_type": "display_data"
    }
   ],
   "source": [
    "show_graph_with_labels(V, nodes)"
   ]
  },
  {
   "cell_type": "code",
   "execution_count": 38,
   "id": "9788e69c",
   "metadata": {},
   "outputs": [],
   "source": [
    "matrix=pd.DataFrame(V, columns = list_author, index = list_author) "
   ]
  },
  {
   "cell_type": "code",
   "execution_count": 39,
   "id": "e335cf16",
   "metadata": {
    "scrolled": true
   },
   "outputs": [
    {
     "data": {
      "text/html": [
       "<div>\n",
       "<style scoped>\n",
       "    .dataframe tbody tr th:only-of-type {\n",
       "        vertical-align: middle;\n",
       "    }\n",
       "\n",
       "    .dataframe tbody tr th {\n",
       "        vertical-align: top;\n",
       "    }\n",
       "\n",
       "    .dataframe thead th {\n",
       "        text-align: right;\n",
       "    }\n",
       "</style>\n",
       "<table border=\"1\" class=\"dataframe\">\n",
       "  <thead>\n",
       "    <tr style=\"text-align: right;\">\n",
       "      <th></th>\n",
       "      <th>v1</th>\n",
       "      <th>v2</th>\n",
       "      <th>v3</th>\n",
       "      <th>v4</th>\n",
       "      <th>v5</th>\n",
       "    </tr>\n",
       "  </thead>\n",
       "  <tbody>\n",
       "    <tr>\n",
       "      <th>v1</th>\n",
       "      <td>0.0</td>\n",
       "      <td>4.0</td>\n",
       "      <td>3.0</td>\n",
       "      <td>0.0</td>\n",
       "      <td>0.0</td>\n",
       "    </tr>\n",
       "    <tr>\n",
       "      <th>v2</th>\n",
       "      <td>4.0</td>\n",
       "      <td>0.0</td>\n",
       "      <td>5.0</td>\n",
       "      <td>1.0</td>\n",
       "      <td>0.0</td>\n",
       "    </tr>\n",
       "    <tr>\n",
       "      <th>v3</th>\n",
       "      <td>3.0</td>\n",
       "      <td>5.0</td>\n",
       "      <td>0.0</td>\n",
       "      <td>2.0</td>\n",
       "      <td>0.0</td>\n",
       "    </tr>\n",
       "    <tr>\n",
       "      <th>v4</th>\n",
       "      <td>0.0</td>\n",
       "      <td>1.0</td>\n",
       "      <td>2.0</td>\n",
       "      <td>0.0</td>\n",
       "      <td>2.0</td>\n",
       "    </tr>\n",
       "    <tr>\n",
       "      <th>v5</th>\n",
       "      <td>0.0</td>\n",
       "      <td>0.0</td>\n",
       "      <td>0.0</td>\n",
       "      <td>2.0</td>\n",
       "      <td>0.0</td>\n",
       "    </tr>\n",
       "  </tbody>\n",
       "</table>\n",
       "</div>"
      ],
      "text/plain": [
       "     v1   v2   v3   v4   v5\n",
       "v1  0.0  4.0  3.0  0.0  0.0\n",
       "v2  4.0  0.0  5.0  1.0  0.0\n",
       "v3  3.0  5.0  0.0  2.0  0.0\n",
       "v4  0.0  1.0  2.0  0.0  2.0\n",
       "v5  0.0  0.0  0.0  2.0  0.0"
      ]
     },
     "execution_count": 39,
     "metadata": {},
     "output_type": "execute_result"
    }
   ],
   "source": [
    "matrix"
   ]
  },
  {
   "cell_type": "code",
   "execution_count": 40,
   "id": "d3d8c79d",
   "metadata": {},
   "outputs": [],
   "source": [
    "Graph=nx.from_numpy_matrix(V)"
   ]
  },
  {
   "cell_type": "code",
   "execution_count": 41,
   "id": "03ee5063",
   "metadata": {
    "scrolled": true
   },
   "outputs": [
    {
     "data": {
      "image/png": "[encoded data removed]",
      "text/plain": [
       "<Figure size 432x288 with 1 Axes>"
      ]
     },
     "metadata": {},
     "output_type": "display_data"
    }
   ],
   "source": [
    "nx.draw(Graph, with_labels=True, font_weight='bold')"
   ]
  },
  {
   "cell_type": "code",
   "execution_count": 45,
   "id": "55552168",
   "metadata": {},
   "outputs": [],
   "source": [
    "from pyvis.network import Network"
   ]
  },
  {
   "cell_type": "code",
   "execution_count": 64,
   "id": "d5e48328",
   "metadata": {},
   "outputs": [],
   "source": [
    "nt = Network('500px', '500px')\n",
    "# populates the nodes and edges data structures\n",
    "nt.from_nx(Graph)\n",
    "nt.show('nx.html')"
   ]
  },
  {
   "cell_type": "code",
   "execution_count": 43,
   "id": "e58a4221",
   "metadata": {},
   "outputs": [
    {
     "ename": "AttributeError",
     "evalue": "'DataFrame' object has no attribute 'dtype'",
     "output_type": "error",
     "traceback": [
      "\u001b[1;31m---------------------------------------------------------------------------\u001b[0m",
      "\u001b[1;31mAttributeError\u001b[0m                            Traceback (most recent call last)",
      "Input \u001b[1;32mIn [43]\u001b[0m, in \u001b[0;36m<cell line: 1>\u001b[1;34m()\u001b[0m\n\u001b[1;32m----> 1\u001b[0m Graph2\u001b[38;5;241m=\u001b[39m\u001b[43mnx\u001b[49m\u001b[38;5;241;43m.\u001b[39;49m\u001b[43mfrom_numpy_matrix\u001b[49m\u001b[43m(\u001b[49m\u001b[43mmatrix\u001b[49m\u001b[43m)\u001b[49m\n",
      "File \u001b[1;32m~\\anaconda3\\lib\\site-packages\\networkx\\convert_matrix.py:693\u001b[0m, in \u001b[0;36mfrom_numpy_matrix\u001b[1;34m(A, parallel_edges, create_using)\u001b[0m\n\u001b[0;32m    602\u001b[0m \u001b[38;5;124;03m\"\"\"Returns a graph from numpy matrix.\u001b[39;00m\n\u001b[0;32m    603\u001b[0m \n\u001b[0;32m    604\u001b[0m \u001b[38;5;124;03mThe numpy matrix is interpreted as an adjacency matrix for the graph.\u001b[39;00m\n\u001b[1;32m   (...)\u001b[0m\n\u001b[0;32m    684\u001b[0m \n\u001b[0;32m    685\u001b[0m \u001b[38;5;124;03m\"\"\"\u001b[39;00m\n\u001b[0;32m    686\u001b[0m warnings\u001b[38;5;241m.\u001b[39mwarn(\n\u001b[0;32m    687\u001b[0m     (\n\u001b[0;32m    688\u001b[0m         \u001b[38;5;124m\"\u001b[39m\u001b[38;5;124mfrom_numpy_matrix is deprecated and will be removed in NetworkX 3.0.\u001b[39m\u001b[38;5;130;01m\\n\u001b[39;00m\u001b[38;5;124m\"\u001b[39m\n\u001b[1;32m   (...)\u001b[0m\n\u001b[0;32m    691\u001b[0m     \u001b[38;5;167;01mDeprecationWarning\u001b[39;00m,\n\u001b[0;32m    692\u001b[0m )\n\u001b[1;32m--> 693\u001b[0m \u001b[38;5;28;01mreturn\u001b[39;00m \u001b[43mfrom_numpy_array\u001b[49m\u001b[43m(\u001b[49m\u001b[43mA\u001b[49m\u001b[43m,\u001b[49m\u001b[43m \u001b[49m\u001b[43mparallel_edges\u001b[49m\u001b[38;5;241;43m=\u001b[39;49m\u001b[43mparallel_edges\u001b[49m\u001b[43m,\u001b[49m\u001b[43m \u001b[49m\u001b[43mcreate_using\u001b[49m\u001b[38;5;241;43m=\u001b[39;49m\u001b[43mcreate_using\u001b[49m\u001b[43m)\u001b[49m\n",
      "File \u001b[1;32m~\\anaconda3\\lib\\site-packages\\networkx\\convert_matrix.py:1587\u001b[0m, in \u001b[0;36mfrom_numpy_array\u001b[1;34m(A, parallel_edges, create_using)\u001b[0m\n\u001b[0;32m   1585\u001b[0m \u001b[38;5;28;01mif\u001b[39;00m n \u001b[38;5;241m!=\u001b[39m m:\n\u001b[0;32m   1586\u001b[0m     \u001b[38;5;28;01mraise\u001b[39;00m nx\u001b[38;5;241m.\u001b[39mNetworkXError(\u001b[38;5;124mf\u001b[39m\u001b[38;5;124m\"\u001b[39m\u001b[38;5;124mAdjacency matrix not square: nx,ny=\u001b[39m\u001b[38;5;132;01m{\u001b[39;00mA\u001b[38;5;241m.\u001b[39mshape\u001b[38;5;132;01m}\u001b[39;00m\u001b[38;5;124m\"\u001b[39m)\n\u001b[1;32m-> 1587\u001b[0m dt \u001b[38;5;241m=\u001b[39m \u001b[43mA\u001b[49m\u001b[38;5;241;43m.\u001b[39;49m\u001b[43mdtype\u001b[49m\n\u001b[0;32m   1588\u001b[0m \u001b[38;5;28;01mtry\u001b[39;00m:\n\u001b[0;32m   1589\u001b[0m     python_type \u001b[38;5;241m=\u001b[39m kind_to_python_type[dt\u001b[38;5;241m.\u001b[39mkind]\n",
      "File \u001b[1;32m~\\anaconda3\\lib\\site-packages\\pandas\\core\\generic.py:5575\u001b[0m, in \u001b[0;36mNDFrame.__getattr__\u001b[1;34m(self, name)\u001b[0m\n\u001b[0;32m   5568\u001b[0m \u001b[38;5;28;01mif\u001b[39;00m (\n\u001b[0;32m   5569\u001b[0m     name \u001b[38;5;129;01mnot\u001b[39;00m \u001b[38;5;129;01min\u001b[39;00m \u001b[38;5;28mself\u001b[39m\u001b[38;5;241m.\u001b[39m_internal_names_set\n\u001b[0;32m   5570\u001b[0m     \u001b[38;5;129;01mand\u001b[39;00m name \u001b[38;5;129;01mnot\u001b[39;00m \u001b[38;5;129;01min\u001b[39;00m \u001b[38;5;28mself\u001b[39m\u001b[38;5;241m.\u001b[39m_metadata\n\u001b[0;32m   5571\u001b[0m     \u001b[38;5;129;01mand\u001b[39;00m name \u001b[38;5;129;01mnot\u001b[39;00m \u001b[38;5;129;01min\u001b[39;00m \u001b[38;5;28mself\u001b[39m\u001b[38;5;241m.\u001b[39m_accessors\n\u001b[0;32m   5572\u001b[0m     \u001b[38;5;129;01mand\u001b[39;00m \u001b[38;5;28mself\u001b[39m\u001b[38;5;241m.\u001b[39m_info_axis\u001b[38;5;241m.\u001b[39m_can_hold_identifiers_and_holds_name(name)\n\u001b[0;32m   5573\u001b[0m ):\n\u001b[0;32m   5574\u001b[0m     \u001b[38;5;28;01mreturn\u001b[39;00m \u001b[38;5;28mself\u001b[39m[name]\n\u001b[1;32m-> 5575\u001b[0m \u001b[38;5;28;01mreturn\u001b[39;00m \u001b[38;5;28;43mobject\u001b[39;49m\u001b[38;5;241;43m.\u001b[39;49m\u001b[38;5;21;43m__getattribute__\u001b[39;49m\u001b[43m(\u001b[49m\u001b[38;5;28;43mself\u001b[39;49m\u001b[43m,\u001b[49m\u001b[43m \u001b[49m\u001b[43mname\u001b[49m\u001b[43m)\u001b[49m\n",
      "\u001b[1;31mAttributeError\u001b[0m: 'DataFrame' object has no attribute 'dtype'"
     ]
    }
   ],
   "source": [
    "Graph2=nx.from_numpy_matrix(matrix)"
   ]
  },
  {
   "cell_type": "code",
   "execution_count": null,
   "id": "92ec413f",
   "metadata": {},
   "outputs": [],
   "source": [
    "nx.draw(Graph2, with_labels=True, font_weight='bold')"
   ]
  },
  {
   "cell_type": "code",
   "execution_count": null,
   "id": "c43349a5",
   "metadata": {},
   "outputs": [],
   "source": [
    "from numpy import genfromtxt\n",
    "import numpy as np\n",
    "import csv"
   ]
  },
  {
   "cell_type": "code",
   "execution_count": null,
   "id": "b09f35d5",
   "metadata": {},
   "outputs": [],
   "source": [
    "# import matplotlib.pyplot as plt\n",
    "# import networkx as nx\n",
    "\n",
    "# def show_graph_with_labels(adjacency_matrix, nodes):\n",
    "#     rows, cols = np.where(adjacency_matrix == 1)\n",
    "#     edges = zip(rows.tolist(), cols.tolist())\n",
    "#     gr = nx.Graph()\n",
    "#     gr.add_edges_from(edges)\n",
    "#     nx.draw(gr, node_size=500, labels=nodes, with_labels=True)\n",
    "#     plt.show()\n",
    "\n",
    "# show_graph_with_labels(V, nodes)"
   ]
  },
  {
   "cell_type": "code",
   "execution_count": null,
   "id": "a7640ee1",
   "metadata": {},
   "outputs": [],
   "source": [
    "# import matplotlib.pyplot as plt\n",
    "# import networkx as nx"
   ]
  },
  {
   "cell_type": "code",
   "execution_count": null,
   "id": "b1be9c56",
   "metadata": {},
   "outputs": [],
   "source": [
    "# nx.to_pandas_edgelist(V)"
   ]
  },
  {
   "cell_type": "code",
   "execution_count": null,
   "id": "d1bb24a5",
   "metadata": {},
   "outputs": [],
   "source": [
    "# K = nx.from_numpy_matrix(V)\n",
    "# nx.draw(K)"
   ]
  },
  {
   "cell_type": "code",
   "execution_count": null,
   "id": "3e2226c8",
   "metadata": {},
   "outputs": [],
   "source": [
    "# import pandas as pd\n",
    "# import networkx as nx\n",
    "# input_data = pd.read_excel('Example matrix.xlsx', index_col=0)\n",
    "# G = nx.Graph(input_data.values, with_lables=True)"
   ]
  },
  {
   "cell_type": "code",
   "execution_count": null,
   "id": "15cefdf6",
   "metadata": {},
   "outputs": [],
   "source": [
    "# nx.draw(G)"
   ]
  },
  {
   "cell_type": "code",
   "execution_count": null,
   "id": "6903b44a",
   "metadata": {},
   "outputs": [],
   "source": []
  },
  {
   "cell_type": "code",
   "execution_count": null,
   "id": "2850e982",
   "metadata": {},
   "outputs": [],
   "source": []
  },
  {
   "cell_type": "code",
   "execution_count": null,
   "id": "08a19d1c",
   "metadata": {},
   "outputs": [],
   "source": [
    "from pyvis.network import Network"
   ]
  },
  {
   "cell_type": "code",
   "execution_count": null,
   "id": "dd452017",
   "metadata": {},
   "outputs": [],
   "source": [
    "nodes = list_author\n",
    "nodes"
   ]
  },
  {
   "cell_type": "code",
   "execution_count": null,
   "id": "e36cbd6a",
   "metadata": {},
   "outputs": [],
   "source": [
    "def get_edges(node: str, weights: list, all_nodes: list, minimum_weight: int):\n",
    "    \n",
    "    nodes = all_nodes.copy()\n",
    "    \n",
    "    # Remove target node\n",
    "    nodes.remove(node)\n",
    "    \n",
    "    # Create a list of edges with weights\n",
    "    edges = [(node, connection, weight) for connection, weight in zip(nodes, weights)]\n",
    "    \n",
    "    # Get only edges with weights greater than the minimum weight\n",
    "    edges = [edge for edge in edges if edge[2] >= minimum_weight]\n",
    "    \n",
    "    return edges"
   ]
  },
  {
   "cell_type": "code",
   "execution_count": null,
   "id": "28f6cb42",
   "metadata": {},
   "outputs": [],
   "source": [
    "    for node, weights in df.iterrows():\n",
    "        edges = get_edges(node, weights, nodes, minimum_weight = 1)"
   ]
  },
  {
   "cell_type": "code",
   "execution_count": null,
   "id": "b42e1c2a",
   "metadata": {},
   "outputs": [],
   "source": [
    "def draw_network(\n",
    "    nodes: list,\n",
    "    df: pd.DataFrame,\n",
    "    minium_weight: int = 1,\n",
    "    repulsion: int = 80,\n",
    "    spring_length=100,\n",
    "):\n",
    "    \n",
    "    net = Network(\"500px\", \"75%\", notebook=True)\n",
    "    net.add_nodes(nodes) \n",
    "\n",
    "    # add edges\n",
    "    for node, weights in df.iterrows():\n",
    "        edges = get_edges(node, weights, nodes, minium_weight)\n",
    "        net.add_edges(edges)\n",
    "\n",
    "    # change node distance and spring length\n",
    "    net.repulsion(repulsion, spring_length=spring_length)\n",
    "    return net"
   ]
  },
  {
   "cell_type": "code",
   "execution_count": null,
   "id": "8aa9bd35",
   "metadata": {},
   "outputs": [],
   "source": []
  },
  {
   "cell_type": "code",
   "execution_count": null,
   "id": "ca11264f",
   "metadata": {},
   "outputs": [],
   "source": [
    "net = draw_network(nodes, matrix, minium_weight=1, repulsion=80, spring_length=100)\n",
    "net.show_buttons(filter_=[\"physics\", \"nodes\"])\n",
    "# net.set_options('''\n",
    "# const options = {\n",
    "#   \"physics\": {\n",
    "#     \"forceAtlas2Based\": {\n",
    "#       \"theta\": 0.3,\n",
    "#       \"gravitationalConstant\": -223,\n",
    "#       \"springLength\": 100\n",
    "#     },\n",
    "#     \"minVelocity\": 0.75,\n",
    "#     \"solver\": \"forceAtlas2Based\"\n",
    "#   }\n",
    "# }\n",
    "# ''')\n",
    "net.show(\"Example.html\")"
   ]
  },
  {
   "cell_type": "code",
   "execution_count": null,
   "id": "8680ae74",
   "metadata": {},
   "outputs": [],
   "source": [
    "import networkx as nx\n",
    "import matplotlib.pyplot as plt"
   ]
  },
  {
   "cell_type": "code",
   "execution_count": null,
   "id": "9999e026",
   "metadata": {},
   "outputs": [],
   "source": [
    "G = nx.petersen_graph()\n",
    "subax1 = plt.subplot(121)\n",
    "nx.draw(G, with_labels=True, font_weight='bold')\n",
    "subax2 = plt.subplot(122)\n",
    "nx.draw_shell(G, nlist=[range(5, 10), range(5)], with_labels=True, font_weight='bold')"
   ]
  },
  {
   "cell_type": "code",
   "execution_count": null,
   "id": "815f2b72",
   "metadata": {},
   "outputs": [],
   "source": [
    "plt.show()  "
   ]
  },
  {
   "cell_type": "code",
   "execution_count": null,
   "id": "385a9112",
   "metadata": {},
   "outputs": [],
   "source": []
  },
  {
   "cell_type": "code",
   "execution_count": null,
   "id": "ab43d6fb",
   "metadata": {},
   "outputs": [],
   "source": []
  },
  {
   "cell_type": "code",
   "execution_count": null,
   "id": "e8f9bbc0",
   "metadata": {},
   "outputs": [],
   "source": []
  }
 ],
 "metadata": {
  "kernelspec": {
   "display_name": "Python 3 (ipykernel)",
   "language": "python",
   "name": "python3"
  },
  "language_info": {
   "codemirror_mode": {
    "name": "ipython",
    "version": 3
   },
   "file_extension": ".py",
   "mimetype": "text/x-python",
   "name": "python",
   "nbconvert_exporter": "python",
   "pygments_lexer": "ipython3",
   "version": "3.9.12"
  }
 },
 "nbformat": 4,
 "nbformat_minor": 5
}
