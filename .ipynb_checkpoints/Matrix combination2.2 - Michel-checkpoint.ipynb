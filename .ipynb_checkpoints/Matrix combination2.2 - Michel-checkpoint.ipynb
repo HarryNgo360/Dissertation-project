{
 "cells": [
  {
   "cell_type": "code",
   "execution_count": 1,
   "id": "25527b7d",
   "metadata": {},
   "outputs": [
    {
     "data": {
      "text/html": [
       "<div>\n",
       "<style scoped>\n",
       "    .dataframe tbody tr th:only-of-type {\n",
       "        vertical-align: middle;\n",
       "    }\n",
       "\n",
       "    .dataframe tbody tr th {\n",
       "        vertical-align: top;\n",
       "    }\n",
       "\n",
       "    .dataframe thead th {\n",
       "        text-align: right;\n",
       "    }\n",
       "</style>\n",
       "<table border=\"1\" class=\"dataframe\">\n",
       "  <thead>\n",
       "    <tr style=\"text-align: right;\">\n",
       "      <th></th>\n",
       "      <th>Paper</th>\n",
       "      <th>Author</th>\n",
       "    </tr>\n",
       "  </thead>\n",
       "  <tbody>\n",
       "    <tr>\n",
       "      <th>0</th>\n",
       "      <td>P01</td>\n",
       "      <td>{v1, v2}</td>\n",
       "    </tr>\n",
       "    <tr>\n",
       "      <th>1</th>\n",
       "      <td>P02</td>\n",
       "      <td>{v1}</td>\n",
       "    </tr>\n",
       "    <tr>\n",
       "      <th>2</th>\n",
       "      <td>P03</td>\n",
       "      <td>{v1, v2, v3}</td>\n",
       "    </tr>\n",
       "    <tr>\n",
       "      <th>3</th>\n",
       "      <td>P04</td>\n",
       "      <td>{v3, v4}</td>\n",
       "    </tr>\n",
       "    <tr>\n",
       "      <th>4</th>\n",
       "      <td>P05</td>\n",
       "      <td>{v3, v2}</td>\n",
       "    </tr>\n",
       "    <tr>\n",
       "      <th>5</th>\n",
       "      <td>P06</td>\n",
       "      <td>{v1, v2, v3}</td>\n",
       "    </tr>\n",
       "    <tr>\n",
       "      <th>6</th>\n",
       "      <td>P07</td>\n",
       "      <td>{v1, v2, v3}</td>\n",
       "    </tr>\n",
       "    <tr>\n",
       "      <th>7</th>\n",
       "      <td>P08</td>\n",
       "      <td>{v4, v5}</td>\n",
       "    </tr>\n",
       "    <tr>\n",
       "      <th>8</th>\n",
       "      <td>P09</td>\n",
       "      <td>{v5, v4}</td>\n",
       "    </tr>\n",
       "    <tr>\n",
       "      <th>9</th>\n",
       "      <td>P10</td>\n",
       "      <td>{v3, v2, v4}</td>\n",
       "    </tr>\n",
       "  </tbody>\n",
       "</table>\n",
       "</div>"
      ],
      "text/plain": [
       "  Paper        Author\n",
       "0   P01      {v1, v2}\n",
       "1   P02          {v1}\n",
       "2   P03  {v1, v2, v3}\n",
       "3   P04      {v3, v4}\n",
       "4   P05      {v3, v2}\n",
       "5   P06  {v1, v2, v3}\n",
       "6   P07  {v1, v2, v3}\n",
       "7   P08      {v4, v5}\n",
       "8   P09      {v5, v4}\n",
       "9   P10  {v3, v2, v4}"
      ]
     },
     "execution_count": 1,
     "metadata": {},
     "output_type": "execute_result"
    }
   ],
   "source": [
    "import pandas as pd \n",
    "\n",
    "df = pd.read_excel('AuthorxArticles.xlsx')\n",
    "df\n"
   ]
  },
  {
   "cell_type": "code",
   "execution_count": 2,
   "id": "305ec6c0",
   "metadata": {},
   "outputs": [],
   "source": [
    "list_author = []\n",
    "for index, row in df.iterrows():\n",
    "    tmp = row['Author']\n",
    "    tmp = tmp.replace('{','')\n",
    "    tmp = tmp.replace('}','')\n",
    "    tmp = tmp.split(',')\n",
    "    [list_author.append(author.strip()) for author in tmp if author not in list_author] # list comprehension"
   ]
  },
  {
   "cell_type": "code",
   "execution_count": 3,
   "id": "bf215ab2",
   "metadata": {},
   "outputs": [
    {
     "data": {
      "text/plain": [
       "['v1',\n",
       " 'v2',\n",
       " 'v2',\n",
       " 'v3',\n",
       " 'v4',\n",
       " 'v2',\n",
       " 'v2',\n",
       " 'v3',\n",
       " 'v2',\n",
       " 'v3',\n",
       " 'v5',\n",
       " 'v4',\n",
       " 'v2',\n",
       " 'v4']"
      ]
     },
     "execution_count": 3,
     "metadata": {},
     "output_type": "execute_result"
    }
   ],
   "source": [
    "list_author"
   ]
  },
  {
   "cell_type": "code",
   "execution_count": 4,
   "id": "7acb9a10",
   "metadata": {},
   "outputs": [],
   "source": [
    "# dict.fromkeys(list_author)"
   ]
  },
  {
   "cell_type": "code",
   "execution_count": 5,
   "id": "b73364a4",
   "metadata": {},
   "outputs": [],
   "source": [
    "list_author = list(dict.fromkeys(list_author)) # remove the duplicates from the list of authors"
   ]
  },
  {
   "cell_type": "code",
   "execution_count": 6,
   "id": "7178020c",
   "metadata": {},
   "outputs": [
    {
     "data": {
      "text/plain": [
       "['v1', 'v2', 'v3', 'v4', 'v5']"
      ]
     },
     "execution_count": 6,
     "metadata": {},
     "output_type": "execute_result"
    }
   ],
   "source": [
    "list_author"
   ]
  },
  {
   "cell_type": "code",
   "execution_count": 7,
   "id": "3aa8ded2",
   "metadata": {},
   "outputs": [
    {
     "name": "stdout",
     "output_type": "stream",
     "text": [
      "v1\n",
      "v2\n",
      "v3\n",
      "v4\n",
      "v5\n"
     ]
    }
   ],
   "source": [
    "for author in list_author:\n",
    "    print(author)"
   ]
  },
  {
   "cell_type": "code",
   "execution_count": 8,
   "id": "65573dc5",
   "metadata": {},
   "outputs": [],
   "source": [
    "list_tmp = list_author.copy()"
   ]
  },
  {
   "cell_type": "code",
   "execution_count": 9,
   "id": "4bced343",
   "metadata": {},
   "outputs": [
    {
     "data": {
      "text/plain": [
       "['v1', 'v2', 'v3', 'v4', 'v5']"
      ]
     },
     "execution_count": 9,
     "metadata": {},
     "output_type": "execute_result"
    }
   ],
   "source": [
    "list_tmp"
   ]
  },
  {
   "cell_type": "code",
   "execution_count": 10,
   "id": "19470f6e",
   "metadata": {},
   "outputs": [],
   "source": [
    "list_tmp.remove('v3')"
   ]
  },
  {
   "cell_type": "code",
   "execution_count": 11,
   "id": "307aa3b9",
   "metadata": {},
   "outputs": [
    {
     "data": {
      "text/plain": [
       "['v1', 'v2', 'v4', 'v5']"
      ]
     },
     "execution_count": 11,
     "metadata": {},
     "output_type": "execute_result"
    }
   ],
   "source": [
    "list_tmp"
   ]
  },
  {
   "cell_type": "code",
   "execution_count": 12,
   "id": "60267406",
   "metadata": {},
   "outputs": [
    {
     "data": {
      "text/plain": [
       "5"
      ]
     },
     "execution_count": 12,
     "metadata": {},
     "output_type": "execute_result"
    }
   ],
   "source": [
    "len(list_author)"
   ]
  },
  {
   "cell_type": "code",
   "execution_count": 13,
   "id": "0ecd35d2",
   "metadata": {},
   "outputs": [
    {
     "data": {
      "text/plain": [
       "['v1', 'v2', 'v3', 'v4', 'v5']"
      ]
     },
     "execution_count": 13,
     "metadata": {},
     "output_type": "execute_result"
    }
   ],
   "source": [
    "list_author"
   ]
  },
  {
   "cell_type": "code",
   "execution_count": 14,
   "id": "9910a9b6",
   "metadata": {},
   "outputs": [],
   "source": [
    "tmp = df.loc[9,'Author']"
   ]
  },
  {
   "cell_type": "code",
   "execution_count": 15,
   "id": "5088b510",
   "metadata": {},
   "outputs": [
    {
     "data": {
      "text/plain": [
       "['v3', 'v2', 'v4']"
      ]
     },
     "execution_count": 15,
     "metadata": {},
     "output_type": "execute_result"
    }
   ],
   "source": [
    "tmp = tmp.replace('{','')\n",
    "tmp = tmp.replace('}','')\n",
    "tmp = tmp.split(',')\n",
    "tmp = [author.strip() for author in tmp]\n",
    "tmp"
   ]
  },
  {
   "cell_type": "code",
   "execution_count": 16,
   "id": "b2e0c31f",
   "metadata": {},
   "outputs": [
    {
     "data": {
      "text/plain": [
       "['v3', 'v2', 'v4']"
      ]
     },
     "execution_count": 16,
     "metadata": {},
     "output_type": "execute_result"
    }
   ],
   "source": [
    "tmp"
   ]
  },
  {
   "cell_type": "code",
   "execution_count": 17,
   "id": "58c9f837",
   "metadata": {},
   "outputs": [
    {
     "data": {
      "text/plain": [
       "2"
      ]
     },
     "execution_count": 17,
     "metadata": {},
     "output_type": "execute_result"
    }
   ],
   "source": [
    "list_author.index(tmp[0])"
   ]
  },
  {
   "cell_type": "code",
   "execution_count": 18,
   "id": "3494c548",
   "metadata": {},
   "outputs": [
    {
     "data": {
      "text/plain": [
       "1"
      ]
     },
     "execution_count": 18,
     "metadata": {},
     "output_type": "execute_result"
    }
   ],
   "source": [
    "list_author.index(tmp[1])"
   ]
  },
  {
   "cell_type": "code",
   "execution_count": 19,
   "id": "fa74a6cf",
   "metadata": {},
   "outputs": [
    {
     "data": {
      "text/plain": [
       "3"
      ]
     },
     "execution_count": 19,
     "metadata": {},
     "output_type": "execute_result"
    }
   ],
   "source": [
    "list_author.index(tmp[2])"
   ]
  },
  {
   "cell_type": "code",
   "execution_count": 20,
   "id": "1424764e",
   "metadata": {},
   "outputs": [
    {
     "name": "stdout",
     "output_type": "stream",
     "text": [
      "['v1', 'v2']\n",
      "['v1']\n",
      "['v1', 'v2', 'v3']\n",
      "['v3', 'v4']\n",
      "['v3', 'v2']\n",
      "['v1', 'v2', 'v3']\n",
      "['v1', 'v2', 'v3']\n",
      "['v4', 'v5']\n",
      "['v5', 'v4']\n",
      "['v3', 'v2', 'v4']\n"
     ]
    }
   ],
   "source": [
    "tmp = []\n",
    "for index, row in df.iterrows():\n",
    "    tmp = row['Author']\n",
    "    tmp = tmp.replace('{','')\n",
    "    tmp = tmp.replace('}','')\n",
    "    tmp = tmp.split(',')\n",
    "    tmp = [author.strip() for author in tmp]\n",
    "    print (tmp)\n",
    "#     for author in tmp:\n",
    "#         print(author)"
   ]
  },
  {
   "cell_type": "code",
   "execution_count": 21,
   "id": "c1c8863a",
   "metadata": {},
   "outputs": [
    {
     "name": "stdout",
     "output_type": "stream",
     "text": [
      "['v1', 'v2']\n",
      "v1\n",
      "0\n",
      "0\n",
      "v2\n",
      "1\n",
      "1\n",
      "['v1']\n",
      "v1\n",
      "0\n",
      "0\n",
      "['v1', 'v2', 'v3']\n",
      "v1\n",
      "0\n",
      "0\n",
      "v2\n",
      "1\n",
      "1\n",
      "v3\n",
      "2\n",
      "2\n",
      "['v3', 'v4']\n",
      "v3\n",
      "0\n",
      "2\n",
      "v4\n",
      "1\n",
      "3\n",
      "['v3', 'v2']\n",
      "v3\n",
      "0\n",
      "2\n",
      "v2\n",
      "1\n",
      "1\n",
      "['v1', 'v2', 'v3']\n",
      "v1\n",
      "0\n",
      "0\n",
      "v2\n",
      "1\n",
      "1\n",
      "v3\n",
      "2\n",
      "2\n",
      "['v1', 'v2', 'v3']\n",
      "v1\n",
      "0\n",
      "0\n",
      "v2\n",
      "1\n",
      "1\n",
      "v3\n",
      "2\n",
      "2\n",
      "['v4', 'v5']\n",
      "v4\n",
      "0\n",
      "3\n",
      "v5\n",
      "1\n",
      "4\n",
      "['v5', 'v4']\n",
      "v5\n",
      "0\n",
      "4\n",
      "v4\n",
      "1\n",
      "3\n",
      "['v3', 'v2', 'v4']\n",
      "v3\n",
      "0\n",
      "2\n",
      "v2\n",
      "1\n",
      "1\n",
      "v4\n",
      "2\n",
      "3\n"
     ]
    }
   ],
   "source": [
    "tmp = []\n",
    "for index, row in df.iterrows():\n",
    "    tmp = row['Author']\n",
    "    tmp = tmp.replace('{','')\n",
    "    tmp = tmp.replace('}','')\n",
    "    tmp = tmp.split(',')\n",
    "    tmp = [author.strip() for author in tmp]\n",
    "    print (tmp)\n",
    "\n",
    "    for author in tmp:\n",
    "        print(author)\n",
    "        index_author_tmp = tmp.index(author)\n",
    "        print(index_author_tmp)\n",
    "        index_author_matrix = list_author.index(author)\n",
    "        print(index_author_matrix)"
   ]
  },
  {
   "cell_type": "code",
   "execution_count": 22,
   "id": "092646a6",
   "metadata": {},
   "outputs": [],
   "source": [
    "import numpy as np"
   ]
  },
  {
   "cell_type": "code",
   "execution_count": 23,
   "id": "4732fd0a",
   "metadata": {},
   "outputs": [],
   "source": [
    "n = len(list_author)\n",
    "V = np.zeros(shape=(n,n))"
   ]
  },
  {
   "cell_type": "code",
   "execution_count": 24,
   "id": "6de819c8",
   "metadata": {},
   "outputs": [
    {
     "data": {
      "text/plain": [
       "array([[0., 0., 0., 0., 0.],\n",
       "       [0., 0., 0., 0., 0.],\n",
       "       [0., 0., 0., 0., 0.],\n",
       "       [0., 0., 0., 0., 0.],\n",
       "       [0., 0., 0., 0., 0.]])"
      ]
     },
     "execution_count": 24,
     "metadata": {},
     "output_type": "execute_result"
    }
   ],
   "source": [
    "V"
   ]
  },
  {
   "cell_type": "code",
   "execution_count": 25,
   "id": "1775d9a3",
   "metadata": {
    "scrolled": true
   },
   "outputs": [
    {
     "name": "stdout",
     "output_type": "stream",
     "text": [
      "['v1', 'v2']\n",
      "None\n",
      "['v1']\n",
      "None\n",
      "['v1', 'v2', 'v3']\n",
      "None\n",
      "None\n",
      "['v3', 'v4']\n",
      "None\n",
      "['v3', 'v2']\n",
      "None\n",
      "['v1', 'v2', 'v3']\n",
      "None\n",
      "None\n",
      "['v1', 'v2', 'v3']\n",
      "None\n",
      "None\n",
      "['v4', 'v5']\n",
      "None\n",
      "['v5', 'v4']\n",
      "None\n",
      "['v3', 'v2', 'v4']\n",
      "None\n",
      "None\n"
     ]
    }
   ],
   "source": [
    "tmp = []\n",
    "for index, row in df.iterrows():\n",
    "    tmp = row['Author']\n",
    "    tmp = tmp.replace('{','')\n",
    "    tmp = tmp.replace('}','')\n",
    "    tmp = tmp.split(',')\n",
    "    tmp = [author.strip() for author in tmp]\n",
    "    print (tmp)\n",
    "    for author in tmp:\n",
    "        tmp2 = tmp.remove(author)\n",
    "        print(tmp2)\n",
    "\n",
    "        "
   ]
  },
  {
   "cell_type": "code",
   "execution_count": 26,
   "id": "2e7ced17",
   "metadata": {},
   "outputs": [
    {
     "name": "stdout",
     "output_type": "stream",
     "text": [
      "['v1', 'v2']\n",
      "['v1']\n",
      "['v1', 'v2', 'v3']\n",
      "['v3', 'v4']\n",
      "['v3', 'v2']\n",
      "['v1', 'v2', 'v3']\n",
      "['v1', 'v2', 'v3']\n",
      "['v4', 'v5']\n",
      "['v5', 'v4']\n",
      "['v3', 'v2', 'v4']\n"
     ]
    }
   ],
   "source": [
    "tmp = []\n",
    "for index, row in df.iterrows():\n",
    "    tmp = row['Author']\n",
    "    tmp = tmp.replace('{','')\n",
    "    tmp = tmp.replace('}','')\n",
    "    tmp = tmp.split(',')\n",
    "    tmp = [author.strip() for author in tmp]\n",
    "    print (tmp)\n",
    "#     for author in tmp:\n",
    "#         tmp2 = tmp.remove(tmp[0])\n",
    "#         print(tmp2)\n",
    "\n",
    "        "
   ]
  },
  {
   "cell_type": "code",
   "execution_count": 27,
   "id": "d577097f",
   "metadata": {},
   "outputs": [],
   "source": [
    "# tmp = []\n",
    "\n",
    "# n = len(list_author)\n",
    "# V = np.zeros(shape=(n,n))\n",
    "# V\n",
    "\n",
    "# for index, row in df.iterrows():\n",
    "#     tmp = row['Author']\n",
    "#     tmp = tmp.replace('{','')\n",
    "#     tmp = tmp.replace('}','')\n",
    "#     tmp = tmp.split(',')\n",
    "#     tmp = [author.strip() for author in tmp]\n",
    "#     print (tmp)\n",
    "    \n",
    "\n",
    "\n",
    "#     for author in tmp:\n",
    "#         tmp = tmp.remove(author)\n",
    "#         for author2 in tmp:\n",
    "#             V[list_author.index(author),list_author.index(author2)] = V[list_author.index(author),list_author.index(author2)] + 1\n",
    "#             V[list_author.index(author2),list_author.index(author)] = V[list_author.index(author),list_author.index(author2)]\n",
    "#             V"
   ]
  },
  {
   "cell_type": "code",
   "execution_count": 28,
   "id": "b53e6ba6",
   "metadata": {},
   "outputs": [],
   "source": [
    "# V[list_author.index(tmp[0].strip()),list_author.index(tmp[1].strip())] = V[list_author.index(tmp[0].strip()),list_author.index(tmp[1].strip())] + 1\n",
    "# V[list_author.index(tmp[1].strip()),list_author.index(tmp[0].strip())] = V[list_author.index(tmp[0].strip()),list_author.index(tmp[1].strip())]"
   ]
  },
  {
   "cell_type": "code",
   "execution_count": 29,
   "id": "fce3eba1",
   "metadata": {},
   "outputs": [
    {
     "data": {
      "text/plain": [
       "array([[0., 0., 0., 0., 0.],\n",
       "       [0., 0., 0., 0., 0.],\n",
       "       [0., 0., 0., 0., 0.],\n",
       "       [0., 0., 0., 0., 0.],\n",
       "       [0., 0., 0., 0., 0.]])"
      ]
     },
     "execution_count": 29,
     "metadata": {},
     "output_type": "execute_result"
    }
   ],
   "source": [
    "V"
   ]
  },
  {
   "cell_type": "code",
   "execution_count": 30,
   "id": "c68a9a26",
   "metadata": {},
   "outputs": [
    {
     "data": {
      "text/plain": [
       "['v1', 'v2', 'v3', 'v4', 'v5']"
      ]
     },
     "execution_count": 30,
     "metadata": {},
     "output_type": "execute_result"
    }
   ],
   "source": [
    "list_author"
   ]
  },
  {
   "cell_type": "code",
   "execution_count": 31,
   "id": "1ef9c5ca",
   "metadata": {},
   "outputs": [],
   "source": [
    "def update_adj_mat(V, list_author, author1, author2):\n",
    "    V[list_author.index(author1),list_author.index(author2)] = V[list_author.index(author1),list_author.index(author2)] + 1\n",
    "    V[list_author.index(author2),list_author.index(author1)] = V[list_author.index(author1),list_author.index(author2)]\n",
    "    return V"
   ]
  },
  {
   "cell_type": "code",
   "execution_count": 32,
   "id": "871d2925",
   "metadata": {},
   "outputs": [],
   "source": [
    "n = len(list_author)\n",
    "V = np.zeros(shape=(n,n))\n",
    "\n",
    "for index, row in df.iterrows():\n",
    "    tmp = row['Author']\n",
    "    tmp = tmp.replace('{','')\n",
    "    tmp = tmp.replace('}','')\n",
    "    tmp = tmp.split(',')\n",
    "    tmp = [author.strip() for author in tmp]\n",
    "    if len(tmp) > 1: # if the paper has only 1 author then we don't need to update the matrix\n",
    "        for author1 in tmp:\n",
    "            for author2 in tmp:\n",
    "                if author1 != author2:\n",
    "                    V = update_adj_mat(V, list_author, author1, author2)\n",
    "#V[V > 1] = 1 # Replace the numbers bigger than 1 to 1\n",
    "V = V/2"
   ]
  },
  {
   "cell_type": "code",
   "execution_count": 33,
   "id": "f126d4b7",
   "metadata": {},
   "outputs": [
    {
     "data": {
      "text/plain": [
       "array([[0., 4., 3., 0., 0.],\n",
       "       [4., 0., 5., 1., 0.],\n",
       "       [3., 5., 0., 2., 0.],\n",
       "       [0., 1., 2., 0., 2.],\n",
       "       [0., 0., 0., 2., 0.]])"
      ]
     },
     "execution_count": 33,
     "metadata": {},
     "output_type": "execute_result"
    }
   ],
   "source": [
    "V"
   ]
  },
  {
   "cell_type": "code",
   "execution_count": 54,
   "id": "09ccf6e3",
   "metadata": {},
   "outputs": [
    {
     "data": {
      "text/plain": [
       "OutEdgeView([(0, 1), (0, 2), (1, 0), (1, 2), (1, 3), (2, 0), (2, 1), (2, 3), (3, 1), (3, 2), (3, 4), (4, 3)])"
      ]
     },
     "execution_count": 54,
     "metadata": {},
     "output_type": "execute_result"
    }
   ],
   "source": [
    "import networkx as nx\n",
    "G = nx.DiGraph(V, nodetype=int)\n",
    "G.edges()"
   ]
  },
  {
   "cell_type": "code",
   "execution_count": 35,
   "id": "a75a656f",
   "metadata": {},
   "outputs": [
    {
     "data": {
      "text/plain": [
       "['v1', 'v2', 'v3', 'v4', 'v5']"
      ]
     },
     "execution_count": 35,
     "metadata": {},
     "output_type": "execute_result"
    }
   ],
   "source": [
    "nodes = list_author\n",
    "nodes"
   ]
  },
  {
   "cell_type": "code",
   "execution_count": 36,
   "id": "0ec7e18c",
   "metadata": {},
   "outputs": [],
   "source": [
    "# get_labels('Example matrix.xlxs')"
   ]
  },
  {
   "cell_type": "code",
   "execution_count": 37,
   "id": "c45ee984",
   "metadata": {},
   "outputs": [],
   "source": [
    "import matplotlib.pyplot as plt\n",
    "import networkx as nx\n",
    "\n",
    "def show_graph_with_labels(adjacency_matrix, mylabels):\n",
    "    rows, cols = np.where(adjacency_matrix == 1)\n",
    "    edges = zip(rows.tolist(), cols.tolist())\n",
    "    gr = nx.Graph()\n",
    "    all_rows = range(0, adjacency_matrix.shape[0])\n",
    "    for n in all_rows:\n",
    "        gr.add_node(n)\n",
    "    gr.add_edges_from(edges)\n",
    "    nx.draw(gr, node_size=900, labels=mylabels, with_labels=True)\n",
    "    plt.show()\n",
    "    \n"
   ]
  },
  {
   "cell_type": "code",
   "execution_count": 38,
   "id": "22fbeaa9",
   "metadata": {},
   "outputs": [
    {
     "ename": "AttributeError",
     "evalue": "'list' object has no attribute 'items'",
     "output_type": "error",
     "traceback": [
      "\u001b[1;31m---------------------------------------------------------------------------\u001b[0m",
      "\u001b[1;31mAttributeError\u001b[0m                            Traceback (most recent call last)",
      "Input \u001b[1;32mIn [38]\u001b[0m, in \u001b[0;36m<cell line: 1>\u001b[1;34m()\u001b[0m\n\u001b[1;32m----> 1\u001b[0m \u001b[43mshow_graph_with_labels\u001b[49m\u001b[43m(\u001b[49m\u001b[43mV\u001b[49m\u001b[43m,\u001b[49m\u001b[43m \u001b[49m\u001b[43mnodes\u001b[49m\u001b[43m)\u001b[49m\n",
      "Input \u001b[1;32mIn [37]\u001b[0m, in \u001b[0;36mshow_graph_with_labels\u001b[1;34m(adjacency_matrix, mylabels)\u001b[0m\n\u001b[0;32m     10\u001b[0m     gr\u001b[38;5;241m.\u001b[39madd_node(n)\n\u001b[0;32m     11\u001b[0m gr\u001b[38;5;241m.\u001b[39madd_edges_from(edges)\n\u001b[1;32m---> 12\u001b[0m \u001b[43mnx\u001b[49m\u001b[38;5;241;43m.\u001b[39;49m\u001b[43mdraw\u001b[49m\u001b[43m(\u001b[49m\u001b[43mgr\u001b[49m\u001b[43m,\u001b[49m\u001b[43m \u001b[49m\u001b[43mnode_size\u001b[49m\u001b[38;5;241;43m=\u001b[39;49m\u001b[38;5;241;43m900\u001b[39;49m\u001b[43m,\u001b[49m\u001b[43m \u001b[49m\u001b[43mlabels\u001b[49m\u001b[38;5;241;43m=\u001b[39;49m\u001b[43mmylabels\u001b[49m\u001b[43m,\u001b[49m\u001b[43m \u001b[49m\u001b[43mwith_labels\u001b[49m\u001b[38;5;241;43m=\u001b[39;49m\u001b[38;5;28;43;01mTrue\u001b[39;49;00m\u001b[43m)\u001b[49m\n\u001b[0;32m     13\u001b[0m plt\u001b[38;5;241m.\u001b[39mshow()\n",
      "File \u001b[1;32m~\\anaconda3\\lib\\site-packages\\networkx\\drawing\\nx_pylab.py:120\u001b[0m, in \u001b[0;36mdraw\u001b[1;34m(G, pos, ax, **kwds)\u001b[0m\n\u001b[0;32m    117\u001b[0m \u001b[38;5;28;01mif\u001b[39;00m \u001b[38;5;124m\"\u001b[39m\u001b[38;5;124mwith_labels\u001b[39m\u001b[38;5;124m\"\u001b[39m \u001b[38;5;129;01mnot\u001b[39;00m \u001b[38;5;129;01min\u001b[39;00m kwds:\n\u001b[0;32m    118\u001b[0m     kwds[\u001b[38;5;124m\"\u001b[39m\u001b[38;5;124mwith_labels\u001b[39m\u001b[38;5;124m\"\u001b[39m] \u001b[38;5;241m=\u001b[39m \u001b[38;5;124m\"\u001b[39m\u001b[38;5;124mlabels\u001b[39m\u001b[38;5;124m\"\u001b[39m \u001b[38;5;129;01min\u001b[39;00m kwds\n\u001b[1;32m--> 120\u001b[0m draw_networkx(G, pos\u001b[38;5;241m=\u001b[39mpos, ax\u001b[38;5;241m=\u001b[39max, \u001b[38;5;241m*\u001b[39m\u001b[38;5;241m*\u001b[39mkwds)\n\u001b[0;32m    121\u001b[0m ax\u001b[38;5;241m.\u001b[39mset_axis_off()\n\u001b[0;32m    122\u001b[0m plt\u001b[38;5;241m.\u001b[39mdraw_if_interactive()\n",
      "File \u001b[1;32m~\\anaconda3\\lib\\site-packages\\networkx\\drawing\\nx_pylab.py:336\u001b[0m, in \u001b[0;36mdraw_networkx\u001b[1;34m(G, pos, arrows, with_labels, **kwds)\u001b[0m\n\u001b[0;32m    334\u001b[0m draw_networkx_edges(G, pos, arrows\u001b[38;5;241m=\u001b[39marrows, \u001b[38;5;241m*\u001b[39m\u001b[38;5;241m*\u001b[39medge_kwds)\n\u001b[0;32m    335\u001b[0m \u001b[38;5;28;01mif\u001b[39;00m with_labels:\n\u001b[1;32m--> 336\u001b[0m     draw_networkx_labels(G, pos, \u001b[38;5;241m*\u001b[39m\u001b[38;5;241m*\u001b[39mlabel_kwds)\n\u001b[0;32m    337\u001b[0m plt\u001b[38;5;241m.\u001b[39mdraw_if_interactive()\n",
      "File \u001b[1;32m~\\anaconda3\\lib\\site-packages\\networkx\\drawing\\nx_pylab.py:1000\u001b[0m, in \u001b[0;36mdraw_networkx_labels\u001b[1;34m(G, pos, labels, font_size, font_color, font_family, font_weight, alpha, bbox, horizontalalignment, verticalalignment, ax, clip_on)\u001b[0m\n\u001b[0;32m    997\u001b[0m     labels \u001b[38;5;241m=\u001b[39m {n: n \u001b[38;5;28;01mfor\u001b[39;00m n \u001b[38;5;129;01min\u001b[39;00m G\u001b[38;5;241m.\u001b[39mnodes()}\n\u001b[0;32m    999\u001b[0m text_items \u001b[38;5;241m=\u001b[39m {}  \u001b[38;5;66;03m# there is no text collection so we'll fake one\u001b[39;00m\n\u001b[1;32m-> 1000\u001b[0m \u001b[38;5;28;01mfor\u001b[39;00m n, label \u001b[38;5;129;01min\u001b[39;00m \u001b[43mlabels\u001b[49m\u001b[38;5;241;43m.\u001b[39;49m\u001b[43mitems\u001b[49m():\n\u001b[0;32m   1001\u001b[0m     (x, y) \u001b[38;5;241m=\u001b[39m pos[n]\n\u001b[0;32m   1002\u001b[0m     \u001b[38;5;28;01mif\u001b[39;00m \u001b[38;5;129;01mnot\u001b[39;00m \u001b[38;5;28misinstance\u001b[39m(label, \u001b[38;5;28mstr\u001b[39m):\n",
      "\u001b[1;31mAttributeError\u001b[0m: 'list' object has no attribute 'items'"
     ]
    },
    {
     "data": {
      "image/png": "[encoded data removed]",
      "text/plain": [
       "<Figure size 432x288 with 1 Axes>"
      ]
     },
     "metadata": {},
     "output_type": "display_data"
    }
   ],
   "source": [
    "show_graph_with_labels(V, nodes)"
   ]
  },
  {
   "cell_type": "code",
   "execution_count": 40,
   "id": "e286630e",
   "metadata": {},
   "outputs": [],
   "source": [
    "matrix=pd.DataFrame(V, columns = list_author, index = list_author) "
   ]
  },
  {
   "cell_type": "code",
   "execution_count": 41,
   "id": "4efcf165",
   "metadata": {
    "scrolled": true
   },
   "outputs": [
    {
     "data": {
      "text/html": [
       "<div>\n",
       "<style scoped>\n",
       "    .dataframe tbody tr th:only-of-type {\n",
       "        vertical-align: middle;\n",
       "    }\n",
       "\n",
       "    .dataframe tbody tr th {\n",
       "        vertical-align: top;\n",
       "    }\n",
       "\n",
       "    .dataframe thead th {\n",
       "        text-align: right;\n",
       "    }\n",
       "</style>\n",
       "<table border=\"1\" class=\"dataframe\">\n",
       "  <thead>\n",
       "    <tr style=\"text-align: right;\">\n",
       "      <th></th>\n",
       "      <th>v1</th>\n",
       "      <th>v2</th>\n",
       "      <th>v3</th>\n",
       "      <th>v4</th>\n",
       "      <th>v5</th>\n",
       "    </tr>\n",
       "  </thead>\n",
       "  <tbody>\n",
       "    <tr>\n",
       "      <th>v1</th>\n",
       "      <td>0.0</td>\n",
       "      <td>4.0</td>\n",
       "      <td>3.0</td>\n",
       "      <td>0.0</td>\n",
       "      <td>0.0</td>\n",
       "    </tr>\n",
       "    <tr>\n",
       "      <th>v2</th>\n",
       "      <td>4.0</td>\n",
       "      <td>0.0</td>\n",
       "      <td>5.0</td>\n",
       "      <td>1.0</td>\n",
       "      <td>0.0</td>\n",
       "    </tr>\n",
       "    <tr>\n",
       "      <th>v3</th>\n",
       "      <td>3.0</td>\n",
       "      <td>5.0</td>\n",
       "      <td>0.0</td>\n",
       "      <td>2.0</td>\n",
       "      <td>0.0</td>\n",
       "    </tr>\n",
       "    <tr>\n",
       "      <th>v4</th>\n",
       "      <td>0.0</td>\n",
       "      <td>1.0</td>\n",
       "      <td>2.0</td>\n",
       "      <td>0.0</td>\n",
       "      <td>2.0</td>\n",
       "    </tr>\n",
       "    <tr>\n",
       "      <th>v5</th>\n",
       "      <td>0.0</td>\n",
       "      <td>0.0</td>\n",
       "      <td>0.0</td>\n",
       "      <td>2.0</td>\n",
       "      <td>0.0</td>\n",
       "    </tr>\n",
       "  </tbody>\n",
       "</table>\n",
       "</div>"
      ],
      "text/plain": [
       "     v1   v2   v3   v4   v5\n",
       "v1  0.0  4.0  3.0  0.0  0.0\n",
       "v2  4.0  0.0  5.0  1.0  0.0\n",
       "v3  3.0  5.0  0.0  2.0  0.0\n",
       "v4  0.0  1.0  2.0  0.0  2.0\n",
       "v5  0.0  0.0  0.0  2.0  0.0"
      ]
     },
     "execution_count": 41,
     "metadata": {},
     "output_type": "execute_result"
    }
   ],
   "source": [
    "matrix"
   ]
  },
  {
   "cell_type": "code",
   "execution_count": 42,
   "id": "2f97e271",
   "metadata": {},
   "outputs": [],
   "source": [
    "Graph=nx.from_numpy_matrix(V)"
   ]
  },
  {
   "cell_type": "code",
   "execution_count": 43,
   "id": "65346ee0",
   "metadata": {
    "scrolled": true
   },
   "outputs": [
    {
     "data": {
      "image/png": "[encoded data removed]",
      "text/plain": [
       "<Figure size 432x288 with 1 Axes>"
      ]
     },
     "metadata": {},
     "output_type": "display_data"
    }
   ],
   "source": [
    "nx.draw(Graph, with_labels=True, font_weight='bold')"
   ]
  },
  {
   "cell_type": "code",
   "execution_count": 47,
   "id": "f2e563ca",
   "metadata": {},
   "outputs": [
    {
     "data": {
      "text/plain": [
       "[0, 1, 2, 3, 4]"
      ]
     },
     "execution_count": 47,
     "metadata": {},
     "output_type": "execute_result"
    }
   ],
   "source": [
    "index = sorted(Graph)\n",
    "index"
   ]
  },
  {
   "cell_type": "code",
   "execution_count": 45,
   "id": "8e43330a",
   "metadata": {},
   "outputs": [
    {
     "data": {
      "text/plain": [
       "NodeView((0, 1, 2, 3, 4))"
      ]
     },
     "execution_count": 45,
     "metadata": {},
     "output_type": "execute_result"
    }
   ],
   "source": [
    "Graph.nodes"
   ]
  },
  {
   "cell_type": "code",
   "execution_count": 46,
   "id": "f91307f1",
   "metadata": {},
   "outputs": [
    {
     "data": {
      "text/plain": [
       "['v1', 'v2', 'v3', 'v4', 'v5']"
      ]
     },
     "execution_count": 46,
     "metadata": {},
     "output_type": "execute_result"
    }
   ],
   "source": [
    "nodes"
   ]
  },
  {
   "cell_type": "code",
   "execution_count": 49,
   "id": "9b0ef15a",
   "metadata": {},
   "outputs": [
    {
     "data": {
      "text/plain": [
       "{0: 'v1', 1: 'v2', 2: 'v3', 3: 'v4', 4: 'v5'}"
      ]
     },
     "execution_count": 49,
     "metadata": {},
     "output_type": "execute_result"
    }
   ],
   "source": [
    "mapping = dict(zip(index, nodes))\n",
    "mapping"
   ]
  },
  {
   "cell_type": "code",
   "execution_count": 50,
   "id": "a610cd03",
   "metadata": {},
   "outputs": [
    {
     "data": {
      "text/plain": [
       "['v1', 'v2', 'v3', 'v4', 'v5']"
      ]
     },
     "execution_count": 50,
     "metadata": {},
     "output_type": "execute_result"
    }
   ],
   "source": [
    "H = nx.relabel_nodes(Graph, mapping)\n",
    "sorted(H)"
   ]
  },
  {
   "cell_type": "code",
   "execution_count": 51,
   "id": "f6a90365",
   "metadata": {},
   "outputs": [
    {
     "data": {
      "image/png": "[encoded data removed]",
      "text/plain": [
       "<Figure size 432x288 with 1 Axes>"
      ]
     },
     "metadata": {},
     "output_type": "display_data"
    }
   ],
   "source": [
    "nx.draw(H, with_labels=True, font_weight='bold')"
   ]
  },
  {
   "cell_type": "code",
   "execution_count": 52,
   "id": "d01837a0",
   "metadata": {},
   "outputs": [
    {
     "data": {
      "text/html": [
       "<div>\n",
       "<style scoped>\n",
       "    .dataframe tbody tr th:only-of-type {\n",
       "        vertical-align: middle;\n",
       "    }\n",
       "\n",
       "    .dataframe tbody tr th {\n",
       "        vertical-align: top;\n",
       "    }\n",
       "\n",
       "    .dataframe thead th {\n",
       "        text-align: right;\n",
       "    }\n",
       "</style>\n",
       "<table border=\"1\" class=\"dataframe\">\n",
       "  <thead>\n",
       "    <tr style=\"text-align: right;\">\n",
       "      <th></th>\n",
       "      <th>v1</th>\n",
       "      <th>v2</th>\n",
       "      <th>v3</th>\n",
       "      <th>v4</th>\n",
       "      <th>v5</th>\n",
       "    </tr>\n",
       "  </thead>\n",
       "  <tbody>\n",
       "    <tr>\n",
       "      <th>v1</th>\n",
       "      <td>0.0</td>\n",
       "      <td>4.0</td>\n",
       "      <td>3.0</td>\n",
       "      <td>0.0</td>\n",
       "      <td>0.0</td>\n",
       "    </tr>\n",
       "    <tr>\n",
       "      <th>v2</th>\n",
       "      <td>4.0</td>\n",
       "      <td>0.0</td>\n",
       "      <td>5.0</td>\n",
       "      <td>1.0</td>\n",
       "      <td>0.0</td>\n",
       "    </tr>\n",
       "    <tr>\n",
       "      <th>v3</th>\n",
       "      <td>3.0</td>\n",
       "      <td>5.0</td>\n",
       "      <td>0.0</td>\n",
       "      <td>2.0</td>\n",
       "      <td>0.0</td>\n",
       "    </tr>\n",
       "    <tr>\n",
       "      <th>v4</th>\n",
       "      <td>0.0</td>\n",
       "      <td>1.0</td>\n",
       "      <td>2.0</td>\n",
       "      <td>0.0</td>\n",
       "      <td>2.0</td>\n",
       "    </tr>\n",
       "    <tr>\n",
       "      <th>v5</th>\n",
       "      <td>0.0</td>\n",
       "      <td>0.0</td>\n",
       "      <td>0.0</td>\n",
       "      <td>2.0</td>\n",
       "      <td>0.0</td>\n",
       "    </tr>\n",
       "  </tbody>\n",
       "</table>\n",
       "</div>"
      ],
      "text/plain": [
       "     v1   v2   v3   v4   v5\n",
       "v1  0.0  4.0  3.0  0.0  0.0\n",
       "v2  4.0  0.0  5.0  1.0  0.0\n",
       "v3  3.0  5.0  0.0  2.0  0.0\n",
       "v4  0.0  1.0  2.0  0.0  2.0\n",
       "v5  0.0  0.0  0.0  2.0  0.0"
      ]
     },
     "execution_count": 52,
     "metadata": {},
     "output_type": "execute_result"
    }
   ],
   "source": [
    "matrix"
   ]
  },
  {
   "cell_type": "code",
   "execution_count": 57,
   "id": "4cacc99f",
   "metadata": {},
   "outputs": [
    {
     "data": {
      "text/plain": [
       "{'v1': 0.5, 'v2': 0.75, 'v3': 0.75, 'v4': 0.75, 'v5': 0.25}"
      ]
     },
     "execution_count": 57,
     "metadata": {},
     "output_type": "execute_result"
    }
   ],
   "source": [
    "nx.degree_centrality(H)"
   ]
  },
  {
   "cell_type": "code",
   "execution_count": 58,
   "id": "c39a8c7d",
   "metadata": {},
   "outputs": [
    {
     "data": {
      "text/plain": [
       "DegreeView({'v1': 2, 'v2': 3, 'v3': 3, 'v4': 3, 'v5': 1})"
      ]
     },
     "execution_count": 58,
     "metadata": {},
     "output_type": "execute_result"
    }
   ],
   "source": [
    "nx.degree(H, nbunch=None, weight=None)"
   ]
  },
  {
   "cell_type": "code",
   "execution_count": 59,
   "id": "52035b40",
   "metadata": {},
   "outputs": [
    {
     "data": {
      "text/plain": [
       "EdgeDataView([('v1', 'v2', {'weight': 4.0}), ('v1', 'v3', {'weight': 3.0}), ('v2', 'v3', {'weight': 5.0}), ('v2', 'v4', {'weight': 1.0}), ('v3', 'v4', {'weight': 2.0}), ('v4', 'v5', {'weight': 2.0})])"
      ]
     },
     "execution_count": 59,
     "metadata": {},
     "output_type": "execute_result"
    }
   ],
   "source": [
    "H.edges.data()"
   ]
  },
  {
   "cell_type": "code",
   "execution_count": 60,
   "id": "5f033b8a",
   "metadata": {},
   "outputs": [],
   "source": [
    "import matplotlib as plt"
   ]
  },
  {
   "cell_type": "code",
   "execution_count": 62,
   "id": "e4850d1c",
   "metadata": {},
   "outputs": [],
   "source": [
    "# Import libraries\n",
    "import pandas as pd #For reading dataset files\n",
    "import networkx as nx #For network creation/analysis\n",
    "import matplotlib.pyplot as plt #For plotting graphs\n",
    "%matplotlib inline"
   ]
  },
  {
   "cell_type": "code",
   "execution_count": 63,
   "id": "8078106f",
   "metadata": {},
   "outputs": [
    {
     "data": {
      "text/plain": [
       "(array([1., 0., 0., 0., 0., 1., 0., 0., 0., 3.]),\n",
       " array([1. , 1.2, 1.4, 1.6, 1.8, 2. , 2.2, 2.4, 2.6, 2.8, 3. ]),\n",
       " <BarContainer object of 10 artists>)"
      ]
     },
     "execution_count": 63,
     "metadata": {},
     "output_type": "execute_result"
    },
    {
     "data": {
      "image/png": "[encoded data removed]",
      "text/plain": [
       "<Figure size 432x288 with 1 Axes>"
      ]
     },
     "metadata": {
      "needs_background": "light"
     },
     "output_type": "display_data"
    }
   ],
   "source": [
    "degrees = [H.degree(n) for n in H.nodes()]\n",
    "plt.hist(degrees)"
   ]
  },
  {
   "cell_type": "code",
   "execution_count": 64,
   "id": "70d2d309",
   "metadata": {},
   "outputs": [
    {
     "data": {
      "text/plain": [
       "(array([1., 0., 0., 1., 0., 0., 1., 0., 0., 2.]),\n",
       " array([ 2. ,  2.8,  3.6,  4.4,  5.2,  6. ,  6.8,  7.6,  8.4,  9.2, 10. ]),\n",
       " <BarContainer object of 10 artists>)"
      ]
     },
     "execution_count": 64,
     "metadata": {},
     "output_type": "execute_result"
    },
    {
     "data": {
      "image/png": "[encoded data removed]",
      "text/plain": [
       "<Figure size 432x288 with 1 Axes>"
      ]
     },
     "metadata": {
      "needs_background": "light"
     },
     "output_type": "display_data"
    }
   ],
   "source": [
    "#Degree plot for undirected and weighted graph\n",
    "degrees = [H.degree(n, weight='weight') for n in H.nodes()]\n",
    "plt.hist(degrees)"
   ]
  },
  {
   "cell_type": "code",
   "execution_count": 65,
   "id": "5519c16c",
   "metadata": {},
   "outputs": [
    {
     "data": {
      "text/plain": [
       "{'v1': 0.5, 'v2': 0.75, 'v3': 0.75, 'v4': 0.75, 'v5': 0.25}"
      ]
     },
     "execution_count": 65,
     "metadata": {},
     "output_type": "execute_result"
    }
   ],
   "source": [
    "#Degree centrality for unweighted graph\n",
    "degree_centrality = nx.degree_centrality(H)\n",
    "degree_centrality"
   ]
  },
  {
   "cell_type": "code",
   "execution_count": 66,
   "id": "4cc2bf7d",
   "metadata": {},
   "outputs": [
    {
     "name": "stdout",
     "output_type": "stream",
     "text": [
      "v2 0.75\n",
      "v3 0.75\n",
      "v4 0.75\n",
      "v1 0.5\n",
      "v5 0.25\n"
     ]
    }
   ],
   "source": [
    "#Sort for identifying most inflential nodes using degree centrality\n",
    "for node in sorted(degree_centrality, key=degree_centrality.get, reverse=True):\n",
    "  print(node, degree_centrality[node])"
   ]
  },
  {
   "cell_type": "code",
   "execution_count": 67,
   "id": "29a6c0c5",
   "metadata": {},
   "outputs": [
    {
     "data": {
      "text/plain": [
       "[0.7, 1.0, 1.0, 0.5, 0.2]"
      ]
     },
     "execution_count": 67,
     "metadata": {},
     "output_type": "execute_result"
    }
   ],
   "source": [
    "#Degree centrality for weighted graph\n",
    "degree = H.degree(weight='weight')\n",
    "max_degree = max(dict(degree).values())\n",
    "degree_centrality_weighted = [deg/max_degree for deg in dict(degree).values()]\n",
    "degree_centrality_weighted"
   ]
  },
  {
   "cell_type": "code",
   "execution_count": null,
   "id": "1daf8778",
   "metadata": {},
   "outputs": [],
   "source": []
  },
  {
   "cell_type": "code",
   "execution_count": null,
   "id": "3689cb82",
   "metadata": {},
   "outputs": [],
   "source": []
  },
  {
   "cell_type": "code",
   "execution_count": null,
   "id": "c0487882",
   "metadata": {},
   "outputs": [],
   "source": []
  },
  {
   "cell_type": "code",
   "execution_count": null,
   "id": "a83fd911",
   "metadata": {},
   "outputs": [],
   "source": []
  },
  {
   "cell_type": "code",
   "execution_count": null,
   "id": "5c0658cc",
   "metadata": {},
   "outputs": [],
   "source": []
  },
  {
   "cell_type": "code",
   "execution_count": null,
   "id": "4af06239",
   "metadata": {},
   "outputs": [],
   "source": []
  },
  {
   "cell_type": "code",
   "execution_count": null,
   "id": "9cd134e3",
   "metadata": {},
   "outputs": [],
   "source": [
    "from pyvis.network import Network"
   ]
  },
  {
   "cell_type": "code",
   "execution_count": null,
   "id": "81be278d",
   "metadata": {},
   "outputs": [],
   "source": [
    "nt = Network('500px', '500px')\n",
    "# populates the nodes and edges data structures\n",
    "nt.from_nx(Graph)\n",
    "nt.show('nx.html')"
   ]
  },
  {
   "cell_type": "code",
   "execution_count": null,
   "id": "546cf393",
   "metadata": {},
   "outputs": [],
   "source": [
    "Graph2=nx.from_numpy_matrix(matrix)"
   ]
  },
  {
   "cell_type": "code",
   "execution_count": null,
   "id": "e5a292c6",
   "metadata": {},
   "outputs": [],
   "source": [
    "nx.draw(Graph2, with_labels=True, font_weight='bold')"
   ]
  },
  {
   "cell_type": "code",
   "execution_count": null,
   "id": "679e7363",
   "metadata": {},
   "outputs": [],
   "source": [
    "from numpy import genfromtxt\n",
    "import numpy as np\n",
    "import csv"
   ]
  },
  {
   "cell_type": "code",
   "execution_count": null,
   "id": "d2053ed6",
   "metadata": {},
   "outputs": [],
   "source": [
    "import matplotlib.pyplot as plt\n",
    "import networkx as nx\n",
    "\n",
    "def show_graph_with_labels(adjacency_matrix, nodes):\n",
    "    rows, cols = np.where(adjacency_matrix == 1)\n",
    "    edges = zip(rows.tolist(), cols.tolist())\n",
    "    gr = nx.Graph()\n",
    "    gr.add_edges_from(edges)\n",
    "    nx.draw(gr, node_size=500, labels=nodes, with_labels=True)\n",
    "    plt.show()\n",
    "\n",
    "show_graph_with_labels(V, nodes)"
   ]
  },
  {
   "cell_type": "code",
   "execution_count": null,
   "id": "83b74347",
   "metadata": {},
   "outputs": [],
   "source": [
    "import matplotlib.pyplot as plt\n",
    "import networkx as nx"
   ]
  },
  {
   "cell_type": "code",
   "execution_count": null,
   "id": "3b3bbdef",
   "metadata": {},
   "outputs": [],
   "source": [
    "nx.to_pandas_edgelist(V)"
   ]
  },
  {
   "cell_type": "code",
   "execution_count": null,
   "id": "d320060b",
   "metadata": {},
   "outputs": [],
   "source": [
    "K = nx.from_numpy_matrix(V)\n",
    "nx.draw(K)"
   ]
  },
  {
   "cell_type": "code",
   "execution_count": null,
   "id": "83133fa0",
   "metadata": {},
   "outputs": [],
   "source": [
    "import pandas as pd\n",
    "import networkx as nx\n",
    "input_data = pd.read_excel('Example matrix.xlsx', index_col=0)\n",
    "G = nx.Graph(input_data.values, with_lables=True)"
   ]
  },
  {
   "cell_type": "code",
   "execution_count": null,
   "id": "67dadcf1",
   "metadata": {},
   "outputs": [],
   "source": [
    "nx.draw(G)"
   ]
  },
  {
   "cell_type": "code",
   "execution_count": null,
   "id": "8305ecda",
   "metadata": {},
   "outputs": [],
   "source": []
  },
  {
   "cell_type": "code",
   "execution_count": null,
   "id": "d48938df",
   "metadata": {},
   "outputs": [],
   "source": []
  },
  {
   "cell_type": "code",
   "execution_count": null,
   "id": "7dea3c68",
   "metadata": {},
   "outputs": [],
   "source": [
    "nodes = list_author\n",
    "nodes"
   ]
  },
  {
   "cell_type": "code",
   "execution_count": null,
   "id": "d9bc460e",
   "metadata": {},
   "outputs": [],
   "source": [
    "def get_edges(node: str, weights: list, all_nodes: list, minimum_weight: int):\n",
    "    \n",
    "    nodes = all_nodes.copy()\n",
    "    \n",
    "    # Remove target node\n",
    "#     nodes.remove(node)\n",
    "    \n",
    "    # Create a list of edges with weights\n",
    "    edges = [(node, connection, weight) for connection, weight in zip(nodes, weights)]\n",
    "    \n",
    "    # Get only edges with weights greater than the minimum weight\n",
    "    edges = [edge for edge in edges if edge[2] >= minimum_weight]\n",
    "    \n",
    "    return edges"
   ]
  },
  {
   "cell_type": "code",
   "execution_count": null,
   "id": "faebb6f9",
   "metadata": {},
   "outputs": [],
   "source": [
    "    for node, weights in matrix.iterrows():\n",
    "        edges = get_edges(node, weights, nodes, minimum_weight = 1)\n",
    "        print(edges)"
   ]
  },
  {
   "cell_type": "code",
   "execution_count": null,
   "id": "35c41238",
   "metadata": {},
   "outputs": [],
   "source": [
    "matrix"
   ]
  },
  {
   "cell_type": "code",
   "execution_count": null,
   "id": "83ba59e6",
   "metadata": {},
   "outputs": [],
   "source": [
    "from pyvis.network import Network"
   ]
  },
  {
   "cell_type": "code",
   "execution_count": null,
   "id": "e9e157c7",
   "metadata": {},
   "outputs": [],
   "source": [
    "def draw_network(\n",
    "    nodes: list,\n",
    "    df: pd.DataFrame,\n",
    "    minium_weight: int = 1,\n",
    "    repulsion: int = 80,\n",
    "    spring_length=100,\n",
    "):\n",
    "    \n",
    "    net = Network(\"500px\", \"75%\", notebook=True)\n",
    "    net.add_nodes(nodes) \n",
    "\n",
    "    # add edges\n",
    "    for node, weights in df.iterrows():\n",
    "        edges = get_edges(node, weights, nodes, minium_weight)\n",
    "        net.add_edges(edges)\n",
    "\n",
    "    # change node distance and spring length\n",
    "    net.repulsion(repulsion, spring_length=spring_length)\n",
    "    return net"
   ]
  },
  {
   "cell_type": "code",
   "execution_count": null,
   "id": "017e3d30",
   "metadata": {},
   "outputs": [],
   "source": []
  },
  {
   "cell_type": "code",
   "execution_count": null,
   "id": "35149b10",
   "metadata": {},
   "outputs": [],
   "source": [
    "net = draw_network(nodes, matrix, minium_weight=1, repulsion=80, spring_length=100)\n",
    "net.show_buttons(filter_=[\"physics\", \"nodes\"])\n",
    "# net.set_options('''\n",
    "# const options = {\n",
    "#   \"physics\": {\n",
    "#     \"forceAtlas2Based\": {\n",
    "#       \"theta\": 0.3,\n",
    "#       \"gravitationalConstant\": -223,\n",
    "#       \"springLength\": 100\n",
    "#     },\n",
    "#     \"minVelocity\": 0.75,\n",
    "#     \"solver\": \"forceAtlas2Based\"\n",
    "#   }\n",
    "# }\n",
    "# ''')\n",
    "net.show(\"Example.html\")"
   ]
  },
  {
   "cell_type": "code",
   "execution_count": null,
   "id": "78e0becb",
   "metadata": {},
   "outputs": [],
   "source": [
    "matrix"
   ]
  },
  {
   "cell_type": "code",
   "execution_count": null,
   "id": "491b29d9",
   "metadata": {},
   "outputs": [],
   "source": [
    "import networkx as nx\n",
    "import matplotlib.pyplot as plt"
   ]
  },
  {
   "cell_type": "code",
   "execution_count": null,
   "id": "2ca26765",
   "metadata": {},
   "outputs": [],
   "source": [
    "G = nx.petersen_graph()\n",
    "subax1 = plt.subplot(121)\n",
    "nx.draw(G, with_labels=True, font_weight='bold')\n",
    "subax2 = plt.subplot(122)\n",
    "nx.draw_shell(G, nlist=[range(5, 10), range(5)], with_labels=True, font_weight='bold')"
   ]
  },
  {
   "cell_type": "code",
   "execution_count": null,
   "id": "e9343b1a",
   "metadata": {},
   "outputs": [],
   "source": [
    "plt.show()  "
   ]
  },
  {
   "cell_type": "code",
   "execution_count": null,
   "id": "8090611c",
   "metadata": {},
   "outputs": [],
   "source": []
  },
  {
   "cell_type": "code",
   "execution_count": null,
   "id": "c234d130",
   "metadata": {},
   "outputs": [],
   "source": []
  },
  {
   "cell_type": "code",
   "execution_count": null,
   "id": "bda51ad6",
   "metadata": {},
   "outputs": [],
   "source": []
  }
 ],
 "metadata": {
  "kernelspec": {
   "display_name": "Python 3 (ipykernel)",
   "language": "python",
   "name": "python3"
  },
  "language_info": {
   "codemirror_mode": {
    "name": "ipython",
    "version": 3
   },
   "file_extension": ".py",
   "mimetype": "text/x-python",
   "name": "python",
   "nbconvert_exporter": "python",
   "pygments_lexer": "ipython3",
   "version": "3.9.12"
  }
 },
 "nbformat": 4,
 "nbformat_minor": 5
}
