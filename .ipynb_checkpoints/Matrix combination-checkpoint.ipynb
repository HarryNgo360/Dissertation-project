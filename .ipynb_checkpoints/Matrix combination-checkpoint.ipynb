{
 "cells": [
  {
   "cell_type": "code",
   "execution_count": 2,
   "id": "2e395360",
   "metadata": {},
   "outputs": [
    {
     "data": {
      "text/html": [
       "<div>\n",
       "<style scoped>\n",
       "    .dataframe tbody tr th:only-of-type {\n",
       "        vertical-align: middle;\n",
       "    }\n",
       "\n",
       "    .dataframe tbody tr th {\n",
       "        vertical-align: top;\n",
       "    }\n",
       "\n",
       "    .dataframe thead th {\n",
       "        text-align: right;\n",
       "    }\n",
       "</style>\n",
       "<table border=\"1\" class=\"dataframe\">\n",
       "  <thead>\n",
       "    <tr style=\"text-align: right;\">\n",
       "      <th></th>\n",
       "      <th>Paper</th>\n",
       "      <th>Author</th>\n",
       "    </tr>\n",
       "  </thead>\n",
       "  <tbody>\n",
       "    <tr>\n",
       "      <th>0</th>\n",
       "      <td>P01</td>\n",
       "      <td>{v1, v2}</td>\n",
       "    </tr>\n",
       "    <tr>\n",
       "      <th>1</th>\n",
       "      <td>P02</td>\n",
       "      <td>{v1}</td>\n",
       "    </tr>\n",
       "    <tr>\n",
       "      <th>2</th>\n",
       "      <td>P03</td>\n",
       "      <td>{v1, v2, v3}</td>\n",
       "    </tr>\n",
       "    <tr>\n",
       "      <th>3</th>\n",
       "      <td>P04</td>\n",
       "      <td>{v3, v4}</td>\n",
       "    </tr>\n",
       "    <tr>\n",
       "      <th>4</th>\n",
       "      <td>P05</td>\n",
       "      <td>{v3, v2}</td>\n",
       "    </tr>\n",
       "    <tr>\n",
       "      <th>5</th>\n",
       "      <td>P06</td>\n",
       "      <td>{v1, v2, v3}</td>\n",
       "    </tr>\n",
       "    <tr>\n",
       "      <th>6</th>\n",
       "      <td>P07</td>\n",
       "      <td>{v1, v2, v3}</td>\n",
       "    </tr>\n",
       "    <tr>\n",
       "      <th>7</th>\n",
       "      <td>P08</td>\n",
       "      <td>{v4, v5}</td>\n",
       "    </tr>\n",
       "    <tr>\n",
       "      <th>8</th>\n",
       "      <td>P09</td>\n",
       "      <td>{v5, v4}</td>\n",
       "    </tr>\n",
       "    <tr>\n",
       "      <th>9</th>\n",
       "      <td>P10</td>\n",
       "      <td>{v3, v2, v4}</td>\n",
       "    </tr>\n",
       "  </tbody>\n",
       "</table>\n",
       "</div>"
      ],
      "text/plain": [
       "  Paper        Author\n",
       "0   P01      {v1, v2}\n",
       "1   P02          {v1}\n",
       "2   P03  {v1, v2, v3}\n",
       "3   P04      {v3, v4}\n",
       "4   P05      {v3, v2}\n",
       "5   P06  {v1, v2, v3}\n",
       "6   P07  {v1, v2, v3}\n",
       "7   P08      {v4, v5}\n",
       "8   P09      {v5, v4}\n",
       "9   P10  {v3, v2, v4}"
      ]
     },
     "execution_count": 2,
     "metadata": {},
     "output_type": "execute_result"
    }
   ],
   "source": [
    "import pandas as pd \n",
    "\n",
    "df = pd.read_excel('AuthorxArticles.xlsx')\n",
    "df\n"
   ]
  },
  {
   "cell_type": "code",
   "execution_count": 103,
   "id": "a33c69f8",
   "metadata": {},
   "outputs": [],
   "source": [
    "list_author = []\n",
    "for index, row in df.iterrows():\n",
    "    tmp = row['Author']\n",
    "    tmp = tmp.replace('{','')\n",
    "    tmp = tmp.replace('}','')\n",
    "    tmp = tmp.split(',')\n",
    "    [list_author.append(author.strip()) for author in tmp if author not in list_author] # list comprehension"
   ]
  },
  {
   "cell_type": "code",
   "execution_count": 104,
   "id": "9b351ef8",
   "metadata": {},
   "outputs": [
    {
     "data": {
      "text/plain": [
       "['v1',\n",
       " 'v2',\n",
       " 'v2',\n",
       " 'v3',\n",
       " 'v4',\n",
       " 'v2',\n",
       " 'v2',\n",
       " 'v3',\n",
       " 'v2',\n",
       " 'v3',\n",
       " 'v5',\n",
       " 'v4',\n",
       " 'v2',\n",
       " 'v4']"
      ]
     },
     "execution_count": 104,
     "metadata": {},
     "output_type": "execute_result"
    }
   ],
   "source": [
    "list_author"
   ]
  },
  {
   "cell_type": "code",
   "execution_count": 49,
   "id": "1c57cc31",
   "metadata": {},
   "outputs": [],
   "source": [
    "# dict.fromkeys(list_author)"
   ]
  },
  {
   "cell_type": "code",
   "execution_count": 105,
   "id": "4c185e43",
   "metadata": {},
   "outputs": [],
   "source": [
    "list_author = list(dict.fromkeys(list_author)) # remove the duplicates from the list of authors"
   ]
  },
  {
   "cell_type": "code",
   "execution_count": 106,
   "id": "856d3b25",
   "metadata": {},
   "outputs": [
    {
     "data": {
      "text/plain": [
       "['v1', 'v2', 'v3', 'v4', 'v5']"
      ]
     },
     "execution_count": 106,
     "metadata": {},
     "output_type": "execute_result"
    }
   ],
   "source": [
    "list_author"
   ]
  },
  {
   "cell_type": "code",
   "execution_count": 86,
   "id": "1f843f87",
   "metadata": {},
   "outputs": [
    {
     "name": "stdout",
     "output_type": "stream",
     "text": [
      "v1\n",
      "v2\n",
      "v3\n",
      "v4\n",
      "v5\n"
     ]
    }
   ],
   "source": [
    "for author in list_author:\n",
    "    print(author)"
   ]
  },
  {
   "cell_type": "code",
   "execution_count": 88,
   "id": "ec4799c2",
   "metadata": {},
   "outputs": [],
   "source": [
    "list_tmp = list_author.copy()"
   ]
  },
  {
   "cell_type": "code",
   "execution_count": 78,
   "id": "c3c61db2",
   "metadata": {},
   "outputs": [
    {
     "data": {
      "text/plain": [
       "['v1', 'v2', 'v3', 'v4', 'v5']"
      ]
     },
     "execution_count": 78,
     "metadata": {},
     "output_type": "execute_result"
    }
   ],
   "source": [
    "list_tmp"
   ]
  },
  {
   "cell_type": "code",
   "execution_count": 126,
   "id": "67c6678e",
   "metadata": {},
   "outputs": [],
   "source": [
    "list_tmp.remove('v3')"
   ]
  },
  {
   "cell_type": "code",
   "execution_count": 127,
   "id": "7b93b99b",
   "metadata": {},
   "outputs": [
    {
     "data": {
      "text/plain": [
       "['v1', 'v2', 'v4', 'v5']"
      ]
     },
     "execution_count": 127,
     "metadata": {},
     "output_type": "execute_result"
    }
   ],
   "source": [
    "list_tmp"
   ]
  },
  {
   "cell_type": "code",
   "execution_count": 113,
   "id": "87731dd6",
   "metadata": {},
   "outputs": [
    {
     "data": {
      "text/plain": [
       "5"
      ]
     },
     "execution_count": 113,
     "metadata": {},
     "output_type": "execute_result"
    }
   ],
   "source": [
    "len(list_author)"
   ]
  },
  {
   "cell_type": "code",
   "execution_count": 145,
   "id": "3d2be776",
   "metadata": {},
   "outputs": [
    {
     "data": {
      "text/plain": [
       "['v1', 'v2', 'v3', 'v4', 'v5']"
      ]
     },
     "execution_count": 145,
     "metadata": {},
     "output_type": "execute_result"
    }
   ],
   "source": [
    "list_author"
   ]
  },
  {
   "cell_type": "code",
   "execution_count": 151,
   "id": "91c43792",
   "metadata": {},
   "outputs": [],
   "source": [
    "tmp = df.loc[0,'Author']"
   ]
  },
  {
   "cell_type": "code",
   "execution_count": 152,
   "id": "f6fefd16",
   "metadata": {},
   "outputs": [],
   "source": [
    "tmp = tmp.replace('{','')\n",
    "tmp = tmp.replace('}','')\n",
    "tmp = tmp.split(',')"
   ]
  },
  {
   "cell_type": "code",
   "execution_count": 153,
   "id": "f1789ff9",
   "metadata": {},
   "outputs": [
    {
     "data": {
      "text/plain": [
       "['v1', ' v2']"
      ]
     },
     "execution_count": 153,
     "metadata": {},
     "output_type": "execute_result"
    }
   ],
   "source": [
    "tmp"
   ]
  },
  {
   "cell_type": "code",
   "execution_count": 154,
   "id": "f79bb6ef",
   "metadata": {},
   "outputs": [
    {
     "data": {
      "text/plain": [
       "0"
      ]
     },
     "execution_count": 154,
     "metadata": {},
     "output_type": "execute_result"
    }
   ],
   "source": [
    "list_author.index(tmp[0].strip())"
   ]
  },
  {
   "cell_type": "code",
   "execution_count": 155,
   "id": "e685047f",
   "metadata": {},
   "outputs": [
    {
     "data": {
      "text/plain": [
       "1"
      ]
     },
     "execution_count": 155,
     "metadata": {},
     "output_type": "execute_result"
    }
   ],
   "source": [
    "list_author.index(tmp[1].strip())"
   ]
  },
  {
   "cell_type": "code",
   "execution_count": 156,
   "id": "b55bf6ab",
   "metadata": {},
   "outputs": [
    {
     "ename": "IndexError",
     "evalue": "list index out of range",
     "output_type": "error",
     "traceback": [
      "\u001b[1;31m---------------------------------------------------------------------------\u001b[0m",
      "\u001b[1;31mIndexError\u001b[0m                                Traceback (most recent call last)",
      "Input \u001b[1;32mIn [156]\u001b[0m, in \u001b[0;36m<cell line: 1>\u001b[1;34m()\u001b[0m\n\u001b[1;32m----> 1\u001b[0m list_author\u001b[38;5;241m.\u001b[39mindex(\u001b[43mtmp\u001b[49m\u001b[43m[\u001b[49m\u001b[38;5;241;43m2\u001b[39;49m\u001b[43m]\u001b[49m\u001b[38;5;241m.\u001b[39mstrip())\n",
      "\u001b[1;31mIndexError\u001b[0m: list index out of range"
     ]
    }
   ],
   "source": [
    "list_author.index(tmp[2].strip())"
   ]
  },
  {
   "cell_type": "code",
   "execution_count": 170,
   "id": "4018ab94",
   "metadata": {},
   "outputs": [
    {
     "name": "stdout",
     "output_type": "stream",
     "text": [
      "['v1', ' v2']\n",
      "v1\n",
      " v2\n",
      "['v1']\n",
      "v1\n",
      "['v1', ' v2', ' v3']\n",
      "v1\n",
      " v2\n",
      " v3\n",
      "['v3', ' v4']\n",
      "v3\n",
      " v4\n",
      "['v3', ' v2']\n",
      "v3\n",
      " v2\n",
      "['v1', ' v2', ' v3']\n",
      "v1\n",
      " v2\n",
      " v3\n",
      "['v1', ' v2', ' v3']\n",
      "v1\n",
      " v2\n",
      " v3\n",
      "['v4', ' v5']\n",
      "v4\n",
      " v5\n",
      "['v5', ' v4']\n",
      "v5\n",
      " v4\n",
      "['v3', ' v2', ' v4']\n",
      "v3\n",
      " v2\n",
      " v4\n"
     ]
    }
   ],
   "source": [
    "tmp = []\n",
    "for index, row in df.iterrows():\n",
    "    tmp = row['Author']\n",
    "    tmp = tmp.replace('{','')\n",
    "    tmp = tmp.replace('}','')\n",
    "    tmp = tmp.split(',')\n",
    "    print (tmp)\n",
    "\n",
    "    for author in tmp:\n",
    "        print(author)"
   ]
  },
  {
   "cell_type": "code",
   "execution_count": 4,
   "id": "edd77025",
   "metadata": {},
   "outputs": [],
   "source": [
    "import numpy as np"
   ]
  },
  {
   "cell_type": "code",
   "execution_count": 72,
   "id": "75266514",
   "metadata": {},
   "outputs": [],
   "source": [
    "n = len(list_author)\n",
    "V = np.zeros(shape=(n,n))"
   ]
  },
  {
   "cell_type": "code",
   "execution_count": 159,
   "id": "1eb0b26e",
   "metadata": {},
   "outputs": [
    {
     "data": {
      "text/plain": [
       "array([[0., 4., 0., 0., 0.],\n",
       "       [4., 0., 0., 0., 0.],\n",
       "       [0., 0., 0., 0., 0.],\n",
       "       [0., 0., 0., 0., 0.],\n",
       "       [0., 0., 0., 0., 0.]])"
      ]
     },
     "execution_count": 159,
     "metadata": {},
     "output_type": "execute_result"
    }
   ],
   "source": [
    "V"
   ]
  },
  {
   "cell_type": "code",
   "execution_count": 160,
   "id": "d57db3e1",
   "metadata": {},
   "outputs": [],
   "source": [
    "V[list_author.index(tmp[0].strip()),list_author.index(tmp[1].strip())] = V[list_author.index(tmp[0].strip()),list_author.index(tmp[1].strip())] + 1\n",
    "V[list_author.index(tmp[1].strip()),list_author.index(tmp[0].strip())] = V[list_author.index(tmp[0].strip()),list_author.index(tmp[1].strip())]"
   ]
  },
  {
   "cell_type": "code",
   "execution_count": 161,
   "id": "4f038673",
   "metadata": {},
   "outputs": [
    {
     "data": {
      "text/plain": [
       "array([[0., 5., 0., 0., 0.],\n",
       "       [5., 0., 0., 0., 0.],\n",
       "       [0., 0., 0., 0., 0.],\n",
       "       [0., 0., 0., 0., 0.],\n",
       "       [0., 0., 0., 0., 0.]])"
      ]
     },
     "execution_count": 161,
     "metadata": {},
     "output_type": "execute_result"
    }
   ],
   "source": [
    "V"
   ]
  },
  {
   "cell_type": "code",
   "execution_count": null,
   "id": "a3f0d860",
   "metadata": {},
   "outputs": [],
   "source": []
  }
 ],
 "metadata": {
  "kernelspec": {
   "display_name": "Python 3 (ipykernel)",
   "language": "python",
   "name": "python3"
  },
  "language_info": {
   "codemirror_mode": {
    "name": "ipython",
    "version": 3
   },
   "file_extension": ".py",
   "mimetype": "text/x-python",
   "name": "python",
   "nbconvert_exporter": "python",
   "pygments_lexer": "ipython3",
   "version": "3.9.12"
  }
 },
 "nbformat": 4,
 "nbformat_minor": 5
}
