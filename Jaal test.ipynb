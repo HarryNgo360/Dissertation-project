{
 "cells": [
  {
   "cell_type": "code",
   "execution_count": 1,
   "id": "7ff36e09",
   "metadata": {},
   "outputs": [
    {
     "name": "stdout",
     "output_type": "stream",
     "text": [
      "Requirement already satisfied: jaal in c:\\users\\lenovo t440\\anaconda3\\lib\\site-packages (0.1.3)\n",
      "Requirement already satisfied: dash-core-components>=1.15.0 in c:\\users\\lenovo t440\\anaconda3\\lib\\site-packages (from jaal) (2.0.0)\n",
      "Requirement already satisfied: pandas>=1.2.1 in c:\\users\\lenovo t440\\anaconda3\\lib\\site-packages (from jaal) (1.4.2)\n",
      "Requirement already satisfied: dash>=1.19.0 in c:\\users\\lenovo t440\\anaconda3\\lib\\site-packages (from jaal) (2.7.0)\n",
      "Requirement already satisfied: dash-html-components>=1.1.2 in c:\\users\\lenovo t440\\anaconda3\\lib\\site-packages (from jaal) (2.0.0)\n",
      "Requirement already satisfied: dash-bootstrap-components<1 in c:\\users\\lenovo t440\\anaconda3\\lib\\site-packages (from jaal) (0.13.1)\n",
      "Requirement already satisfied: visdcc>=0.0.40 in c:\\users\\lenovo t440\\anaconda3\\lib\\site-packages (from jaal) (0.0.50)\n",
      "Requirement already satisfied: dash-table==5.0.0 in c:\\users\\lenovo t440\\anaconda3\\lib\\site-packages (from dash>=1.19.0->jaal) (5.0.0)\n",
      "Requirement already satisfied: Flask>=1.0.4 in c:\\users\\lenovo t440\\anaconda3\\lib\\site-packages (from dash>=1.19.0->jaal) (1.1.2)\n",
      "Requirement already satisfied: plotly>=5.0.0 in c:\\users\\lenovo t440\\anaconda3\\lib\\site-packages (from dash>=1.19.0->jaal) (5.6.0)\n",
      "Requirement already satisfied: Werkzeug>=0.15 in c:\\users\\lenovo t440\\anaconda3\\lib\\site-packages (from Flask>=1.0.4->dash>=1.19.0->jaal) (2.0.3)\n",
      "Requirement already satisfied: Jinja2>=2.10.1 in c:\\users\\lenovo t440\\anaconda3\\lib\\site-packages (from Flask>=1.0.4->dash>=1.19.0->jaal) (2.11.3)\n",
      "Requirement already satisfied: itsdangerous>=0.24 in c:\\users\\lenovo t440\\anaconda3\\lib\\site-packages (from Flask>=1.0.4->dash>=1.19.0->jaal) (2.0.1)\n",
      "Requirement already satisfied: click>=5.1 in c:\\users\\lenovo t440\\anaconda3\\lib\\site-packages (from Flask>=1.0.4->dash>=1.19.0->jaal) (8.0.4)\n",
      "Requirement already satisfied: colorama in c:\\users\\lenovo t440\\anaconda3\\lib\\site-packages (from click>=5.1->Flask>=1.0.4->dash>=1.19.0->jaal) (0.4.4)\n",
      "Requirement already satisfied: MarkupSafe>=0.23 in c:\\users\\lenovo t440\\anaconda3\\lib\\site-packages (from Jinja2>=2.10.1->Flask>=1.0.4->dash>=1.19.0->jaal) (2.0.1)\n",
      "Requirement already satisfied: python-dateutil>=2.8.1 in c:\\users\\lenovo t440\\anaconda3\\lib\\site-packages (from pandas>=1.2.1->jaal) (2.8.2)\n",
      "Requirement already satisfied: numpy>=1.18.5 in c:\\users\\lenovo t440\\anaconda3\\lib\\site-packages (from pandas>=1.2.1->jaal) (1.21.5)\n",
      "Requirement already satisfied: pytz>=2020.1 in c:\\users\\lenovo t440\\anaconda3\\lib\\site-packages (from pandas>=1.2.1->jaal) (2021.3)\n",
      "Requirement already satisfied: six in c:\\users\\lenovo t440\\anaconda3\\lib\\site-packages (from plotly>=5.0.0->dash>=1.19.0->jaal) (1.16.0)\n",
      "Requirement already satisfied: tenacity>=6.2.0 in c:\\users\\lenovo t440\\anaconda3\\lib\\site-packages (from plotly>=5.0.0->dash>=1.19.0->jaal) (8.0.1)\n",
      "Note: you may need to restart the kernel to use updated packages.\n"
     ]
    }
   ],
   "source": [
    "pip install jaal"
   ]
  },
  {
   "cell_type": "code",
   "execution_count": null,
   "id": "94d509a5",
   "metadata": {},
   "outputs": [],
   "source": [
    "-m venv myenv"
   ]
  },
  {
   "cell_type": "code",
   "execution_count": null,
   "id": "f478a12f",
   "metadata": {},
   "outputs": [],
   "source": [
    ".\\\\myvenv\\\\Scripts\\\\activate.bat"
   ]
  },
  {
   "cell_type": "code",
   "execution_count": null,
   "id": "b083b4db",
   "metadata": {},
   "outputs": [],
   "source": [
    "pip install jupyter-dash"
   ]
  },
  {
   "cell_type": "code",
   "execution_count": null,
   "id": "8804680a",
   "metadata": {},
   "outputs": [],
   "source": [
    "from jupyter-dash import Dash, html, dcc"
   ]
  },
  {
   "cell_type": "code",
   "execution_count": null,
   "id": "d7ad36d4",
   "metadata": {},
   "outputs": [],
   "source": [
    "from jupyter_dash import JupyterDash\n",
    "from dash import dcc\n",
    "from dash import html\n",
    "import dash_core_components as dcc\n",
    "import dash_html_components as html"
   ]
  },
  {
   "cell_type": "code",
   "execution_count": null,
   "id": "a53fe877",
   "metadata": {},
   "outputs": [],
   "source": [
    "# import\n",
    "from jaal import Jaal\n",
    "from jaal.datasets import load_got\n",
    "# load the data\n",
    "edge_df, node_df = load_got()\n",
    "# init Jaal and run server\n",
    "Jaal(edge_df, node_df).plot()"
   ]
  }
 ],
 "metadata": {
  "kernelspec": {
   "display_name": "Python 3 (ipykernel)",
   "language": "python",
   "name": "python3"
  },
  "language_info": {
   "codemirror_mode": {
    "name": "ipython",
    "version": 3
   },
   "file_extension": ".py",
   "mimetype": "text/x-python",
   "name": "python",
   "nbconvert_exporter": "python",
   "pygments_lexer": "ipython3",
   "version": "3.9.12"
  }
 },
 "nbformat": 4,
 "nbformat_minor": 5
}
